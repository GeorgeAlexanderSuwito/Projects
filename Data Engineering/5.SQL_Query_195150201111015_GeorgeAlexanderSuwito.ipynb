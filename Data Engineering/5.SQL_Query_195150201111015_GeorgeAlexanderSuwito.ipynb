{
 "cells": [
  {
   "cell_type": "code",
   "execution_count": 1,
   "id": "609972eb",
   "metadata": {},
   "outputs": [],
   "source": [
    "import sqlite3 as sq3\n",
    "import pandas as pd"
   ]
  },
  {
   "cell_type": "code",
   "execution_count": 2,
   "id": "ec127016",
   "metadata": {},
   "outputs": [],
   "source": [
    "from datetime import datetime\n",
    "def log(message):\n",
    "    timestamp_format = '%Y-%h-%d-%H:%M:%S'\n",
    "    now = datetime.now()\n",
    "    timestamp = now.strftime(timestamp_format)\n",
    "    with open(\"logfile.txt\",'a') as f:\n",
    "        f.write(timestamp+','+message+'\\n')\n",
    "        "
   ]
  },
  {
   "cell_type": "code",
   "execution_count": 3,
   "id": "ea1d7f7c",
   "metadata": {
    "scrolled": false
   },
   "outputs": [],
   "source": [
    "con = sq3.connect(\"movies_database.db\")"
   ]
  },
  {
   "cell_type": "markdown",
   "id": "4750a320",
   "metadata": {},
   "source": [
    "### Create Database dan Tabel"
   ]
  },
  {
   "cell_type": "code",
   "execution_count": 116,
   "id": "5d2d8279",
   "metadata": {},
   "outputs": [],
   "source": [
    "#Tabel sudah dibuat dan dimasukan ke dalam database pada fase Load\n",
    "\n",
    "# movies.to_sql(\"Movies\", con, index = False)\n",
    "# votes.to_sql(\"Votes\", con, index = False)\n",
    "# genres.to_sql(\"Genres\", con, index = False)\n",
    "# prod.to_sql(\"Prod\", con, index = False)"
   ]
  },
  {
   "cell_type": "code",
   "execution_count": 115,
   "id": "0e221fb1",
   "metadata": {
    "scrolled": true
   },
   "outputs": [
    {
     "data": {
      "text/plain": [
       "[('table',\n",
       "  'Movies',\n",
       "  'Movies',\n",
       "  2,\n",
       "  'CREATE TABLE \"Movies\" (\\n\"id\" INTEGER,\\n  \"title\" TEXT,\\n  \"revenue\" REAL,\\n  \"budget\" REAL,\\n  \"belongs_to_collection_name\" TEXT,\\n  \"release_date\" TIMESTAMP\\n)'),\n",
       " ('table',\n",
       "  'Votes',\n",
       "  'Votes',\n",
       "  17,\n",
       "  'CREATE TABLE \"Votes\" (\\n\"id\" INTEGER,\\n  \"vote_count\" INTEGER,\\n  \"vote_average\" REAL\\n)'),\n",
       " ('table',\n",
       "  'Genres',\n",
       "  'Genres',\n",
       "  21,\n",
       "  'CREATE TABLE \"Genres\" (\\n\"genre_id\" INTEGER,\\n  \"genre_name\" TEXT,\\n  \"id\" INTEGER\\n)'),\n",
       " ('table',\n",
       "  'Prod',\n",
       "  'Prod',\n",
       "  34,\n",
       "  'CREATE TABLE \"Prod\" (\\n\"comp_id\" INTEGER,\\n  \"comp_logo_path\" TEXT,\\n  \"comp_name\" TEXT,\\n  \"comp_origin_country\" TEXT,\\n  \"id\" INTEGER\\n)')]"
      ]
     },
     "execution_count": 115,
     "metadata": {},
     "output_type": "execute_result"
    }
   ],
   "source": [
    "con.execute(\"Select * FROM sqlite_master\").fetchall()"
   ]
  },
  {
   "cell_type": "markdown",
   "id": "40c0392c",
   "metadata": {},
   "source": [
    "### Melihat tabel yang ada dalam database"
   ]
  },
  {
   "cell_type": "code",
   "execution_count": 117,
   "id": "2e3527b1",
   "metadata": {},
   "outputs": [
    {
     "data": {
      "text/plain": [
       "[('Genres',), ('Movies',), ('Prod',), ('Votes',)]"
      ]
     },
     "execution_count": 117,
     "metadata": {},
     "output_type": "execute_result"
    }
   ],
   "source": [
    "con.execute(\"SELECT name FROM sqlite_master WHERE type='table' ORDER BY name\").fetchall()"
   ]
  },
  {
   "cell_type": "markdown",
   "id": "4fbf6ae1",
   "metadata": {},
   "source": [
    "### **1.INSERT (3 row baru) pada tabel Movies,genres,dan Prod**"
   ]
  },
  {
   "cell_type": "code",
   "execution_count": 27,
   "id": "0a31fca6",
   "metadata": {
    "scrolled": true
   },
   "outputs": [],
   "source": [
    "log(\"Melakukan proses Query\")"
   ]
  },
  {
   "cell_type": "markdown",
   "id": "37a17fb2",
   "metadata": {},
   "source": [
    "#### `Tabel Movies`"
   ]
  },
  {
   "cell_type": "code",
   "execution_count": 28,
   "id": "b501f019",
   "metadata": {},
   "outputs": [],
   "source": [
    "log(\"INSERT (3 row baru) pada tabel Movies\")"
   ]
  },
  {
   "cell_type": "code",
   "execution_count": 48,
   "id": "9b0cdc8c",
   "metadata": {},
   "outputs": [
    {
     "name": "stdout",
     "output_type": "stream",
     "text": [
      "<class 'pandas.core.frame.DataFrame'>\n",
      "RangeIndex: 983 entries, 0 to 982\n",
      "Data columns (total 6 columns):\n",
      " #   Column                      Non-Null Count  Dtype  \n",
      "---  ------                      --------------  -----  \n",
      " 0   id                          983 non-null    int64  \n",
      " 1   title                       983 non-null    object \n",
      " 2   revenue                     603 non-null    float64\n",
      " 3   budget                      603 non-null    float64\n",
      " 4   belongs_to_collection_name  84 non-null     object \n",
      " 5   release_date                983 non-null    object \n",
      "dtypes: float64(2), int64(1), object(3)\n",
      "memory usage: 46.2+ KB\n"
     ]
    }
   ],
   "source": [
    "pd.read_sql(\"SELECT * FROM Movies \", con).info()"
   ]
  },
  {
   "cell_type": "code",
   "execution_count": 38,
   "id": "73f3392d",
   "metadata": {},
   "outputs": [],
   "source": [
    "con.execute(\"INSERT INTO Movies \\\n",
    "            values(1,'Venom 3',1500.88,250,'Sony Enterprise','2018-05-12 00:00:00')\")\n",
    "\n",
    "con.execute(\"INSERT INTO Movies \\\n",
    "            values(2,'Hulk 3',2100.78,350,'Marvel Studios','2019-03-11 00:00:00')\")\n",
    "\n",
    "con.execute(\"INSERT INTO Movies \\\n",
    "            values(3,'Black Panther 3',1300.44,110,'Disney Enterprise','2019-01-10 00:00:00')\")\n",
    "\n",
    "con.commit()\n",
    "\n"
   ]
  },
  {
   "cell_type": "code",
   "execution_count": 42,
   "id": "14380951",
   "metadata": {
    "scrolled": true
   },
   "outputs": [
    {
     "data": {
      "text/html": [
       "<div>\n",
       "<style scoped>\n",
       "    .dataframe tbody tr th:only-of-type {\n",
       "        vertical-align: middle;\n",
       "    }\n",
       "\n",
       "    .dataframe tbody tr th {\n",
       "        vertical-align: top;\n",
       "    }\n",
       "\n",
       "    .dataframe thead th {\n",
       "        text-align: right;\n",
       "    }\n",
       "</style>\n",
       "<table border=\"1\" class=\"dataframe\">\n",
       "  <thead>\n",
       "    <tr style=\"text-align: right;\">\n",
       "      <th></th>\n",
       "      <th>id</th>\n",
       "      <th>title</th>\n",
       "      <th>revenue</th>\n",
       "      <th>budget</th>\n",
       "      <th>belongs_to_collection_name</th>\n",
       "      <th>release_date</th>\n",
       "    </tr>\n",
       "  </thead>\n",
       "  <tbody>\n",
       "    <tr>\n",
       "      <th>0</th>\n",
       "      <td>1</td>\n",
       "      <td>Venom 3</td>\n",
       "      <td>1500.88</td>\n",
       "      <td>250.0</td>\n",
       "      <td>Sony Enterprise</td>\n",
       "      <td>2018-05-12 00:00:00</td>\n",
       "    </tr>\n",
       "    <tr>\n",
       "      <th>1</th>\n",
       "      <td>2</td>\n",
       "      <td>Hulk 3</td>\n",
       "      <td>2100.78</td>\n",
       "      <td>350.0</td>\n",
       "      <td>Marvel Studios</td>\n",
       "      <td>2019-03-11 00:00:00</td>\n",
       "    </tr>\n",
       "    <tr>\n",
       "      <th>2</th>\n",
       "      <td>3</td>\n",
       "      <td>Black Panther 3</td>\n",
       "      <td>1300.44</td>\n",
       "      <td>110.0</td>\n",
       "      <td>Disney Enterprise</td>\n",
       "      <td>2019-01-10 00:00:00</td>\n",
       "    </tr>\n",
       "  </tbody>\n",
       "</table>\n",
       "</div>"
      ],
      "text/plain": [
       "   id            title  revenue  budget belongs_to_collection_name  \\\n",
       "0   1          Venom 3  1500.88   250.0            Sony Enterprise   \n",
       "1   2           Hulk 3  2100.78   350.0             Marvel Studios   \n",
       "2   3  Black Panther 3  1300.44   110.0          Disney Enterprise   \n",
       "\n",
       "          release_date  \n",
       "0  2018-05-12 00:00:00  \n",
       "1  2019-03-11 00:00:00  \n",
       "2  2019-01-10 00:00:00  "
      ]
     },
     "execution_count": 42,
     "metadata": {},
     "output_type": "execute_result"
    }
   ],
   "source": [
    "pd.read_sql(\"SELECT * FROM Movies WHERE id>=1 AND id<=3\", con)"
   ]
  },
  {
   "cell_type": "markdown",
   "id": "e6d3334f",
   "metadata": {},
   "source": [
    "#### `Tabel genres`"
   ]
  },
  {
   "cell_type": "code",
   "execution_count": 11,
   "id": "9a5a8f0c",
   "metadata": {},
   "outputs": [],
   "source": [
    "log(\"INSERT (3 row baru) pada tabel genres\")"
   ]
  },
  {
   "cell_type": "code",
   "execution_count": 4,
   "id": "980381a9",
   "metadata": {
    "scrolled": true
   },
   "outputs": [
    {
     "name": "stdout",
     "output_type": "stream",
     "text": [
      "<class 'pandas.core.frame.DataFrame'>\n",
      "RangeIndex: 2378 entries, 0 to 2377\n",
      "Data columns (total 3 columns):\n",
      " #   Column      Non-Null Count  Dtype \n",
      "---  ------      --------------  ----- \n",
      " 0   genre_id    2378 non-null   int64 \n",
      " 1   genre_name  2378 non-null   object\n",
      " 2   id          2378 non-null   int64 \n",
      "dtypes: int64(2), object(1)\n",
      "memory usage: 55.9+ KB\n"
     ]
    }
   ],
   "source": [
    "pd.read_sql(\"SELECT * FROM genres\", con).info()"
   ]
  },
  {
   "cell_type": "code",
   "execution_count": 7,
   "id": "66160f0a",
   "metadata": {},
   "outputs": [
    {
     "data": {
      "text/html": [
       "<div>\n",
       "<style scoped>\n",
       "    .dataframe tbody tr th:only-of-type {\n",
       "        vertical-align: middle;\n",
       "    }\n",
       "\n",
       "    .dataframe tbody tr th {\n",
       "        vertical-align: top;\n",
       "    }\n",
       "\n",
       "    .dataframe thead th {\n",
       "        text-align: right;\n",
       "    }\n",
       "</style>\n",
       "<table border=\"1\" class=\"dataframe\">\n",
       "  <thead>\n",
       "    <tr style=\"text-align: right;\">\n",
       "      <th></th>\n",
       "      <th>genre_id</th>\n",
       "      <th>genre_name</th>\n",
       "      <th>id</th>\n",
       "    </tr>\n",
       "  </thead>\n",
       "  <tbody>\n",
       "    <tr>\n",
       "      <th>0</th>\n",
       "      <td>53</td>\n",
       "      <td>Thriller</td>\n",
       "      <td>38700</td>\n",
       "    </tr>\n",
       "    <tr>\n",
       "      <th>1</th>\n",
       "      <td>28</td>\n",
       "      <td>Action</td>\n",
       "      <td>38700</td>\n",
       "    </tr>\n",
       "    <tr>\n",
       "      <th>2</th>\n",
       "      <td>80</td>\n",
       "      <td>Crime</td>\n",
       "      <td>38700</td>\n",
       "    </tr>\n",
       "  </tbody>\n",
       "</table>\n",
       "</div>"
      ],
      "text/plain": [
       "   genre_id genre_name     id\n",
       "0        53   Thriller  38700\n",
       "1        28     Action  38700\n",
       "2        80      Crime  38700"
      ]
     },
     "execution_count": 7,
     "metadata": {},
     "output_type": "execute_result"
    }
   ],
   "source": [
    "pd.read_sql(\"SELECT * FROM genres WHERE id=38700\", con)"
   ]
  },
  {
   "cell_type": "code",
   "execution_count": 8,
   "id": "2d2a3da1",
   "metadata": {},
   "outputs": [],
   "source": [
    "con.execute(\"INSERT INTO genres \\\n",
    "            values(878,'Science Fiction',38700)\")\n",
    "\n",
    "con.execute(\"INSERT INTO genres \\\n",
    "            values(12,'Adventure',38700)\")\n",
    "\n",
    "con.execute(\"INSERT INTO genres \\\n",
    "            values(14,'Fantasy',38700)\")\n",
    "\n",
    "con.commit()\n"
   ]
  },
  {
   "cell_type": "code",
   "execution_count": 9,
   "id": "50a51beb",
   "metadata": {
    "scrolled": true
   },
   "outputs": [
    {
     "data": {
      "text/html": [
       "<div>\n",
       "<style scoped>\n",
       "    .dataframe tbody tr th:only-of-type {\n",
       "        vertical-align: middle;\n",
       "    }\n",
       "\n",
       "    .dataframe tbody tr th {\n",
       "        vertical-align: top;\n",
       "    }\n",
       "\n",
       "    .dataframe thead th {\n",
       "        text-align: right;\n",
       "    }\n",
       "</style>\n",
       "<table border=\"1\" class=\"dataframe\">\n",
       "  <thead>\n",
       "    <tr style=\"text-align: right;\">\n",
       "      <th></th>\n",
       "      <th>genre_id</th>\n",
       "      <th>genre_name</th>\n",
       "      <th>id</th>\n",
       "    </tr>\n",
       "  </thead>\n",
       "  <tbody>\n",
       "    <tr>\n",
       "      <th>0</th>\n",
       "      <td>53</td>\n",
       "      <td>Thriller</td>\n",
       "      <td>38700</td>\n",
       "    </tr>\n",
       "    <tr>\n",
       "      <th>1</th>\n",
       "      <td>28</td>\n",
       "      <td>Action</td>\n",
       "      <td>38700</td>\n",
       "    </tr>\n",
       "    <tr>\n",
       "      <th>2</th>\n",
       "      <td>80</td>\n",
       "      <td>Crime</td>\n",
       "      <td>38700</td>\n",
       "    </tr>\n",
       "    <tr>\n",
       "      <th>3</th>\n",
       "      <td>878</td>\n",
       "      <td>Science Fiction</td>\n",
       "      <td>38700</td>\n",
       "    </tr>\n",
       "    <tr>\n",
       "      <th>4</th>\n",
       "      <td>12</td>\n",
       "      <td>Adventure</td>\n",
       "      <td>38700</td>\n",
       "    </tr>\n",
       "    <tr>\n",
       "      <th>5</th>\n",
       "      <td>14</td>\n",
       "      <td>Fantasy</td>\n",
       "      <td>38700</td>\n",
       "    </tr>\n",
       "  </tbody>\n",
       "</table>\n",
       "</div>"
      ],
      "text/plain": [
       "   genre_id       genre_name     id\n",
       "0        53         Thriller  38700\n",
       "1        28           Action  38700\n",
       "2        80            Crime  38700\n",
       "3       878  Science Fiction  38700\n",
       "4        12        Adventure  38700\n",
       "5        14          Fantasy  38700"
      ]
     },
     "execution_count": 9,
     "metadata": {},
     "output_type": "execute_result"
    }
   ],
   "source": [
    "pd.read_sql(\"SELECT * FROM genres WHERE id=38700\", con)"
   ]
  },
  {
   "cell_type": "markdown",
   "id": "91130f81",
   "metadata": {},
   "source": [
    "#### `Tabel Prod`"
   ]
  },
  {
   "cell_type": "code",
   "execution_count": 14,
   "id": "d2f7d2f4",
   "metadata": {},
   "outputs": [],
   "source": [
    "log(\"INSERT (3 row baru) pada tabel Prod\")"
   ]
  },
  {
   "cell_type": "code",
   "execution_count": 13,
   "id": "9e39b8b3",
   "metadata": {
    "scrolled": true
   },
   "outputs": [
    {
     "name": "stdout",
     "output_type": "stream",
     "text": [
      "<class 'pandas.core.frame.DataFrame'>\n",
      "RangeIndex: 3 entries, 0 to 2\n",
      "Data columns (total 5 columns):\n",
      " #   Column               Non-Null Count  Dtype \n",
      "---  ------               --------------  ----- \n",
      " 0   comp_id              3 non-null      int64 \n",
      " 1   comp_logo_path       1 non-null      object\n",
      " 2   comp_name            3 non-null      object\n",
      " 3   comp_origin_country  3 non-null      object\n",
      " 4   id                   3 non-null      int64 \n",
      "dtypes: int64(2), object(3)\n",
      "memory usage: 248.0+ bytes\n"
     ]
    }
   ],
   "source": [
    "pd.read_sql(\"SELECT * FROM prod WHERE id=38700\", con).info()"
   ]
  },
  {
   "cell_type": "code",
   "execution_count": 12,
   "id": "51b01540",
   "metadata": {
    "scrolled": true
   },
   "outputs": [
    {
     "data": {
      "text/html": [
       "<div>\n",
       "<style scoped>\n",
       "    .dataframe tbody tr th:only-of-type {\n",
       "        vertical-align: middle;\n",
       "    }\n",
       "\n",
       "    .dataframe tbody tr th {\n",
       "        vertical-align: top;\n",
       "    }\n",
       "\n",
       "    .dataframe thead th {\n",
       "        text-align: right;\n",
       "    }\n",
       "</style>\n",
       "<table border=\"1\" class=\"dataframe\">\n",
       "  <thead>\n",
       "    <tr style=\"text-align: right;\">\n",
       "      <th></th>\n",
       "      <th>comp_id</th>\n",
       "      <th>comp_logo_path</th>\n",
       "      <th>comp_name</th>\n",
       "      <th>comp_origin_country</th>\n",
       "      <th>id</th>\n",
       "    </tr>\n",
       "  </thead>\n",
       "  <tbody>\n",
       "    <tr>\n",
       "      <th>0</th>\n",
       "      <td>84792</td>\n",
       "      <td>None</td>\n",
       "      <td>2.0 Entertainment</td>\n",
       "      <td>US</td>\n",
       "      <td>38700</td>\n",
       "    </tr>\n",
       "    <tr>\n",
       "      <th>1</th>\n",
       "      <td>10288</td>\n",
       "      <td>None</td>\n",
       "      <td>Don Simpson/Jerry Bruckheimer Films</td>\n",
       "      <td>US</td>\n",
       "      <td>38700</td>\n",
       "    </tr>\n",
       "    <tr>\n",
       "      <th>2</th>\n",
       "      <td>907</td>\n",
       "      <td>/ca5SWI5uvU985f8Kbb4xc8AmVWH.png</td>\n",
       "      <td>Overbrook Entertainment</td>\n",
       "      <td>US</td>\n",
       "      <td>38700</td>\n",
       "    </tr>\n",
       "  </tbody>\n",
       "</table>\n",
       "</div>"
      ],
      "text/plain": [
       "   comp_id                    comp_logo_path  \\\n",
       "0    84792                              None   \n",
       "1    10288                              None   \n",
       "2      907  /ca5SWI5uvU985f8Kbb4xc8AmVWH.png   \n",
       "\n",
       "                             comp_name comp_origin_country     id  \n",
       "0                    2.0 Entertainment                  US  38700  \n",
       "1  Don Simpson/Jerry Bruckheimer Films                  US  38700  \n",
       "2              Overbrook Entertainment                  US  38700  "
      ]
     },
     "execution_count": 12,
     "metadata": {},
     "output_type": "execute_result"
    }
   ],
   "source": [
    "pd.read_sql(\"SELECT * FROM prod WHERE id=38700\", con)"
   ]
  },
  {
   "cell_type": "code",
   "execution_count": 15,
   "id": "f7135349",
   "metadata": {},
   "outputs": [],
   "source": [
    "con.execute(\"INSERT INTO Prod \\\n",
    "            values(139032,'None','Ouroboros Films','US',38700)\")\n",
    "\n",
    "con.execute(\"INSERT INTO Prod \\\n",
    "            values(146418,'None','Robert Fox and Jones','US',38700)\")\n",
    "\n",
    "con.execute(\"INSERT INTO Prod \\\n",
    "            values(146419,'None','Tintoretto Entertainment','US',38700)\")\n",
    "\n",
    "con.commit()\n"
   ]
  },
  {
   "cell_type": "code",
   "execution_count": 16,
   "id": "ceb8e22b",
   "metadata": {},
   "outputs": [
    {
     "data": {
      "text/html": [
       "<div>\n",
       "<style scoped>\n",
       "    .dataframe tbody tr th:only-of-type {\n",
       "        vertical-align: middle;\n",
       "    }\n",
       "\n",
       "    .dataframe tbody tr th {\n",
       "        vertical-align: top;\n",
       "    }\n",
       "\n",
       "    .dataframe thead th {\n",
       "        text-align: right;\n",
       "    }\n",
       "</style>\n",
       "<table border=\"1\" class=\"dataframe\">\n",
       "  <thead>\n",
       "    <tr style=\"text-align: right;\">\n",
       "      <th></th>\n",
       "      <th>comp_id</th>\n",
       "      <th>comp_logo_path</th>\n",
       "      <th>comp_name</th>\n",
       "      <th>comp_origin_country</th>\n",
       "      <th>id</th>\n",
       "    </tr>\n",
       "  </thead>\n",
       "  <tbody>\n",
       "    <tr>\n",
       "      <th>0</th>\n",
       "      <td>84792</td>\n",
       "      <td>None</td>\n",
       "      <td>2.0 Entertainment</td>\n",
       "      <td>US</td>\n",
       "      <td>38700</td>\n",
       "    </tr>\n",
       "    <tr>\n",
       "      <th>1</th>\n",
       "      <td>10288</td>\n",
       "      <td>None</td>\n",
       "      <td>Don Simpson/Jerry Bruckheimer Films</td>\n",
       "      <td>US</td>\n",
       "      <td>38700</td>\n",
       "    </tr>\n",
       "    <tr>\n",
       "      <th>2</th>\n",
       "      <td>907</td>\n",
       "      <td>/ca5SWI5uvU985f8Kbb4xc8AmVWH.png</td>\n",
       "      <td>Overbrook Entertainment</td>\n",
       "      <td>US</td>\n",
       "      <td>38700</td>\n",
       "    </tr>\n",
       "    <tr>\n",
       "      <th>3</th>\n",
       "      <td>139032</td>\n",
       "      <td>None</td>\n",
       "      <td>Ouroboros Films</td>\n",
       "      <td>US</td>\n",
       "      <td>38700</td>\n",
       "    </tr>\n",
       "    <tr>\n",
       "      <th>4</th>\n",
       "      <td>146418</td>\n",
       "      <td>None</td>\n",
       "      <td>Robert Fox and Jones</td>\n",
       "      <td>US</td>\n",
       "      <td>38700</td>\n",
       "    </tr>\n",
       "    <tr>\n",
       "      <th>5</th>\n",
       "      <td>146419</td>\n",
       "      <td>None</td>\n",
       "      <td>Tintoretto Entertainment</td>\n",
       "      <td>US</td>\n",
       "      <td>38700</td>\n",
       "    </tr>\n",
       "  </tbody>\n",
       "</table>\n",
       "</div>"
      ],
      "text/plain": [
       "   comp_id                    comp_logo_path  \\\n",
       "0    84792                              None   \n",
       "1    10288                              None   \n",
       "2      907  /ca5SWI5uvU985f8Kbb4xc8AmVWH.png   \n",
       "3   139032                              None   \n",
       "4   146418                              None   \n",
       "5   146419                              None   \n",
       "\n",
       "                             comp_name comp_origin_country     id  \n",
       "0                    2.0 Entertainment                  US  38700  \n",
       "1  Don Simpson/Jerry Bruckheimer Films                  US  38700  \n",
       "2              Overbrook Entertainment                  US  38700  \n",
       "3                      Ouroboros Films                  US  38700  \n",
       "4                 Robert Fox and Jones                  US  38700  \n",
       "5             Tintoretto Entertainment                  US  38700  "
      ]
     },
     "execution_count": 16,
     "metadata": {},
     "output_type": "execute_result"
    }
   ],
   "source": [
    "pd.read_sql(\"SELECT * FROM prod WHERE id=38700\", con)"
   ]
  },
  {
   "cell_type": "markdown",
   "id": "5ac9f5af",
   "metadata": {},
   "source": [
    "### **2.UPDATE (3 row) pada tabel Movies,genres,dan Prod**"
   ]
  },
  {
   "cell_type": "markdown",
   "id": "0358a9d4",
   "metadata": {},
   "source": [
    "#### `Tabel Movies`"
   ]
  },
  {
   "cell_type": "code",
   "execution_count": 22,
   "id": "a5420f66",
   "metadata": {},
   "outputs": [],
   "source": [
    "log(\"UPDATE (3 row) pada tabel Movies\")"
   ]
  },
  {
   "cell_type": "code",
   "execution_count": 18,
   "id": "c16265e8",
   "metadata": {
    "scrolled": true
   },
   "outputs": [
    {
     "data": {
      "text/html": [
       "<div>\n",
       "<style scoped>\n",
       "    .dataframe tbody tr th:only-of-type {\n",
       "        vertical-align: middle;\n",
       "    }\n",
       "\n",
       "    .dataframe tbody tr th {\n",
       "        vertical-align: top;\n",
       "    }\n",
       "\n",
       "    .dataframe thead th {\n",
       "        text-align: right;\n",
       "    }\n",
       "</style>\n",
       "<table border=\"1\" class=\"dataframe\">\n",
       "  <thead>\n",
       "    <tr style=\"text-align: right;\">\n",
       "      <th></th>\n",
       "      <th>id</th>\n",
       "      <th>title</th>\n",
       "      <th>revenue</th>\n",
       "      <th>budget</th>\n",
       "      <th>belongs_to_collection_name</th>\n",
       "      <th>release_date</th>\n",
       "    </tr>\n",
       "  </thead>\n",
       "  <tbody>\n",
       "    <tr>\n",
       "      <th>0</th>\n",
       "      <td>1</td>\n",
       "      <td>Venom 3</td>\n",
       "      <td>1500.88</td>\n",
       "      <td>250.0</td>\n",
       "      <td>Sony Enterprise</td>\n",
       "      <td>2018-05-12 00:00:00</td>\n",
       "    </tr>\n",
       "    <tr>\n",
       "      <th>1</th>\n",
       "      <td>2</td>\n",
       "      <td>Hulk 3</td>\n",
       "      <td>2100.78</td>\n",
       "      <td>350.0</td>\n",
       "      <td>Marvel Studios</td>\n",
       "      <td>2019-03-11 00:00:00</td>\n",
       "    </tr>\n",
       "    <tr>\n",
       "      <th>2</th>\n",
       "      <td>3</td>\n",
       "      <td>Black Panther 3</td>\n",
       "      <td>1300.44</td>\n",
       "      <td>110.0</td>\n",
       "      <td>Disney Enterprise</td>\n",
       "      <td>2019-01-10 00:00:00</td>\n",
       "    </tr>\n",
       "  </tbody>\n",
       "</table>\n",
       "</div>"
      ],
      "text/plain": [
       "   id            title  revenue  budget belongs_to_collection_name  \\\n",
       "0   1          Venom 3  1500.88   250.0            Sony Enterprise   \n",
       "1   2           Hulk 3  2100.78   350.0             Marvel Studios   \n",
       "2   3  Black Panther 3  1300.44   110.0          Disney Enterprise   \n",
       "\n",
       "          release_date  \n",
       "0  2018-05-12 00:00:00  \n",
       "1  2019-03-11 00:00:00  \n",
       "2  2019-01-10 00:00:00  "
      ]
     },
     "execution_count": 18,
     "metadata": {},
     "output_type": "execute_result"
    }
   ],
   "source": [
    "pd.read_sql(\"SELECT * FROM Movies WHERE id>=1 AND id<=3\", con)"
   ]
  },
  {
   "cell_type": "code",
   "execution_count": 19,
   "id": "6bbaf693",
   "metadata": {},
   "outputs": [],
   "source": [
    "con.execute(\"UPDATE Movies \\\n",
    "           SET title = 'Venom 4'\\\n",
    "           WHERE id=1\")\n",
    "\n",
    "con.execute(\"UPDATE Movies \\\n",
    "           SET title = 'Hulk 4'\\\n",
    "           WHERE id=2\")\n",
    "\n",
    "con.execute(\"UPDATE Movies \\\n",
    "           SET title = 'Black Panther 4'\\\n",
    "           WHERE id=2\")\n",
    "\n",
    "con.commit()\n"
   ]
  },
  {
   "cell_type": "code",
   "execution_count": 20,
   "id": "7cf6dccc",
   "metadata": {},
   "outputs": [
    {
     "data": {
      "text/html": [
       "<div>\n",
       "<style scoped>\n",
       "    .dataframe tbody tr th:only-of-type {\n",
       "        vertical-align: middle;\n",
       "    }\n",
       "\n",
       "    .dataframe tbody tr th {\n",
       "        vertical-align: top;\n",
       "    }\n",
       "\n",
       "    .dataframe thead th {\n",
       "        text-align: right;\n",
       "    }\n",
       "</style>\n",
       "<table border=\"1\" class=\"dataframe\">\n",
       "  <thead>\n",
       "    <tr style=\"text-align: right;\">\n",
       "      <th></th>\n",
       "      <th>id</th>\n",
       "      <th>title</th>\n",
       "      <th>revenue</th>\n",
       "      <th>budget</th>\n",
       "      <th>belongs_to_collection_name</th>\n",
       "      <th>release_date</th>\n",
       "    </tr>\n",
       "  </thead>\n",
       "  <tbody>\n",
       "    <tr>\n",
       "      <th>0</th>\n",
       "      <td>1</td>\n",
       "      <td>Venom 4</td>\n",
       "      <td>1500.88</td>\n",
       "      <td>250.0</td>\n",
       "      <td>Sony Enterprise</td>\n",
       "      <td>2018-05-12 00:00:00</td>\n",
       "    </tr>\n",
       "    <tr>\n",
       "      <th>1</th>\n",
       "      <td>2</td>\n",
       "      <td>Black Panther 4</td>\n",
       "      <td>2100.78</td>\n",
       "      <td>350.0</td>\n",
       "      <td>Marvel Studios</td>\n",
       "      <td>2019-03-11 00:00:00</td>\n",
       "    </tr>\n",
       "    <tr>\n",
       "      <th>2</th>\n",
       "      <td>3</td>\n",
       "      <td>Black Panther 3</td>\n",
       "      <td>1300.44</td>\n",
       "      <td>110.0</td>\n",
       "      <td>Disney Enterprise</td>\n",
       "      <td>2019-01-10 00:00:00</td>\n",
       "    </tr>\n",
       "  </tbody>\n",
       "</table>\n",
       "</div>"
      ],
      "text/plain": [
       "   id            title  revenue  budget belongs_to_collection_name  \\\n",
       "0   1          Venom 4  1500.88   250.0            Sony Enterprise   \n",
       "1   2  Black Panther 4  2100.78   350.0             Marvel Studios   \n",
       "2   3  Black Panther 3  1300.44   110.0          Disney Enterprise   \n",
       "\n",
       "          release_date  \n",
       "0  2018-05-12 00:00:00  \n",
       "1  2019-03-11 00:00:00  \n",
       "2  2019-01-10 00:00:00  "
      ]
     },
     "execution_count": 20,
     "metadata": {},
     "output_type": "execute_result"
    }
   ],
   "source": [
    "pd.read_sql(\"SELECT * FROM Movies WHERE id>=1 AND id<=3\", con)"
   ]
  },
  {
   "cell_type": "markdown",
   "id": "ba39b17e",
   "metadata": {},
   "source": [
    "#### `Tabel genres`"
   ]
  },
  {
   "cell_type": "code",
   "execution_count": 25,
   "id": "bc4b82e1",
   "metadata": {},
   "outputs": [],
   "source": [
    "log(\"UPDATE (3 row) pada tabel genres\")"
   ]
  },
  {
   "cell_type": "code",
   "execution_count": 21,
   "id": "bdda4ebe",
   "metadata": {
    "scrolled": true
   },
   "outputs": [
    {
     "data": {
      "text/html": [
       "<div>\n",
       "<style scoped>\n",
       "    .dataframe tbody tr th:only-of-type {\n",
       "        vertical-align: middle;\n",
       "    }\n",
       "\n",
       "    .dataframe tbody tr th {\n",
       "        vertical-align: top;\n",
       "    }\n",
       "\n",
       "    .dataframe thead th {\n",
       "        text-align: right;\n",
       "    }\n",
       "</style>\n",
       "<table border=\"1\" class=\"dataframe\">\n",
       "  <thead>\n",
       "    <tr style=\"text-align: right;\">\n",
       "      <th></th>\n",
       "      <th>genre_id</th>\n",
       "      <th>genre_name</th>\n",
       "      <th>id</th>\n",
       "    </tr>\n",
       "  </thead>\n",
       "  <tbody>\n",
       "    <tr>\n",
       "      <th>0</th>\n",
       "      <td>53</td>\n",
       "      <td>Thriller</td>\n",
       "      <td>38700</td>\n",
       "    </tr>\n",
       "    <tr>\n",
       "      <th>1</th>\n",
       "      <td>28</td>\n",
       "      <td>Action</td>\n",
       "      <td>38700</td>\n",
       "    </tr>\n",
       "    <tr>\n",
       "      <th>2</th>\n",
       "      <td>80</td>\n",
       "      <td>Crime</td>\n",
       "      <td>38700</td>\n",
       "    </tr>\n",
       "    <tr>\n",
       "      <th>3</th>\n",
       "      <td>878</td>\n",
       "      <td>Science Fiction</td>\n",
       "      <td>38700</td>\n",
       "    </tr>\n",
       "    <tr>\n",
       "      <th>4</th>\n",
       "      <td>12</td>\n",
       "      <td>Adventure</td>\n",
       "      <td>38700</td>\n",
       "    </tr>\n",
       "    <tr>\n",
       "      <th>5</th>\n",
       "      <td>14</td>\n",
       "      <td>Fantasy</td>\n",
       "      <td>38700</td>\n",
       "    </tr>\n",
       "  </tbody>\n",
       "</table>\n",
       "</div>"
      ],
      "text/plain": [
       "   genre_id       genre_name     id\n",
       "0        53         Thriller  38700\n",
       "1        28           Action  38700\n",
       "2        80            Crime  38700\n",
       "3       878  Science Fiction  38700\n",
       "4        12        Adventure  38700\n",
       "5        14          Fantasy  38700"
      ]
     },
     "execution_count": 21,
     "metadata": {},
     "output_type": "execute_result"
    }
   ],
   "source": [
    "pd.read_sql(\"SELECT * FROM genres WHERE id=38700\", con)"
   ]
  },
  {
   "cell_type": "code",
   "execution_count": 32,
   "id": "ce8f4e1f",
   "metadata": {},
   "outputs": [],
   "source": [
    "con.execute(\"UPDATE genres \\\n",
    "           SET genre_name = 'Comedy'\\\n",
    "           WHERE genre_id=53\")\n",
    "\n",
    "con.execute(\"UPDATE genres \\\n",
    "           SET genre_name = 'Horor'\\\n",
    "           WHERE genre_id=28\")\n",
    "\n",
    "con.execute(\"UPDATE genres \\\n",
    "           SET genre_name = 'Family'\\\n",
    "           WHERE genre_id=80\")\n",
    "\n",
    "\n",
    "con.commit()\n"
   ]
  },
  {
   "cell_type": "code",
   "execution_count": 33,
   "id": "56852000",
   "metadata": {},
   "outputs": [
    {
     "data": {
      "text/html": [
       "<div>\n",
       "<style scoped>\n",
       "    .dataframe tbody tr th:only-of-type {\n",
       "        vertical-align: middle;\n",
       "    }\n",
       "\n",
       "    .dataframe tbody tr th {\n",
       "        vertical-align: top;\n",
       "    }\n",
       "\n",
       "    .dataframe thead th {\n",
       "        text-align: right;\n",
       "    }\n",
       "</style>\n",
       "<table border=\"1\" class=\"dataframe\">\n",
       "  <thead>\n",
       "    <tr style=\"text-align: right;\">\n",
       "      <th></th>\n",
       "      <th>genre_id</th>\n",
       "      <th>genre_name</th>\n",
       "      <th>id</th>\n",
       "    </tr>\n",
       "  </thead>\n",
       "  <tbody>\n",
       "    <tr>\n",
       "      <th>0</th>\n",
       "      <td>53</td>\n",
       "      <td>Comedy</td>\n",
       "      <td>38700</td>\n",
       "    </tr>\n",
       "    <tr>\n",
       "      <th>1</th>\n",
       "      <td>28</td>\n",
       "      <td>Horor</td>\n",
       "      <td>38700</td>\n",
       "    </tr>\n",
       "    <tr>\n",
       "      <th>2</th>\n",
       "      <td>80</td>\n",
       "      <td>Family</td>\n",
       "      <td>38700</td>\n",
       "    </tr>\n",
       "    <tr>\n",
       "      <th>3</th>\n",
       "      <td>878</td>\n",
       "      <td>Science Fiction</td>\n",
       "      <td>38700</td>\n",
       "    </tr>\n",
       "    <tr>\n",
       "      <th>4</th>\n",
       "      <td>12</td>\n",
       "      <td>Adventure</td>\n",
       "      <td>38700</td>\n",
       "    </tr>\n",
       "    <tr>\n",
       "      <th>5</th>\n",
       "      <td>14</td>\n",
       "      <td>Fantasy</td>\n",
       "      <td>38700</td>\n",
       "    </tr>\n",
       "  </tbody>\n",
       "</table>\n",
       "</div>"
      ],
      "text/plain": [
       "   genre_id       genre_name     id\n",
       "0        53           Comedy  38700\n",
       "1        28            Horor  38700\n",
       "2        80           Family  38700\n",
       "3       878  Science Fiction  38700\n",
       "4        12        Adventure  38700\n",
       "5        14          Fantasy  38700"
      ]
     },
     "execution_count": 33,
     "metadata": {},
     "output_type": "execute_result"
    }
   ],
   "source": [
    "pd.read_sql(\"SELECT * FROM genres WHERE id=38700\", con)\n"
   ]
  },
  {
   "cell_type": "markdown",
   "id": "4b495970",
   "metadata": {},
   "source": [
    "#### `Tabel prod`"
   ]
  },
  {
   "cell_type": "code",
   "execution_count": 38,
   "id": "5ba65473",
   "metadata": {},
   "outputs": [],
   "source": [
    "log(\"UPDATE (3 row) pada tabel prod\")"
   ]
  },
  {
   "cell_type": "code",
   "execution_count": 34,
   "id": "25fda822",
   "metadata": {
    "scrolled": false
   },
   "outputs": [
    {
     "data": {
      "text/html": [
       "<div>\n",
       "<style scoped>\n",
       "    .dataframe tbody tr th:only-of-type {\n",
       "        vertical-align: middle;\n",
       "    }\n",
       "\n",
       "    .dataframe tbody tr th {\n",
       "        vertical-align: top;\n",
       "    }\n",
       "\n",
       "    .dataframe thead th {\n",
       "        text-align: right;\n",
       "    }\n",
       "</style>\n",
       "<table border=\"1\" class=\"dataframe\">\n",
       "  <thead>\n",
       "    <tr style=\"text-align: right;\">\n",
       "      <th></th>\n",
       "      <th>comp_id</th>\n",
       "      <th>comp_logo_path</th>\n",
       "      <th>comp_name</th>\n",
       "      <th>comp_origin_country</th>\n",
       "      <th>id</th>\n",
       "    </tr>\n",
       "  </thead>\n",
       "  <tbody>\n",
       "    <tr>\n",
       "      <th>0</th>\n",
       "      <td>84792</td>\n",
       "      <td>None</td>\n",
       "      <td>2.0 Entertainment</td>\n",
       "      <td>US</td>\n",
       "      <td>38700</td>\n",
       "    </tr>\n",
       "    <tr>\n",
       "      <th>1</th>\n",
       "      <td>10288</td>\n",
       "      <td>None</td>\n",
       "      <td>Don Simpson/Jerry Bruckheimer Films</td>\n",
       "      <td>US</td>\n",
       "      <td>38700</td>\n",
       "    </tr>\n",
       "    <tr>\n",
       "      <th>2</th>\n",
       "      <td>907</td>\n",
       "      <td>/ca5SWI5uvU985f8Kbb4xc8AmVWH.png</td>\n",
       "      <td>Overbrook Entertainment</td>\n",
       "      <td>US</td>\n",
       "      <td>38700</td>\n",
       "    </tr>\n",
       "    <tr>\n",
       "      <th>3</th>\n",
       "      <td>139032</td>\n",
       "      <td>None</td>\n",
       "      <td>Ouroboros Films</td>\n",
       "      <td>US</td>\n",
       "      <td>38700</td>\n",
       "    </tr>\n",
       "    <tr>\n",
       "      <th>4</th>\n",
       "      <td>146418</td>\n",
       "      <td>None</td>\n",
       "      <td>Robert Fox and Jones</td>\n",
       "      <td>US</td>\n",
       "      <td>38700</td>\n",
       "    </tr>\n",
       "    <tr>\n",
       "      <th>5</th>\n",
       "      <td>146419</td>\n",
       "      <td>None</td>\n",
       "      <td>Tintoretto Entertainment</td>\n",
       "      <td>US</td>\n",
       "      <td>38700</td>\n",
       "    </tr>\n",
       "  </tbody>\n",
       "</table>\n",
       "</div>"
      ],
      "text/plain": [
       "   comp_id                    comp_logo_path  \\\n",
       "0    84792                              None   \n",
       "1    10288                              None   \n",
       "2      907  /ca5SWI5uvU985f8Kbb4xc8AmVWH.png   \n",
       "3   139032                              None   \n",
       "4   146418                              None   \n",
       "5   146419                              None   \n",
       "\n",
       "                             comp_name comp_origin_country     id  \n",
       "0                    2.0 Entertainment                  US  38700  \n",
       "1  Don Simpson/Jerry Bruckheimer Films                  US  38700  \n",
       "2              Overbrook Entertainment                  US  38700  \n",
       "3                      Ouroboros Films                  US  38700  \n",
       "4                 Robert Fox and Jones                  US  38700  \n",
       "5             Tintoretto Entertainment                  US  38700  "
      ]
     },
     "execution_count": 34,
     "metadata": {},
     "output_type": "execute_result"
    }
   ],
   "source": [
    "pd.read_sql(\"SELECT * FROM prod WHERE id=38700\", con)"
   ]
  },
  {
   "cell_type": "code",
   "execution_count": 36,
   "id": "cff1fbdf",
   "metadata": {},
   "outputs": [],
   "source": [
    "con.execute(\"UPDATE prod \\\n",
    "           SET comp_origin_country = 'JP'\\\n",
    "           WHERE comp_id=139032\")\n",
    "\n",
    "con.execute(\"UPDATE prod \\\n",
    "           SET comp_origin_country = 'ID'\\\n",
    "           WHERE comp_id=146418\")\n",
    "\n",
    "con.execute(\"UPDATE prod \\\n",
    "           SET comp_origin_country = 'NG'\\\n",
    "           WHERE comp_id=146419\")\n",
    "\n",
    "\n",
    "con.commit()\n"
   ]
  },
  {
   "cell_type": "code",
   "execution_count": 37,
   "id": "3d1bae5c",
   "metadata": {
    "scrolled": true
   },
   "outputs": [
    {
     "data": {
      "text/html": [
       "<div>\n",
       "<style scoped>\n",
       "    .dataframe tbody tr th:only-of-type {\n",
       "        vertical-align: middle;\n",
       "    }\n",
       "\n",
       "    .dataframe tbody tr th {\n",
       "        vertical-align: top;\n",
       "    }\n",
       "\n",
       "    .dataframe thead th {\n",
       "        text-align: right;\n",
       "    }\n",
       "</style>\n",
       "<table border=\"1\" class=\"dataframe\">\n",
       "  <thead>\n",
       "    <tr style=\"text-align: right;\">\n",
       "      <th></th>\n",
       "      <th>comp_id</th>\n",
       "      <th>comp_logo_path</th>\n",
       "      <th>comp_name</th>\n",
       "      <th>comp_origin_country</th>\n",
       "      <th>id</th>\n",
       "    </tr>\n",
       "  </thead>\n",
       "  <tbody>\n",
       "    <tr>\n",
       "      <th>0</th>\n",
       "      <td>84792</td>\n",
       "      <td>None</td>\n",
       "      <td>2.0 Entertainment</td>\n",
       "      <td>US</td>\n",
       "      <td>38700</td>\n",
       "    </tr>\n",
       "    <tr>\n",
       "      <th>1</th>\n",
       "      <td>10288</td>\n",
       "      <td>None</td>\n",
       "      <td>Don Simpson/Jerry Bruckheimer Films</td>\n",
       "      <td>US</td>\n",
       "      <td>38700</td>\n",
       "    </tr>\n",
       "    <tr>\n",
       "      <th>2</th>\n",
       "      <td>907</td>\n",
       "      <td>/ca5SWI5uvU985f8Kbb4xc8AmVWH.png</td>\n",
       "      <td>Overbrook Entertainment</td>\n",
       "      <td>US</td>\n",
       "      <td>38700</td>\n",
       "    </tr>\n",
       "    <tr>\n",
       "      <th>3</th>\n",
       "      <td>139032</td>\n",
       "      <td>None</td>\n",
       "      <td>Ouroboros Films</td>\n",
       "      <td>JP</td>\n",
       "      <td>38700</td>\n",
       "    </tr>\n",
       "    <tr>\n",
       "      <th>4</th>\n",
       "      <td>146418</td>\n",
       "      <td>None</td>\n",
       "      <td>Robert Fox and Jones</td>\n",
       "      <td>ID</td>\n",
       "      <td>38700</td>\n",
       "    </tr>\n",
       "    <tr>\n",
       "      <th>5</th>\n",
       "      <td>146419</td>\n",
       "      <td>None</td>\n",
       "      <td>Tintoretto Entertainment</td>\n",
       "      <td>NG</td>\n",
       "      <td>38700</td>\n",
       "    </tr>\n",
       "  </tbody>\n",
       "</table>\n",
       "</div>"
      ],
      "text/plain": [
       "   comp_id                    comp_logo_path  \\\n",
       "0    84792                              None   \n",
       "1    10288                              None   \n",
       "2      907  /ca5SWI5uvU985f8Kbb4xc8AmVWH.png   \n",
       "3   139032                              None   \n",
       "4   146418                              None   \n",
       "5   146419                              None   \n",
       "\n",
       "                             comp_name comp_origin_country     id  \n",
       "0                    2.0 Entertainment                  US  38700  \n",
       "1  Don Simpson/Jerry Bruckheimer Films                  US  38700  \n",
       "2              Overbrook Entertainment                  US  38700  \n",
       "3                      Ouroboros Films                  JP  38700  \n",
       "4                 Robert Fox and Jones                  ID  38700  \n",
       "5             Tintoretto Entertainment                  NG  38700  "
      ]
     },
     "execution_count": 37,
     "metadata": {},
     "output_type": "execute_result"
    }
   ],
   "source": [
    "pd.read_sql(\"SELECT * FROM prod WHERE id=38700\", con)"
   ]
  },
  {
   "cell_type": "markdown",
   "id": "1c68d26c",
   "metadata": {},
   "source": [
    "### **3.Delete (3 row) pada tabel Movies,genres,dan Prod**"
   ]
  },
  {
   "cell_type": "markdown",
   "id": "8717064b",
   "metadata": {},
   "source": [
    "#### `Tabel Movies`"
   ]
  },
  {
   "cell_type": "code",
   "execution_count": 41,
   "id": "256e1c7d",
   "metadata": {},
   "outputs": [],
   "source": [
    "log(\"Delete (3 row) pada tabel Movies\")"
   ]
  },
  {
   "cell_type": "code",
   "execution_count": 43,
   "id": "0e0423a2",
   "metadata": {},
   "outputs": [
    {
     "data": {
      "text/html": [
       "<div>\n",
       "<style scoped>\n",
       "    .dataframe tbody tr th:only-of-type {\n",
       "        vertical-align: middle;\n",
       "    }\n",
       "\n",
       "    .dataframe tbody tr th {\n",
       "        vertical-align: top;\n",
       "    }\n",
       "\n",
       "    .dataframe thead th {\n",
       "        text-align: right;\n",
       "    }\n",
       "</style>\n",
       "<table border=\"1\" class=\"dataframe\">\n",
       "  <thead>\n",
       "    <tr style=\"text-align: right;\">\n",
       "      <th></th>\n",
       "      <th>id</th>\n",
       "      <th>title</th>\n",
       "      <th>revenue</th>\n",
       "      <th>budget</th>\n",
       "      <th>belongs_to_collection_name</th>\n",
       "      <th>release_date</th>\n",
       "    </tr>\n",
       "  </thead>\n",
       "  <tbody>\n",
       "    <tr>\n",
       "      <th>0</th>\n",
       "      <td>1</td>\n",
       "      <td>Venom 4</td>\n",
       "      <td>1500.88</td>\n",
       "      <td>250.0</td>\n",
       "      <td>Sony Enterprise</td>\n",
       "      <td>2018-05-12 00:00:00</td>\n",
       "    </tr>\n",
       "    <tr>\n",
       "      <th>1</th>\n",
       "      <td>2</td>\n",
       "      <td>Black Panther 4</td>\n",
       "      <td>2100.78</td>\n",
       "      <td>350.0</td>\n",
       "      <td>Marvel Studios</td>\n",
       "      <td>2019-03-11 00:00:00</td>\n",
       "    </tr>\n",
       "    <tr>\n",
       "      <th>2</th>\n",
       "      <td>3</td>\n",
       "      <td>Black Panther 3</td>\n",
       "      <td>1300.44</td>\n",
       "      <td>110.0</td>\n",
       "      <td>Disney Enterprise</td>\n",
       "      <td>2019-01-10 00:00:00</td>\n",
       "    </tr>\n",
       "  </tbody>\n",
       "</table>\n",
       "</div>"
      ],
      "text/plain": [
       "   id            title  revenue  budget belongs_to_collection_name  \\\n",
       "0   1          Venom 4  1500.88   250.0            Sony Enterprise   \n",
       "1   2  Black Panther 4  2100.78   350.0             Marvel Studios   \n",
       "2   3  Black Panther 3  1300.44   110.0          Disney Enterprise   \n",
       "\n",
       "          release_date  \n",
       "0  2018-05-12 00:00:00  \n",
       "1  2019-03-11 00:00:00  \n",
       "2  2019-01-10 00:00:00  "
      ]
     },
     "execution_count": 43,
     "metadata": {},
     "output_type": "execute_result"
    }
   ],
   "source": [
    "pd.read_sql(\"SELECT * FROM Movies WHERE id>=1 AND id<=3\",con)"
   ]
  },
  {
   "cell_type": "code",
   "execution_count": 44,
   "id": "3c0b7c1a",
   "metadata": {},
   "outputs": [],
   "source": [
    "con.execute(\"DELETE FROM Movies \\\n",
    "           WHERE id=1\")\n",
    "\n",
    "con.execute(\"DELETE FROM Movies \\\n",
    "           WHERE id=2\")\n",
    "\n",
    "con.execute(\"DELETE FROM Movies \\\n",
    "           WHERE id=3\")\n",
    "\n",
    "\n",
    "con.commit()\n"
   ]
  },
  {
   "cell_type": "code",
   "execution_count": 45,
   "id": "38f0f7ca",
   "metadata": {},
   "outputs": [
    {
     "data": {
      "text/html": [
       "<div>\n",
       "<style scoped>\n",
       "    .dataframe tbody tr th:only-of-type {\n",
       "        vertical-align: middle;\n",
       "    }\n",
       "\n",
       "    .dataframe tbody tr th {\n",
       "        vertical-align: top;\n",
       "    }\n",
       "\n",
       "    .dataframe thead th {\n",
       "        text-align: right;\n",
       "    }\n",
       "</style>\n",
       "<table border=\"1\" class=\"dataframe\">\n",
       "  <thead>\n",
       "    <tr style=\"text-align: right;\">\n",
       "      <th></th>\n",
       "      <th>id</th>\n",
       "      <th>title</th>\n",
       "      <th>revenue</th>\n",
       "      <th>budget</th>\n",
       "      <th>belongs_to_collection_name</th>\n",
       "      <th>release_date</th>\n",
       "    </tr>\n",
       "  </thead>\n",
       "  <tbody>\n",
       "  </tbody>\n",
       "</table>\n",
       "</div>"
      ],
      "text/plain": [
       "Empty DataFrame\n",
       "Columns: [id, title, revenue, budget, belongs_to_collection_name, release_date]\n",
       "Index: []"
      ]
     },
     "execution_count": 45,
     "metadata": {},
     "output_type": "execute_result"
    }
   ],
   "source": [
    "pd.read_sql(\"SELECT * FROM Movies WHERE id>=1 AND id<=3\",con)"
   ]
  },
  {
   "cell_type": "markdown",
   "id": "d8d376e5",
   "metadata": {},
   "source": [
    "#### `Tabel genres`"
   ]
  },
  {
   "cell_type": "code",
   "execution_count": 47,
   "id": "4ddbd041",
   "metadata": {},
   "outputs": [],
   "source": [
    "log(\"Delete (3 row) pada tabel genres\")"
   ]
  },
  {
   "cell_type": "code",
   "execution_count": 48,
   "id": "d32c4595",
   "metadata": {},
   "outputs": [
    {
     "data": {
      "text/html": [
       "<div>\n",
       "<style scoped>\n",
       "    .dataframe tbody tr th:only-of-type {\n",
       "        vertical-align: middle;\n",
       "    }\n",
       "\n",
       "    .dataframe tbody tr th {\n",
       "        vertical-align: top;\n",
       "    }\n",
       "\n",
       "    .dataframe thead th {\n",
       "        text-align: right;\n",
       "    }\n",
       "</style>\n",
       "<table border=\"1\" class=\"dataframe\">\n",
       "  <thead>\n",
       "    <tr style=\"text-align: right;\">\n",
       "      <th></th>\n",
       "      <th>genre_id</th>\n",
       "      <th>genre_name</th>\n",
       "      <th>id</th>\n",
       "    </tr>\n",
       "  </thead>\n",
       "  <tbody>\n",
       "    <tr>\n",
       "      <th>0</th>\n",
       "      <td>53</td>\n",
       "      <td>Comedy</td>\n",
       "      <td>38700</td>\n",
       "    </tr>\n",
       "    <tr>\n",
       "      <th>1</th>\n",
       "      <td>28</td>\n",
       "      <td>Horor</td>\n",
       "      <td>38700</td>\n",
       "    </tr>\n",
       "    <tr>\n",
       "      <th>2</th>\n",
       "      <td>80</td>\n",
       "      <td>Family</td>\n",
       "      <td>38700</td>\n",
       "    </tr>\n",
       "    <tr>\n",
       "      <th>3</th>\n",
       "      <td>878</td>\n",
       "      <td>Science Fiction</td>\n",
       "      <td>38700</td>\n",
       "    </tr>\n",
       "    <tr>\n",
       "      <th>4</th>\n",
       "      <td>12</td>\n",
       "      <td>Adventure</td>\n",
       "      <td>38700</td>\n",
       "    </tr>\n",
       "    <tr>\n",
       "      <th>5</th>\n",
       "      <td>14</td>\n",
       "      <td>Fantasy</td>\n",
       "      <td>38700</td>\n",
       "    </tr>\n",
       "  </tbody>\n",
       "</table>\n",
       "</div>"
      ],
      "text/plain": [
       "   genre_id       genre_name     id\n",
       "0        53           Comedy  38700\n",
       "1        28            Horor  38700\n",
       "2        80           Family  38700\n",
       "3       878  Science Fiction  38700\n",
       "4        12        Adventure  38700\n",
       "5        14          Fantasy  38700"
      ]
     },
     "execution_count": 48,
     "metadata": {},
     "output_type": "execute_result"
    }
   ],
   "source": [
    "pd.read_sql(\"SELECT * FROM genres WHERE id=38700\", con)"
   ]
  },
  {
   "cell_type": "code",
   "execution_count": 49,
   "id": "73448be6",
   "metadata": {},
   "outputs": [],
   "source": [
    "con.execute(\"DELETE FROM genres \\\n",
    "           WHERE genre_id=53 AND id=38700\")\n",
    "\n",
    "con.execute(\"DELETE FROM genres \\\n",
    "           WHERE genre_id=28 AND id=38700\")\n",
    "\n",
    "con.execute(\"DELETE FROM genres \\\n",
    "           WHERE genre_id=80 AND id=38700\")\n",
    "\n",
    "\n",
    "con.commit()\n"
   ]
  },
  {
   "cell_type": "code",
   "execution_count": 50,
   "id": "a6a0c1b0",
   "metadata": {},
   "outputs": [
    {
     "data": {
      "text/html": [
       "<div>\n",
       "<style scoped>\n",
       "    .dataframe tbody tr th:only-of-type {\n",
       "        vertical-align: middle;\n",
       "    }\n",
       "\n",
       "    .dataframe tbody tr th {\n",
       "        vertical-align: top;\n",
       "    }\n",
       "\n",
       "    .dataframe thead th {\n",
       "        text-align: right;\n",
       "    }\n",
       "</style>\n",
       "<table border=\"1\" class=\"dataframe\">\n",
       "  <thead>\n",
       "    <tr style=\"text-align: right;\">\n",
       "      <th></th>\n",
       "      <th>genre_id</th>\n",
       "      <th>genre_name</th>\n",
       "      <th>id</th>\n",
       "    </tr>\n",
       "  </thead>\n",
       "  <tbody>\n",
       "    <tr>\n",
       "      <th>0</th>\n",
       "      <td>878</td>\n",
       "      <td>Science Fiction</td>\n",
       "      <td>38700</td>\n",
       "    </tr>\n",
       "    <tr>\n",
       "      <th>1</th>\n",
       "      <td>12</td>\n",
       "      <td>Adventure</td>\n",
       "      <td>38700</td>\n",
       "    </tr>\n",
       "    <tr>\n",
       "      <th>2</th>\n",
       "      <td>14</td>\n",
       "      <td>Fantasy</td>\n",
       "      <td>38700</td>\n",
       "    </tr>\n",
       "  </tbody>\n",
       "</table>\n",
       "</div>"
      ],
      "text/plain": [
       "   genre_id       genre_name     id\n",
       "0       878  Science Fiction  38700\n",
       "1        12        Adventure  38700\n",
       "2        14          Fantasy  38700"
      ]
     },
     "execution_count": 50,
     "metadata": {},
     "output_type": "execute_result"
    }
   ],
   "source": [
    "pd.read_sql(\"SELECT * FROM genres WHERE id=38700\", con)"
   ]
  },
  {
   "cell_type": "markdown",
   "id": "83d8c284",
   "metadata": {},
   "source": [
    "#### `Tabel prod`"
   ]
  },
  {
   "cell_type": "code",
   "execution_count": 52,
   "id": "ff7be8c1",
   "metadata": {},
   "outputs": [],
   "source": [
    "log(\"Delete (3 row) pada tabel prod\")"
   ]
  },
  {
   "cell_type": "code",
   "execution_count": 51,
   "id": "2759839f",
   "metadata": {},
   "outputs": [
    {
     "data": {
      "text/html": [
       "<div>\n",
       "<style scoped>\n",
       "    .dataframe tbody tr th:only-of-type {\n",
       "        vertical-align: middle;\n",
       "    }\n",
       "\n",
       "    .dataframe tbody tr th {\n",
       "        vertical-align: top;\n",
       "    }\n",
       "\n",
       "    .dataframe thead th {\n",
       "        text-align: right;\n",
       "    }\n",
       "</style>\n",
       "<table border=\"1\" class=\"dataframe\">\n",
       "  <thead>\n",
       "    <tr style=\"text-align: right;\">\n",
       "      <th></th>\n",
       "      <th>comp_id</th>\n",
       "      <th>comp_logo_path</th>\n",
       "      <th>comp_name</th>\n",
       "      <th>comp_origin_country</th>\n",
       "      <th>id</th>\n",
       "    </tr>\n",
       "  </thead>\n",
       "  <tbody>\n",
       "    <tr>\n",
       "      <th>0</th>\n",
       "      <td>84792</td>\n",
       "      <td>None</td>\n",
       "      <td>2.0 Entertainment</td>\n",
       "      <td>US</td>\n",
       "      <td>38700</td>\n",
       "    </tr>\n",
       "    <tr>\n",
       "      <th>1</th>\n",
       "      <td>10288</td>\n",
       "      <td>None</td>\n",
       "      <td>Don Simpson/Jerry Bruckheimer Films</td>\n",
       "      <td>US</td>\n",
       "      <td>38700</td>\n",
       "    </tr>\n",
       "    <tr>\n",
       "      <th>2</th>\n",
       "      <td>907</td>\n",
       "      <td>/ca5SWI5uvU985f8Kbb4xc8AmVWH.png</td>\n",
       "      <td>Overbrook Entertainment</td>\n",
       "      <td>US</td>\n",
       "      <td>38700</td>\n",
       "    </tr>\n",
       "    <tr>\n",
       "      <th>3</th>\n",
       "      <td>139032</td>\n",
       "      <td>None</td>\n",
       "      <td>Ouroboros Films</td>\n",
       "      <td>JP</td>\n",
       "      <td>38700</td>\n",
       "    </tr>\n",
       "    <tr>\n",
       "      <th>4</th>\n",
       "      <td>146418</td>\n",
       "      <td>None</td>\n",
       "      <td>Robert Fox and Jones</td>\n",
       "      <td>ID</td>\n",
       "      <td>38700</td>\n",
       "    </tr>\n",
       "    <tr>\n",
       "      <th>5</th>\n",
       "      <td>146419</td>\n",
       "      <td>None</td>\n",
       "      <td>Tintoretto Entertainment</td>\n",
       "      <td>NG</td>\n",
       "      <td>38700</td>\n",
       "    </tr>\n",
       "  </tbody>\n",
       "</table>\n",
       "</div>"
      ],
      "text/plain": [
       "   comp_id                    comp_logo_path  \\\n",
       "0    84792                              None   \n",
       "1    10288                              None   \n",
       "2      907  /ca5SWI5uvU985f8Kbb4xc8AmVWH.png   \n",
       "3   139032                              None   \n",
       "4   146418                              None   \n",
       "5   146419                              None   \n",
       "\n",
       "                             comp_name comp_origin_country     id  \n",
       "0                    2.0 Entertainment                  US  38700  \n",
       "1  Don Simpson/Jerry Bruckheimer Films                  US  38700  \n",
       "2              Overbrook Entertainment                  US  38700  \n",
       "3                      Ouroboros Films                  JP  38700  \n",
       "4                 Robert Fox and Jones                  ID  38700  \n",
       "5             Tintoretto Entertainment                  NG  38700  "
      ]
     },
     "execution_count": 51,
     "metadata": {},
     "output_type": "execute_result"
    }
   ],
   "source": [
    "pd.read_sql(\"SELECT * FROM prod WHERE id=38700\", con)"
   ]
  },
  {
   "cell_type": "code",
   "execution_count": 53,
   "id": "cbcd74ff",
   "metadata": {},
   "outputs": [],
   "source": [
    "con.execute(\"DELETE FROM prod \\\n",
    "           WHERE comp_id=139032 AND id=38700\")\n",
    "\n",
    "con.execute(\"DELETE FROM prod \\\n",
    "           WHERE comp_id=146418 AND id=38700\")\n",
    "\n",
    "con.execute(\"DELETE FROM prod \\\n",
    "           WHERE comp_id=146419 AND id=38700\")\n",
    "\n",
    "\n",
    "con.commit()\n"
   ]
  },
  {
   "cell_type": "code",
   "execution_count": 54,
   "id": "c62135cb",
   "metadata": {},
   "outputs": [
    {
     "data": {
      "text/html": [
       "<div>\n",
       "<style scoped>\n",
       "    .dataframe tbody tr th:only-of-type {\n",
       "        vertical-align: middle;\n",
       "    }\n",
       "\n",
       "    .dataframe tbody tr th {\n",
       "        vertical-align: top;\n",
       "    }\n",
       "\n",
       "    .dataframe thead th {\n",
       "        text-align: right;\n",
       "    }\n",
       "</style>\n",
       "<table border=\"1\" class=\"dataframe\">\n",
       "  <thead>\n",
       "    <tr style=\"text-align: right;\">\n",
       "      <th></th>\n",
       "      <th>comp_id</th>\n",
       "      <th>comp_logo_path</th>\n",
       "      <th>comp_name</th>\n",
       "      <th>comp_origin_country</th>\n",
       "      <th>id</th>\n",
       "    </tr>\n",
       "  </thead>\n",
       "  <tbody>\n",
       "    <tr>\n",
       "      <th>0</th>\n",
       "      <td>84792</td>\n",
       "      <td>None</td>\n",
       "      <td>2.0 Entertainment</td>\n",
       "      <td>US</td>\n",
       "      <td>38700</td>\n",
       "    </tr>\n",
       "    <tr>\n",
       "      <th>1</th>\n",
       "      <td>10288</td>\n",
       "      <td>None</td>\n",
       "      <td>Don Simpson/Jerry Bruckheimer Films</td>\n",
       "      <td>US</td>\n",
       "      <td>38700</td>\n",
       "    </tr>\n",
       "    <tr>\n",
       "      <th>2</th>\n",
       "      <td>907</td>\n",
       "      <td>/ca5SWI5uvU985f8Kbb4xc8AmVWH.png</td>\n",
       "      <td>Overbrook Entertainment</td>\n",
       "      <td>US</td>\n",
       "      <td>38700</td>\n",
       "    </tr>\n",
       "  </tbody>\n",
       "</table>\n",
       "</div>"
      ],
      "text/plain": [
       "   comp_id                    comp_logo_path  \\\n",
       "0    84792                              None   \n",
       "1    10288                              None   \n",
       "2      907  /ca5SWI5uvU985f8Kbb4xc8AmVWH.png   \n",
       "\n",
       "                             comp_name comp_origin_country     id  \n",
       "0                    2.0 Entertainment                  US  38700  \n",
       "1  Don Simpson/Jerry Bruckheimer Films                  US  38700  \n",
       "2              Overbrook Entertainment                  US  38700  "
      ]
     },
     "execution_count": 54,
     "metadata": {},
     "output_type": "execute_result"
    }
   ],
   "source": [
    "pd.read_sql(\"SELECT * FROM prod WHERE id=38700\", con)"
   ]
  },
  {
   "cell_type": "markdown",
   "id": "3935f3de",
   "metadata": {},
   "source": [
    "### **4.Count Query pada tabel Movies**"
   ]
  },
  {
   "cell_type": "code",
   "execution_count": 55,
   "id": "2ee8460f",
   "metadata": {},
   "outputs": [],
   "source": [
    "log(\"3 contoh Count Query pada tabel Movies\")"
   ]
  },
  {
   "cell_type": "markdown",
   "id": "3f4198db",
   "metadata": {},
   "source": [
    "**`Tabel Movies`**"
   ]
  },
  {
   "cell_type": "code",
   "execution_count": 105,
   "id": "be450e14",
   "metadata": {
    "scrolled": false
   },
   "outputs": [
    {
     "name": "stdout",
     "output_type": "stream",
     "text": [
      "<class 'pandas.core.frame.DataFrame'>\n",
      "Index: 0 entries\n",
      "Data columns (total 6 columns):\n",
      " #   Column                      Non-Null Count  Dtype \n",
      "---  ------                      --------------  ----- \n",
      " 0   id                          0 non-null      object\n",
      " 1   title                       0 non-null      object\n",
      " 2   revenue                     0 non-null      object\n",
      " 3   budget                      0 non-null      object\n",
      " 4   belongs_to_collection_name  0 non-null      object\n",
      " 5   release_date                0 non-null      object\n",
      "dtypes: object(6)\n",
      "memory usage: 0.0+ bytes\n"
     ]
    }
   ],
   "source": [
    "pd.read_sql(\"SELECT * FROM Movies WHERE id>=1 AND id<=3\",con).info()"
   ]
  },
  {
   "cell_type": "markdown",
   "id": "b0ce1a96",
   "metadata": {},
   "source": [
    "1. Mencari banyak judul film (DISNTINCT) pada tabel Movies"
   ]
  },
  {
   "cell_type": "code",
   "execution_count": 111,
   "id": "006b6484",
   "metadata": {
    "scrolled": true
   },
   "outputs": [
    {
     "data": {
      "text/html": [
       "<div>\n",
       "<style scoped>\n",
       "    .dataframe tbody tr th:only-of-type {\n",
       "        vertical-align: middle;\n",
       "    }\n",
       "\n",
       "    .dataframe tbody tr th {\n",
       "        vertical-align: top;\n",
       "    }\n",
       "\n",
       "    .dataframe thead th {\n",
       "        text-align: right;\n",
       "    }\n",
       "</style>\n",
       "<table border=\"1\" class=\"dataframe\">\n",
       "  <thead>\n",
       "    <tr style=\"text-align: right;\">\n",
       "      <th></th>\n",
       "      <th>banyak_film</th>\n",
       "    </tr>\n",
       "  </thead>\n",
       "  <tbody>\n",
       "    <tr>\n",
       "      <th>0</th>\n",
       "      <td>979</td>\n",
       "    </tr>\n",
       "  </tbody>\n",
       "</table>\n",
       "</div>"
      ],
      "text/plain": [
       "   banyak_film\n",
       "0          979"
      ]
     },
     "execution_count": 111,
     "metadata": {},
     "output_type": "execute_result"
    }
   ],
   "source": [
    "pd.read_sql(\"SELECT COUNT(DISTINCT title) as banyak_film FROM Movies\",con)"
   ]
  },
  {
   "cell_type": "markdown",
   "id": "6f998b34",
   "metadata": {},
   "source": [
    "2. Mencari revenue terkecil pada tabel Movies berdasarkan kepemilikan film"
   ]
  },
  {
   "cell_type": "code",
   "execution_count": 114,
   "id": "a7dd3f2b",
   "metadata": {},
   "outputs": [
    {
     "data": {
      "text/html": [
       "<div>\n",
       "<style scoped>\n",
       "    .dataframe tbody tr th:only-of-type {\n",
       "        vertical-align: middle;\n",
       "    }\n",
       "\n",
       "    .dataframe tbody tr th {\n",
       "        vertical-align: top;\n",
       "    }\n",
       "\n",
       "    .dataframe thead th {\n",
       "        text-align: right;\n",
       "    }\n",
       "</style>\n",
       "<table border=\"1\" class=\"dataframe\">\n",
       "  <thead>\n",
       "    <tr style=\"text-align: right;\">\n",
       "      <th></th>\n",
       "      <th>rev</th>\n",
       "      <th>belongs_to_collection_name</th>\n",
       "    </tr>\n",
       "  </thead>\n",
       "  <tbody>\n",
       "    <tr>\n",
       "      <th>0</th>\n",
       "      <td>0.000001</td>\n",
       "      <td>None</td>\n",
       "    </tr>\n",
       "  </tbody>\n",
       "</table>\n",
       "</div>"
      ],
      "text/plain": [
       "        rev belongs_to_collection_name\n",
       "0  0.000001                       None"
      ]
     },
     "execution_count": 114,
     "metadata": {},
     "output_type": "execute_result"
    }
   ],
   "source": [
    "pd.read_sql(\"SELECT min(revenue) as rev ,belongs_to_collection_name FROM Movies WHERE revenue>0 \",con)"
   ]
  },
  {
   "cell_type": "markdown",
   "id": "9cacc14d",
   "metadata": {},
   "source": [
    "2.1. Mencari 5 revenue terkecil pada tabel Movies berdasarkan kepemilikan film"
   ]
  },
  {
   "cell_type": "code",
   "execution_count": 107,
   "id": "9249b1f2",
   "metadata": {
    "scrolled": false
   },
   "outputs": [
    {
     "data": {
      "text/html": [
       "<div>\n",
       "<style scoped>\n",
       "    .dataframe tbody tr th:only-of-type {\n",
       "        vertical-align: middle;\n",
       "    }\n",
       "\n",
       "    .dataframe tbody tr th {\n",
       "        vertical-align: top;\n",
       "    }\n",
       "\n",
       "    .dataframe thead th {\n",
       "        text-align: right;\n",
       "    }\n",
       "</style>\n",
       "<table border=\"1\" class=\"dataframe\">\n",
       "  <thead>\n",
       "    <tr style=\"text-align: right;\">\n",
       "      <th></th>\n",
       "      <th>rev</th>\n",
       "      <th>belongs_to_collection_name</th>\n",
       "    </tr>\n",
       "  </thead>\n",
       "  <tbody>\n",
       "    <tr>\n",
       "      <th>0</th>\n",
       "      <td>0.000001</td>\n",
       "      <td>None</td>\n",
       "    </tr>\n",
       "    <tr>\n",
       "      <th>1</th>\n",
       "      <td>0.526114</td>\n",
       "      <td>Code Geass: Lelouch of the Rebellion Recap Fil...</td>\n",
       "    </tr>\n",
       "    <tr>\n",
       "      <th>2</th>\n",
       "      <td>1.502605</td>\n",
       "      <td>Magical Girl Lyrical Nanoha Collection</td>\n",
       "    </tr>\n",
       "    <tr>\n",
       "      <th>3</th>\n",
       "      <td>3.501037</td>\n",
       "      <td>G.O.R.A. Collection</td>\n",
       "    </tr>\n",
       "    <tr>\n",
       "      <th>4</th>\n",
       "      <td>28.646544</td>\n",
       "      <td>Teen Titans Go! Collection</td>\n",
       "    </tr>\n",
       "  </tbody>\n",
       "</table>\n",
       "</div>"
      ],
      "text/plain": [
       "         rev                         belongs_to_collection_name\n",
       "0   0.000001                                               None\n",
       "1   0.526114  Code Geass: Lelouch of the Rebellion Recap Fil...\n",
       "2   1.502605             Magical Girl Lyrical Nanoha Collection\n",
       "3   3.501037                                G.O.R.A. Collection\n",
       "4  28.646544                         Teen Titans Go! Collection"
      ]
     },
     "execution_count": 107,
     "metadata": {},
     "output_type": "execute_result"
    }
   ],
   "source": [
    "pd.read_sql(\"SELECT min(revenue) as rev ,belongs_to_collection_name FROM Movies WHERE revenue>0 GROUP BY belongs_to_collection_name ORDER BY rev ASC LIMIT 5\",con)"
   ]
  },
  {
   "cell_type": "markdown",
   "id": "3f3058e2",
   "metadata": {},
   "source": [
    "3. Mencari budget terbesar pada tabel Movies berdasarkan kepemilikan film"
   ]
  },
  {
   "cell_type": "code",
   "execution_count": 113,
   "id": "549b5f09",
   "metadata": {
    "scrolled": false
   },
   "outputs": [
    {
     "data": {
      "text/html": [
       "<div>\n",
       "<style scoped>\n",
       "    .dataframe tbody tr th:only-of-type {\n",
       "        vertical-align: middle;\n",
       "    }\n",
       "\n",
       "    .dataframe tbody tr th {\n",
       "        vertical-align: top;\n",
       "    }\n",
       "\n",
       "    .dataframe thead th {\n",
       "        text-align: right;\n",
       "    }\n",
       "</style>\n",
       "<table border=\"1\" class=\"dataframe\">\n",
       "  <thead>\n",
       "    <tr style=\"text-align: right;\">\n",
       "      <th></th>\n",
       "      <th>budget</th>\n",
       "      <th>belongs_to_collection_name</th>\n",
       "    </tr>\n",
       "  </thead>\n",
       "  <tbody>\n",
       "    <tr>\n",
       "      <th>0</th>\n",
       "      <td>300.0</td>\n",
       "      <td>The Avengers Collection</td>\n",
       "    </tr>\n",
       "  </tbody>\n",
       "</table>\n",
       "</div>"
      ],
      "text/plain": [
       "   budget belongs_to_collection_name\n",
       "0   300.0    The Avengers Collection"
      ]
     },
     "execution_count": 113,
     "metadata": {},
     "output_type": "execute_result"
    }
   ],
   "source": [
    "pd.read_sql(\"SELECT max(budget) as budget,belongs_to_collection_name FROM Movies \",con)"
   ]
  },
  {
   "cell_type": "markdown",
   "id": "9b31d980",
   "metadata": {},
   "source": [
    "3.1. Mencari 5 budget tertinggi berdasarkan kepimilikan film"
   ]
  },
  {
   "cell_type": "code",
   "execution_count": 110,
   "id": "e064285f",
   "metadata": {
    "scrolled": false
   },
   "outputs": [
    {
     "data": {
      "text/html": [
       "<div>\n",
       "<style scoped>\n",
       "    .dataframe tbody tr th:only-of-type {\n",
       "        vertical-align: middle;\n",
       "    }\n",
       "\n",
       "    .dataframe tbody tr th {\n",
       "        vertical-align: top;\n",
       "    }\n",
       "\n",
       "    .dataframe thead th {\n",
       "        text-align: right;\n",
       "    }\n",
       "</style>\n",
       "<table border=\"1\" class=\"dataframe\">\n",
       "  <thead>\n",
       "    <tr style=\"text-align: right;\">\n",
       "      <th></th>\n",
       "      <th>budget</th>\n",
       "      <th>belongs_to_collection_name</th>\n",
       "    </tr>\n",
       "  </thead>\n",
       "  <tbody>\n",
       "    <tr>\n",
       "      <th>0</th>\n",
       "      <td>300.0</td>\n",
       "      <td>The Avengers Collection</td>\n",
       "    </tr>\n",
       "    <tr>\n",
       "      <th>1</th>\n",
       "      <td>250.0</td>\n",
       "      <td>None</td>\n",
       "    </tr>\n",
       "    <tr>\n",
       "      <th>2</th>\n",
       "      <td>200.0</td>\n",
       "      <td>Black Panther Collection</td>\n",
       "    </tr>\n",
       "    <tr>\n",
       "      <th>3</th>\n",
       "      <td>170.0</td>\n",
       "      <td>Jurassic Park Collection</td>\n",
       "    </tr>\n",
       "    <tr>\n",
       "      <th>4</th>\n",
       "      <td>150.0</td>\n",
       "      <td>The Meg Collection</td>\n",
       "    </tr>\n",
       "  </tbody>\n",
       "</table>\n",
       "</div>"
      ],
      "text/plain": [
       "   budget belongs_to_collection_name\n",
       "0   300.0    The Avengers Collection\n",
       "1   250.0                       None\n",
       "2   200.0   Black Panther Collection\n",
       "3   170.0   Jurassic Park Collection\n",
       "4   150.0         The Meg Collection"
      ]
     },
     "execution_count": 110,
     "metadata": {},
     "output_type": "execute_result"
    }
   ],
   "source": [
    "pd.read_sql(\"SELECT max(budget) as budget,belongs_to_collection_name FROM Movies GROUP BY belongs_to_collection_name \\\n",
    "            ORDER BY budget DESC LIMIT 5 \",con)"
   ]
  },
  {
   "cell_type": "markdown",
   "id": "5a172339",
   "metadata": {},
   "source": [
    "----"
   ]
  }
 ],
 "metadata": {
  "kernelspec": {
   "display_name": "Python 3 (ipykernel)",
   "language": "python",
   "name": "python3"
  },
  "language_info": {
   "codemirror_mode": {
    "name": "ipython",
    "version": 3
   },
   "file_extension": ".py",
   "mimetype": "text/x-python",
   "name": "python",
   "nbconvert_exporter": "python",
   "pygments_lexer": "ipython3",
   "version": "3.9.7"
  }
 },
 "nbformat": 4,
 "nbformat_minor": 5
}
