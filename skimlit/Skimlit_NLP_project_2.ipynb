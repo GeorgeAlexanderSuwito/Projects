{
 "cells": [
  {
   "cell_type": "code",
   "execution_count": 1,
   "id": "799ec924",
   "metadata": {},
   "outputs": [
    {
     "name": "stdout",
     "output_type": "stream",
     "text": [
      "GPU 0: NVIDIA GeForce RTX 2070 with Max-Q Design (UUID: GPU-73d78d0a-ed4f-5a0d-2e4a-f6912777f8fc)\n"
     ]
    }
   ],
   "source": [
    "!nvidia-smi -L"
   ]
  },
  {
   "cell_type": "code",
   "execution_count": 2,
   "id": "00bb2c9b",
   "metadata": {},
   "outputs": [],
   "source": [
    "## Get data\n",
    "# !git clone https://github.com/Frank-Dernoncourt/pubmed-rct\n",
    "# !ls pubmed-rct"
   ]
  },
  {
   "cell_type": "code",
   "execution_count": 3,
   "id": "573ecf6f",
   "metadata": {},
   "outputs": [],
   "source": [
    " import os"
   ]
  },
  {
   "cell_type": "code",
   "execution_count": 4,
   "id": "cdc8ed1b",
   "metadata": {},
   "outputs": [
    {
     "data": {
      "text/plain": [
       "['dev.txt', 'test.txt', 'train.txt']"
      ]
     },
     "execution_count": 4,
     "metadata": {},
     "output_type": "execute_result"
    }
   ],
   "source": [
    "os.listdir(r'pubmed-rct-master/PubMed_20k_RCT_numbers_replaced_with_at_sign/')"
   ]
  },
  {
   "cell_type": "code",
   "execution_count": 5,
   "id": "2c03b2a3",
   "metadata": {},
   "outputs": [],
   "source": [
    "data_dir = r'pubmed-rct-master/PubMed_20k_RCT_numbers_replaced_with_at_sign/'"
   ]
  },
  {
   "cell_type": "code",
   "execution_count": 6,
   "id": "2d3a7c78",
   "metadata": {},
   "outputs": [],
   "source": [
    "filenames = [os.path.join(data_dir,i) for i in os.listdir(data_dir)]"
   ]
  },
  {
   "cell_type": "code",
   "execution_count": 7,
   "id": "4c941c01",
   "metadata": {},
   "outputs": [
    {
     "data": {
      "text/plain": [
       "['pubmed-rct-master/PubMed_20k_RCT_numbers_replaced_with_at_sign/dev.txt',\n",
       " 'pubmed-rct-master/PubMed_20k_RCT_numbers_replaced_with_at_sign/test.txt',\n",
       " 'pubmed-rct-master/PubMed_20k_RCT_numbers_replaced_with_at_sign/train.txt']"
      ]
     },
     "execution_count": 7,
     "metadata": {},
     "output_type": "execute_result"
    }
   ],
   "source": [
    "filenames"
   ]
  },
  {
   "cell_type": "code",
   "execution_count": 8,
   "id": "30e36013",
   "metadata": {},
   "outputs": [],
   "source": [
    "def get_lines(filename):\n",
    "    with open(filename,'r') as f:\n",
    "        return f.readlines()"
   ]
  },
  {
   "cell_type": "code",
   "execution_count": 9,
   "id": "2d827d0d",
   "metadata": {
    "scrolled": true
   },
   "outputs": [
    {
     "data": {
      "text/plain": [
       "['###24293578\\n',\n",
       " 'OBJECTIVE\\tTo investigate the efficacy of @ weeks of daily low-dose oral prednisolone in improving pain , mobility , and systemic low-grade inflammation in the short term and whether the effect would be sustained at @ weeks in older adults with moderate to severe knee osteoarthritis ( OA ) .\\n',\n",
       " 'METHODS\\tA total of @ patients with primary knee OA were randomized @:@ ; @ received @ mg/day of prednisolone and @ received placebo for @ weeks .\\n',\n",
       " 'METHODS\\tOutcome measures included pain reduction and improvement in function scores and systemic inflammation markers .\\n',\n",
       " 'METHODS\\tPain was assessed using the visual analog pain scale ( @-@ mm ) .\\n',\n",
       " 'METHODS\\tSecondary outcome measures included the Western Ontario and McMaster Universities Osteoarthritis Index scores , patient global assessment ( PGA ) of the severity of knee OA , and @-min walk distance ( @MWD ) .\\n',\n",
       " 'METHODS\\tSerum levels of interleukin @ ( IL-@ ) , IL-@ , tumor necrosis factor ( TNF ) - , and high-sensitivity C-reactive protein ( hsCRP ) were measured .\\n',\n",
       " 'RESULTS\\tThere was a clinically relevant reduction in the intervention group compared to the placebo group for knee pain , physical function , PGA , and @MWD at @ weeks .\\n',\n",
       " 'RESULTS\\tThe mean difference between treatment arms ( @ % CI ) was @ ( @-@ @ ) , p < @ ; @ ( @-@ @ ) , p < @ ; @ ( @-@ @ ) , p < @ ; and @ ( @-@ @ ) , p < @ , respectively .\\n',\n",
       " 'RESULTS\\tFurther , there was a clinically relevant reduction in the serum levels of IL-@ , IL-@ , TNF - , and hsCRP at @ weeks in the intervention group when compared to the placebo group .\\n',\n",
       " 'RESULTS\\tThese differences remained significant at @ weeks .\\n',\n",
       " 'RESULTS\\tThe Outcome Measures in Rheumatology Clinical Trials-Osteoarthritis Research Society International responder rate was @ % in the intervention group and @ % in the placebo group ( p < @ ) .\\n',\n",
       " 'CONCLUSIONS\\tLow-dose oral prednisolone had both a short-term and a longer sustained effect resulting in less knee pain , better physical function , and attenuation of systemic inflammation in older patients with knee OA ( ClinicalTrials.gov identifier NCT@ ) .\\n',\n",
       " '\\n',\n",
       " '###24854809\\n',\n",
       " 'BACKGROUND\\tEmotional eating is associated with overeating and the development of obesity .\\n',\n",
       " 'BACKGROUND\\tYet , empirical evidence for individual ( trait ) differences in emotional eating and cognitive mechanisms that contribute to eating during sad mood remain equivocal .\\n',\n",
       " 'OBJECTIVE\\tThe aim of this study was to test if attention bias for food moderates the effect of self-reported emotional eating during sad mood ( vs neutral mood ) on actual food intake .\\n',\n",
       " 'OBJECTIVE\\tIt was expected that emotional eating is predictive of elevated attention for food and higher food intake after an experimentally induced sad mood and that attentional maintenance on food predicts food intake during a sad versus a neutral mood .\\n',\n",
       " 'METHODS\\tParticipants ( N = @ ) were randomly assigned to one of the two experimental mood induction conditions ( sad/neutral ) .\\n',\n",
       " 'METHODS\\tAttentional biases for high caloric foods were measured by eye tracking during a visual probe task with pictorial food and neutral stimuli .\\n',\n",
       " 'METHODS\\tSelf-reported emotional eating was assessed with the Dutch Eating Behavior Questionnaire ( DEBQ ) and ad libitum food intake was tested by a disguised food offer .\\n',\n",
       " 'RESULTS\\tHierarchical multivariate regression modeling showed that self-reported emotional eating did not account for changes in attention allocation for food or food intake in either condition .\\n',\n",
       " 'RESULTS\\tYet , attention maintenance on food cues was significantly related to increased intake specifically in the neutral condition , but not in the sad mood condition .\\n',\n",
       " 'CONCLUSIONS\\tThe current findings show that self-reported emotional eating ( based on the DEBQ ) might not validly predict who overeats when sad , at least not in a laboratory setting with healthy women .\\n',\n",
       " 'CONCLUSIONS\\tResults further suggest that attention maintenance on food relates to eating motivation when in a neutral affective state , and might therefore be a cognitive mechanism contributing to increased food intake in general , but maybe not during sad mood .\\n',\n",
       " '\\n',\n",
       " '###25165090\\n',\n",
       " 'BACKGROUND\\tAlthough working smoke alarms halve deaths in residential fires , many households do not keep alarms operational .\\n',\n",
       " 'BACKGROUND\\tWe tested whether theory-based education increases alarm operability .\\n',\n",
       " 'METHODS\\tRandomised multiarm trial , with a single arm randomly selected for use each day , in low-income neighbourhoods in Maryland , USA .\\n',\n",
       " \"METHODS\\tIntervention arms : ( @ ) Full Education combining a health belief module with a social-cognitive theory module that provided hands-on practice installing alarm batteries and using the alarm 's hush button ; ( @ ) Hands-on Practice social-cognitive module supplemented by typical fire department education ; ( @ ) Current Norm receiving typical fire department education only .\\n\",\n",
       " 'METHODS\\tFour hundred and thirty-six homes recruited through churches or by knocking on doors in @-@ .\\n',\n",
       " 'METHODS\\tFollow-up visits checked alarm operability in @ homes ( @ % ) @-@ @ years after installation .\\n',\n",
       " 'METHODS\\tnumber of homes with working alarms defined as alarms with working batteries or hard-wired and number of working alarms per home .\\n',\n",
       " 'METHODS\\tRegressions controlled for alarm status preintervention ; demographics and beliefs about fire risks and alarm effectiveness .\\n',\n",
       " 'RESULTS\\tHomes in the Full Education and Practice arms were more likely to have a functioning smoke alarm at follow-up ( OR = @ , @ % CI @ to @ ) and had an average of @ more working alarms per home ( @ % CI @ to @ ) .\\n',\n",
       " 'RESULTS\\tWorking alarms per home rose @ % .\\n',\n",
       " 'RESULTS\\tFull Education and Practice had similar effectiveness ( p = @ on both outcome measures ) .\\n',\n",
       " 'CONCLUSIONS\\tWithout exceeding typical fire department installation time , installers can achieve greater smoke alarm operability .\\n',\n",
       " 'CONCLUSIONS\\tHands-on practice is key .\\n',\n",
       " 'CONCLUSIONS\\tTwo years after installation , for every three homes that received hands-on practice , one had an additional working alarm .\\n',\n",
       " 'BACKGROUND\\thttp://www.clinicaltrials.gov number NCT@ .\\n',\n",
       " '\\n',\n",
       " '###24633056\\n',\n",
       " 'OBJECTIVE\\tTo evaluate the performance ( efficacy , safety and acceptability ) of a new micro-adherent absorbent dressing ( UrgoClean ) compared with a hydrofiber dressing ( Aquacel ) in the local management of venous leg ulcers , in the debridement stage .\\n',\n",
       " 'METHODS\\tA non-inferiority European randomised controlled clinical trial ( RCT ) was conducted in @ centres , on patients presenting with venous or predominantly venous , mixed aetiology leg ulcers at their sloughy stage ( with more than @ % of the wound bed covered with slough at baseline ) .\\n',\n",
       " 'METHODS\\tPatients were followed over a @-week period and assessed weekly .\\n',\n",
       " 'METHODS\\tThe primary judgement criteria was the relative regression of the wound surface area after the @-week treatment period .\\n',\n",
       " 'METHODS\\tSecondary endpoints were the relative reduction of sloughy tissue and the percentage of patients presenting with a debrided wound .\\n',\n",
       " 'RESULTS\\tAltogether , @ patients were randomised to either UrgoClean ( test group ; n = @ ) or Aquacel ( control group ; n = @ ) dressings .\\n',\n",
       " 'RESULTS\\tRegarding the wound healing process predictive factors ( wound area , duration , ABPI value , recurrence ) , at baseline , the two groups were well balanced , for both wound and patient characteristics .\\n',\n",
       " 'RESULTS\\tCompression therapy was administered to both groups and after a median @-day treatment period , the percentage of relative reduction of the wound surface area was very similar ( -@ % vs -@ % in the UrgoClean and control groups , respectively ) .\\n',\n",
       " 'RESULTS\\tWhen considering the secondary criteria at week @ , the relative reduction of sloughy tissue was significantly higher in the UrgoClean group than in the control group ( -@ % vs -@,@ % ; p = @ ) .\\n',\n",
       " 'RESULTS\\tThe percentage of debrided wounds was also significantly higher in the test group ( @ % vs @ % ; p = @ ) .\\n',\n",
       " \"CONCLUSIONS\\tThis ` EARTH ' RCT confirmed that the UrgoClean dressing has similar efficacy and safety compared to Aquacel .\\n\",\n",
       " 'CONCLUSIONS\\tHowever , UrgoClean also showed better autolytic properties than the control group in the management of venous leg ulcers at the sloughy stage .\\n',\n",
       " 'CONCLUSIONS\\tThe new UrgoClean dressing therefore represents a promising therapeutic option within the current range of autolytic dressings available .\\n',\n",
       " 'BACKGROUND\\tThis study was sponsored by a grant from the pharmaceutical company Laboratoires Urgo .\\n',\n",
       " 'BACKGROUND\\tS. Bohbot and O. Tacca are employees of Laboratoires Urgo .\\n',\n",
       " 'BACKGROUND\\tS. Meaume , J. Dissemond and G. Perceau have received monetary compensation as presenters for Laboratoires Urgo .\\n',\n",
       " 'BACKGROUND\\tData management and statistical analyses were conducted independently by Vertical ( Paris , France ) .\\n',\n",
       " '\\n',\n",
       " '###24814304\\n',\n",
       " 'OBJECTIVE\\tEye movements ( EM ) during recall of an aversive memory is a treatment element unique to Eye Movement Desensitization and Reprocessing ( EMDR ) .\\n',\n",
       " 'OBJECTIVE\\tExperimental studies have shown that EM reduce memory vividness and/or emotionality shortly after the intervention .\\n',\n",
       " 'OBJECTIVE\\tHowever , it is unclear whether the immediate effects of the intervention reflect actual changes in memory .\\n',\n",
       " 'OBJECTIVE\\tThe aim of this study was to test whether immediate reductions in memory vividness and emotionality persist at a @h follow up and whether the magnitude of these effects is related to the duration of the intervention .\\n',\n",
       " \"METHODS\\tSeventy-three undergraduates recalled two negative autobiographical memories , one with EM ( `` recall with EM '' ) and one without ( `` recall only '' ) .\\n\",\n",
       " 'METHODS\\tHalf of participants recalled each memory for four periods of @s , the other half for eight periods of @s .\\n',\n",
       " 'METHODS\\tMemory vividness/emotionality were self-rated at a pre-test , an immediate post-test , and a @h follow-up test .\\n',\n",
       " 'RESULTS\\tIn both duration groups , recall with EM , but not recall only , caused an immediate decrease in memory vividness .\\n',\n",
       " 'RESULTS\\tThere were no immediate reductions in memory emotionality .\\n',\n",
       " \"RESULTS\\tFurthermore , only the ` eight periods ' group showed that recall with EM , but not recall only , caused a decrease in both memory emotionality and memory vividness from the pre-test to the follow-up .\\n\",\n",
       " 'CONCLUSIONS\\tOnly self-report measures were used .\\n',\n",
       " 'CONCLUSIONS\\tThe findings suggest that recall with EM causes @-hchanges in memory vividness/emotionality , which may explain part of the EMDR treatment effect , and these effects are related to intervention duration .\\n',\n",
       " '\\n',\n",
       " '###25825539\\n',\n",
       " 'OBJECTIVE\\tFew studies have tested the impact of motivational interviewing ( MI ) delivered by primary care providers on pediatric obesity .\\n',\n",
       " 'OBJECTIVE\\tThis study tested the efficacy of MI delivered by providers and registered dietitians ( RDs ) to parents of overweight children aged @ through @ .\\n',\n",
       " 'METHODS\\tForty-two practices from the Pediatric Research in Office Settings Network of the American Academy of Pediatrics were randomly assigned to @ of @ groups .\\n',\n",
       " 'METHODS\\tGroup @ ( usual care ) measured BMI percentile at baseline and @ - and @-year follow-up .\\n',\n",
       " 'METHODS\\tGroup @ ( provider only ) delivered @ MI counseling sessions to parents of the index child over @ years .\\n',\n",
       " 'METHODS\\tGroup @ ( provider + RD ) delivered @ provider MI sessions plus @ MI sessions from a RD. .\\n',\n",
       " 'METHODS\\tThe primary outcome was child BMI percentile at @-year follow up .\\n',\n",
       " 'RESULTS\\tAt @-year follow-up , the adjusted BMI percentile was @ , @ , and @ for groups @ , @ , and @ , respectively .\\n',\n",
       " 'RESULTS\\tThe group @ mean was significantly ( P = @ ) lower than group @ .\\n',\n",
       " 'RESULTS\\tMean changes from baseline in BMI percentile were @ , @ , and @ across groups @ , @ , and @ .\\n',\n",
       " 'CONCLUSIONS\\tMI delivered by providers and RDs ( group @ ) resulted in statistically significant reductions in BMI percentile .\\n',\n",
       " 'CONCLUSIONS\\tResearch is needed to determine the clinical significance and persistence of the BMI effects observed .\\n',\n",
       " 'CONCLUSIONS\\tHow the intervention can be brought to scale ( in particular , how to train physicians to use MI effectively and how best to train RDs and integrate them into primary care settings ) also merits future research .\\n',\n",
       " '\\n',\n",
       " '###24507941\\n',\n",
       " 'BACKGROUND\\tAntithrombin ( AT ) concentrations are reduced after cardiac surgery with cardiopulmonary bypass compared with the preoperative levels .\\n',\n",
       " 'BACKGROUND\\tLow postoperative AT is associated with worse short - and mid-term clinical outcomes .\\n',\n",
       " 'BACKGROUND\\tThe aim of the study is to evaluate the effects of AT administration on activation of the coagulation and fibrinolytic systems , platelet function , and the inflammatory response in patients with low postoperative AT levels .\\n',\n",
       " 'METHODS\\tSixty patients with postoperative AT levels of less than @ % were randomly assigned to receive purified AT ( @ IU in three administrations ) or placebo in the postoperative intensive care unit .\\n',\n",
       " 'METHODS\\tThirty patients with postoperative AT levels greater than @ % were observed as controls .\\n',\n",
       " 'METHODS\\tInterleukin @ ( a marker of inflammation ) , prothrombin fragment @-@ ( a marker of thrombin generation ) , plasmin-antiplasmin complex ( a marker of fibrinolysis ) , and platelet factor @ ( a marker of platelet activation ) were measured at six different times .\\n',\n",
       " 'RESULTS\\tCompared with the no AT group and control patients , patients receiving AT showed significantly higher AT values until @ hours after the last administration .\\n']"
      ]
     },
     "execution_count": 9,
     "metadata": {},
     "output_type": "execute_result"
    }
   ],
   "source": [
    "train_lines = get_lines(os.path.join(data_dir,\"train.txt\"))\n",
    "train_lines[:100]"
   ]
  },
  {
   "cell_type": "code",
   "execution_count": 10,
   "id": "e3e8f5e7",
   "metadata": {},
   "outputs": [],
   "source": [
    "def preprocess_text_with_line_numbers(filename):\n",
    "    input_lines = get_lines(filename)\n",
    "    \n",
    "    abstract_lines = \"\"\n",
    "    abstract_samples = []\n",
    "    for line in input_lines:\n",
    "        if line.startswith(\"###\"):\n",
    "            abstract_id = line\n",
    "            abstract_lines = \"\"\n",
    "            \n",
    "        elif line.isspace():\n",
    "            abstract_line_split = abstract_lines.splitlines()\n",
    "            \n",
    "            for abstract_line_number, abstract_line in enumerate(abstract_line_split):\n",
    "                line_data = {}\n",
    "                target_text_split = abstract_lines.split(\"\\t\")\n",
    "                line_data[\"target\"] = target_text_split[0]\n",
    "                line_data['text'] = target_text_split[1].lower()\n",
    "                line_data['line_number'] = abstract_line_number\n",
    "                line_data['total_lines'] = len(abstract_line_split)-1\n",
    "                abstract_samples.append(line_data)\n",
    "        else:\n",
    "            abstract_lines+= line\n",
    "    return abstract_samples"
   ]
  },
  {
   "cell_type": "code",
   "execution_count": 11,
   "id": "791110c8",
   "metadata": {},
   "outputs": [],
   "source": [
    "def preprocess_text_with_line_numbers(filename):\n",
    "  \"\"\"Returns a list of dictionaries of abstract line data.\n",
    "\n",
    "  Takes in filename, reads its contents and sorts through each line,\n",
    "  extracting things like the target label, the text of the sentence,\n",
    "  how many sentences are in the current abstract and what sentence number\n",
    "  the target line is.\n",
    "\n",
    "  Args:\n",
    "      filename: a string of the target text file to read and extract line data\n",
    "      from.\n",
    "\n",
    "  Returns:\n",
    "      A list of dictionaries each containing a line from an abstract,\n",
    "      the lines label, the lines position in the abstract and the total number\n",
    "      of lines in the abstract where the line is from. For example:\n",
    "\n",
    "      [{\"target\": 'CONCLUSION',\n",
    "        \"text\": The study couldn't have gone better, turns out people are kinder than you think\",\n",
    "        \"line_number\": 8,\n",
    "        \"total_lines\": 8}]\n",
    "  \"\"\"\n",
    "  input_lines = get_lines(filename) # get all lines from filename\n",
    "  abstract_lines = \"\" # create an empty abstract\n",
    "  abstract_samples = [] # create an empty list of abstracts\n",
    "  \n",
    "  # Loop through each line in target file\n",
    "  for line in input_lines:\n",
    "    if line.startswith(\"###\"): # check to see if line is an ID line\n",
    "      abstract_id = line\n",
    "      abstract_lines = \"\" # reset abstract string\n",
    "    elif line.isspace(): # check to see if line is a new line\n",
    "      abstract_line_split = abstract_lines.splitlines() # split abstract into separate lines\n",
    "\n",
    "      # Iterate through each line in abstract and count them at the same time\n",
    "      for abstract_line_number, abstract_line in enumerate(abstract_line_split):\n",
    "        line_data = {} # create empty dict to store data from line\n",
    "        target_text_split = abstract_line.split(\"\\t\") # split target label from text\n",
    "        line_data[\"target\"] = target_text_split[0] # get target label\n",
    "        line_data[\"text\"] = target_text_split[1].lower() # get target text and lower it\n",
    "        line_data[\"line_number\"] = abstract_line_number # what number line does the line appear in the abstract?\n",
    "        line_data[\"total_lines\"] = len(abstract_line_split) - 1 # how many total lines are in the abstract? (start from 0)\n",
    "        abstract_samples.append(line_data) # add line data to abstract samples list\n",
    "    \n",
    "    else: # if the above conditions aren't fulfilled, the line contains a labelled sentence\n",
    "      abstract_lines += line\n",
    "  \n",
    "  return abstract_samples"
   ]
  },
  {
   "cell_type": "code",
   "execution_count": 12,
   "id": "76651684",
   "metadata": {},
   "outputs": [
    {
     "name": "stdout",
     "output_type": "stream",
     "text": [
      "Wall time: 606 ms\n"
     ]
    }
   ],
   "source": [
    "%%time\n",
    "train_samples =preprocess_text_with_line_numbers(data_dir+\"train.txt\")\n",
    "val_samples = preprocess_text_with_line_numbers(data_dir+\"dev.txt\")\n",
    "test_samples = preprocess_text_with_line_numbers(data_dir+\"test.txt\")"
   ]
  },
  {
   "cell_type": "code",
   "execution_count": 13,
   "id": "ee414970",
   "metadata": {
    "scrolled": true
   },
   "outputs": [
    {
     "data": {
      "text/plain": [
       "[{'target': 'OBJECTIVE',\n",
       "  'text': 'to investigate the efficacy of @ weeks of daily low-dose oral prednisolone in improving pain , mobility , and systemic low-grade inflammation in the short term and whether the effect would be sustained at @ weeks in older adults with moderate to severe knee osteoarthritis ( oa ) .',\n",
       "  'line_number': 0,\n",
       "  'total_lines': 11},\n",
       " {'target': 'METHODS',\n",
       "  'text': 'a total of @ patients with primary knee oa were randomized @:@ ; @ received @ mg/day of prednisolone and @ received placebo for @ weeks .',\n",
       "  'line_number': 1,\n",
       "  'total_lines': 11},\n",
       " {'target': 'METHODS',\n",
       "  'text': 'outcome measures included pain reduction and improvement in function scores and systemic inflammation markers .',\n",
       "  'line_number': 2,\n",
       "  'total_lines': 11},\n",
       " {'target': 'METHODS',\n",
       "  'text': 'pain was assessed using the visual analog pain scale ( @-@ mm ) .',\n",
       "  'line_number': 3,\n",
       "  'total_lines': 11},\n",
       " {'target': 'METHODS',\n",
       "  'text': 'secondary outcome measures included the western ontario and mcmaster universities osteoarthritis index scores , patient global assessment ( pga ) of the severity of knee oa , and @-min walk distance ( @mwd ) .',\n",
       "  'line_number': 4,\n",
       "  'total_lines': 11},\n",
       " {'target': 'METHODS',\n",
       "  'text': 'serum levels of interleukin @ ( il-@ ) , il-@ , tumor necrosis factor ( tnf ) - , and high-sensitivity c-reactive protein ( hscrp ) were measured .',\n",
       "  'line_number': 5,\n",
       "  'total_lines': 11},\n",
       " {'target': 'RESULTS',\n",
       "  'text': 'there was a clinically relevant reduction in the intervention group compared to the placebo group for knee pain , physical function , pga , and @mwd at @ weeks .',\n",
       "  'line_number': 6,\n",
       "  'total_lines': 11},\n",
       " {'target': 'RESULTS',\n",
       "  'text': 'the mean difference between treatment arms ( @ % ci ) was @ ( @-@ @ ) , p < @ ; @ ( @-@ @ ) , p < @ ; @ ( @-@ @ ) , p < @ ; and @ ( @-@ @ ) , p < @ , respectively .',\n",
       "  'line_number': 7,\n",
       "  'total_lines': 11},\n",
       " {'target': 'RESULTS',\n",
       "  'text': 'further , there was a clinically relevant reduction in the serum levels of il-@ , il-@ , tnf - , and hscrp at @ weeks in the intervention group when compared to the placebo group .',\n",
       "  'line_number': 8,\n",
       "  'total_lines': 11},\n",
       " {'target': 'RESULTS',\n",
       "  'text': 'these differences remained significant at @ weeks .',\n",
       "  'line_number': 9,\n",
       "  'total_lines': 11},\n",
       " {'target': 'RESULTS',\n",
       "  'text': 'the outcome measures in rheumatology clinical trials-osteoarthritis research society international responder rate was @ % in the intervention group and @ % in the placebo group ( p < @ ) .',\n",
       "  'line_number': 10,\n",
       "  'total_lines': 11},\n",
       " {'target': 'CONCLUSIONS',\n",
       "  'text': 'low-dose oral prednisolone had both a short-term and a longer sustained effect resulting in less knee pain , better physical function , and attenuation of systemic inflammation in older patients with knee oa ( clinicaltrials.gov identifier nct@ ) .',\n",
       "  'line_number': 11,\n",
       "  'total_lines': 11},\n",
       " {'target': 'BACKGROUND',\n",
       "  'text': 'emotional eating is associated with overeating and the development of obesity .',\n",
       "  'line_number': 0,\n",
       "  'total_lines': 10},\n",
       " {'target': 'BACKGROUND',\n",
       "  'text': 'yet , empirical evidence for individual ( trait ) differences in emotional eating and cognitive mechanisms that contribute to eating during sad mood remain equivocal .',\n",
       "  'line_number': 1,\n",
       "  'total_lines': 10},\n",
       " {'target': 'OBJECTIVE',\n",
       "  'text': 'the aim of this study was to test if attention bias for food moderates the effect of self-reported emotional eating during sad mood ( vs neutral mood ) on actual food intake .',\n",
       "  'line_number': 2,\n",
       "  'total_lines': 10}]"
      ]
     },
     "execution_count": 13,
     "metadata": {},
     "output_type": "execute_result"
    }
   ],
   "source": [
    "train_samples[:15]"
   ]
  },
  {
   "cell_type": "code",
   "execution_count": 14,
   "id": "b2962d67",
   "metadata": {},
   "outputs": [],
   "source": [
    "import pandas as pd"
   ]
  },
  {
   "cell_type": "code",
   "execution_count": 15,
   "id": "49a69bc2",
   "metadata": {},
   "outputs": [
    {
     "data": {
      "text/html": [
       "<div>\n",
       "<style scoped>\n",
       "    .dataframe tbody tr th:only-of-type {\n",
       "        vertical-align: middle;\n",
       "    }\n",
       "\n",
       "    .dataframe tbody tr th {\n",
       "        vertical-align: top;\n",
       "    }\n",
       "\n",
       "    .dataframe thead th {\n",
       "        text-align: right;\n",
       "    }\n",
       "</style>\n",
       "<table border=\"1\" class=\"dataframe\">\n",
       "  <thead>\n",
       "    <tr style=\"text-align: right;\">\n",
       "      <th></th>\n",
       "      <th>target</th>\n",
       "      <th>text</th>\n",
       "      <th>line_number</th>\n",
       "      <th>total_lines</th>\n",
       "    </tr>\n",
       "  </thead>\n",
       "  <tbody>\n",
       "    <tr>\n",
       "      <th>0</th>\n",
       "      <td>OBJECTIVE</td>\n",
       "      <td>to investigate the efficacy of @ weeks of dail...</td>\n",
       "      <td>0</td>\n",
       "      <td>11</td>\n",
       "    </tr>\n",
       "    <tr>\n",
       "      <th>1</th>\n",
       "      <td>METHODS</td>\n",
       "      <td>a total of @ patients with primary knee oa wer...</td>\n",
       "      <td>1</td>\n",
       "      <td>11</td>\n",
       "    </tr>\n",
       "    <tr>\n",
       "      <th>2</th>\n",
       "      <td>METHODS</td>\n",
       "      <td>outcome measures included pain reduction and i...</td>\n",
       "      <td>2</td>\n",
       "      <td>11</td>\n",
       "    </tr>\n",
       "    <tr>\n",
       "      <th>3</th>\n",
       "      <td>METHODS</td>\n",
       "      <td>pain was assessed using the visual analog pain...</td>\n",
       "      <td>3</td>\n",
       "      <td>11</td>\n",
       "    </tr>\n",
       "    <tr>\n",
       "      <th>4</th>\n",
       "      <td>METHODS</td>\n",
       "      <td>secondary outcome measures included the wester...</td>\n",
       "      <td>4</td>\n",
       "      <td>11</td>\n",
       "    </tr>\n",
       "  </tbody>\n",
       "</table>\n",
       "</div>"
      ],
      "text/plain": [
       "      target                                               text  line_number  \\\n",
       "0  OBJECTIVE  to investigate the efficacy of @ weeks of dail...            0   \n",
       "1    METHODS  a total of @ patients with primary knee oa wer...            1   \n",
       "2    METHODS  outcome measures included pain reduction and i...            2   \n",
       "3    METHODS  pain was assessed using the visual analog pain...            3   \n",
       "4    METHODS  secondary outcome measures included the wester...            4   \n",
       "\n",
       "   total_lines  \n",
       "0           11  \n",
       "1           11  \n",
       "2           11  \n",
       "3           11  \n",
       "4           11  "
      ]
     },
     "execution_count": 15,
     "metadata": {},
     "output_type": "execute_result"
    }
   ],
   "source": [
    "train_df = pd.DataFrame(train_samples)\n",
    "val_df = pd.DataFrame(val_samples)\n",
    "test_df = pd.DataFrame(test_samples)\n",
    "train_df.head(5)"
   ]
  },
  {
   "cell_type": "code",
   "execution_count": 16,
   "id": "dbb8080e",
   "metadata": {},
   "outputs": [
    {
     "data": {
      "text/plain": [
       "METHODS        59353\n",
       "RESULTS        57953\n",
       "CONCLUSIONS    27168\n",
       "BACKGROUND     21727\n",
       "OBJECTIVE      13839\n",
       "Name: target, dtype: int64"
      ]
     },
     "execution_count": 16,
     "metadata": {},
     "output_type": "execute_result"
    }
   ],
   "source": [
    "train_df.target.value_counts()"
   ]
  },
  {
   "cell_type": "code",
   "execution_count": 17,
   "id": "47dafd53",
   "metadata": {},
   "outputs": [
    {
     "data": {
      "text/plain": [
       "<AxesSubplot:ylabel='Frequency'>"
      ]
     },
     "execution_count": 17,
     "metadata": {},
     "output_type": "execute_result"
    },
    {
     "data": {
      "image/png": "[encoded data removed]",
      "text/plain": [
       "<Figure size 432x288 with 1 Axes>"
      ]
     },
     "metadata": {
      "needs_background": "light"
     },
     "output_type": "display_data"
    }
   ],
   "source": [
    "train_df.total_lines.plot(kind='hist')"
   ]
  },
  {
   "cell_type": "markdown",
   "id": "499b253e",
   "metadata": {},
   "source": [
    "### Get lists of sentences"
   ]
  },
  {
   "cell_type": "code",
   "execution_count": 18,
   "id": "4ebea983",
   "metadata": {},
   "outputs": [],
   "source": [
    "train_sentences = train_df['text'].to_list()\n",
    "val_sentences = val_df['text'].to_list()\n",
    "test_sentences = test_df['text'].to_list()"
   ]
  },
  {
   "cell_type": "code",
   "execution_count": 19,
   "id": "a9c4f361",
   "metadata": {},
   "outputs": [
    {
     "data": {
      "text/plain": [
       "['to investigate the efficacy of @ weeks of daily low-dose oral prednisolone in improving pain , mobility , and systemic low-grade inflammation in the short term and whether the effect would be sustained at @ weeks in older adults with moderate to severe knee osteoarthritis ( oa ) .',\n",
       " 'a total of @ patients with primary knee oa were randomized @:@ ; @ received @ mg/day of prednisolone and @ received placebo for @ weeks .',\n",
       " 'outcome measures included pain reduction and improvement in function scores and systemic inflammation markers .',\n",
       " 'pain was assessed using the visual analog pain scale ( @-@ mm ) .',\n",
       " 'secondary outcome measures included the western ontario and mcmaster universities osteoarthritis index scores , patient global assessment ( pga ) of the severity of knee oa , and @-min walk distance ( @mwd ) .',\n",
       " 'serum levels of interleukin @ ( il-@ ) , il-@ , tumor necrosis factor ( tnf ) - , and high-sensitivity c-reactive protein ( hscrp ) were measured .',\n",
       " 'there was a clinically relevant reduction in the intervention group compared to the placebo group for knee pain , physical function , pga , and @mwd at @ weeks .',\n",
       " 'the mean difference between treatment arms ( @ % ci ) was @ ( @-@ @ ) , p < @ ; @ ( @-@ @ ) , p < @ ; @ ( @-@ @ ) , p < @ ; and @ ( @-@ @ ) , p < @ , respectively .',\n",
       " 'further , there was a clinically relevant reduction in the serum levels of il-@ , il-@ , tnf - , and hscrp at @ weeks in the intervention group when compared to the placebo group .',\n",
       " 'these differences remained significant at @ weeks .']"
      ]
     },
     "execution_count": 19,
     "metadata": {},
     "output_type": "execute_result"
    }
   ],
   "source": [
    "train_sentences[:10]"
   ]
  },
  {
   "cell_type": "markdown",
   "id": "0952ad72",
   "metadata": {},
   "source": [
    "### Make numeric labels"
   ]
  },
  {
   "cell_type": "code",
   "execution_count": 20,
   "id": "fe9346a5",
   "metadata": {},
   "outputs": [],
   "source": [
    "# One hot encode labels\n",
    "from sklearn.preprocessing import OneHotEncoder\n",
    "# encode ke one hot encoding\n",
    "one_hot_encoder = OneHotEncoder(sparse=False)\n"
   ]
  },
  {
   "cell_type": "code",
   "execution_count": 21,
   "id": "60a072e8",
   "metadata": {},
   "outputs": [],
   "source": [
    "train_labels_one_hot = one_hot_encoder.fit_transform(train_df.target.to_numpy().reshape(-1,1))\n",
    "val_labels_one_hot = one_hot_encoder.transform(val_df.target.to_numpy().reshape(-1,1))\n",
    "test_labels_one_hot = one_hot_encoder.transform(test_df.target.to_numpy().reshape(-1,1))"
   ]
  },
  {
   "cell_type": "markdown",
   "id": "219e8fcf",
   "metadata": {},
   "source": [
    "### Label enconde labels"
   ]
  },
  {
   "cell_type": "code",
   "execution_count": 22,
   "id": "628efe7a",
   "metadata": {},
   "outputs": [
    {
     "data": {
      "text/plain": [
       "<tf.Tensor: shape=(180040, 5), dtype=float64, numpy=\n",
       "array([[0., 0., 0., 1., 0.],\n",
       "       [0., 0., 1., 0., 0.],\n",
       "       [0., 0., 1., 0., 0.],\n",
       "       ...,\n",
       "       [0., 0., 0., 0., 1.],\n",
       "       [0., 1., 0., 0., 0.],\n",
       "       [0., 1., 0., 0., 0.]])>"
      ]
     },
     "execution_count": 22,
     "metadata": {},
     "output_type": "execute_result"
    }
   ],
   "source": [
    "import tensorflow as tf\n",
    "tf.constant(train_labels_one_hot)"
   ]
  },
  {
   "cell_type": "code",
   "execution_count": 23,
   "id": "90bb310e",
   "metadata": {},
   "outputs": [],
   "source": [
    "from sklearn.preprocessing import LabelEncoder\n",
    "# encode ke integer"
   ]
  },
  {
   "cell_type": "code",
   "execution_count": 24,
   "id": "34ad90c4",
   "metadata": {},
   "outputs": [
    {
     "data": {
      "text/plain": [
       "array([3, 2, 2, 2, 2, 2, 4, 4, 4, 4])"
      ]
     },
     "execution_count": 24,
     "metadata": {},
     "output_type": "execute_result"
    }
   ],
   "source": [
    "label_encoder = LabelEncoder()\n",
    "train_labels_encoded = label_encoder.fit_transform(train_df.target.to_numpy())\n",
    "val_labels_encoded = label_encoder.transform(val_df[\"target\"].to_numpy())\n",
    "test_labels_encoded = label_encoder.transform(test_df[\"target\"].to_numpy())\n",
    "\n",
    "train_labels_encoded[:10]"
   ]
  },
  {
   "cell_type": "code",
   "execution_count": 25,
   "id": "177116ef",
   "metadata": {},
   "outputs": [
    {
     "data": {
      "text/plain": [
       "(5,\n",
       " array(['BACKGROUND', 'CONCLUSIONS', 'METHODS', 'OBJECTIVE', 'RESULTS'],\n",
       "       dtype=object))"
      ]
     },
     "execution_count": 25,
     "metadata": {},
     "output_type": "execute_result"
    }
   ],
   "source": [
    "num_classes = len(label_encoder.classes_)\n",
    "class_names = label_encoder.classes_\n",
    "num_classes,class_names"
   ]
  },
  {
   "cell_type": "markdown",
   "id": "b8c140ee",
   "metadata": {},
   "source": [
    "## Model 0 : baseline using naive bayes"
   ]
  },
  {
   "cell_type": "code",
   "execution_count": 26,
   "id": "51f3c8c6",
   "metadata": {},
   "outputs": [],
   "source": [
    "from sklearn.feature_extraction.text import TfidfVectorizer\n",
    "from sklearn.naive_bayes import MultinomialNB\n",
    "from sklearn.pipeline import Pipeline"
   ]
  },
  {
   "cell_type": "code",
   "execution_count": 27,
   "id": "b5cf29e8",
   "metadata": {},
   "outputs": [
    {
     "data": {
      "text/plain": [
       "Pipeline(steps=[('tf-idf', TfidfVectorizer()), ('clf', MultinomialNB())])"
      ]
     },
     "execution_count": 27,
     "metadata": {},
     "output_type": "execute_result"
    }
   ],
   "source": [
    "model_0 = Pipeline([\n",
    "    (\"tf-idf\",TfidfVectorizer()),\n",
    "    (\"clf\",MultinomialNB())\n",
    "])\n",
    "\n",
    "model_0.fit(train_sentences,train_labels_encoded)"
   ]
  },
  {
   "cell_type": "code",
   "execution_count": 28,
   "id": "eb3d6416",
   "metadata": {},
   "outputs": [
    {
     "data": {
      "text/plain": [
       "0.7218323844829869"
      ]
     },
     "execution_count": 28,
     "metadata": {},
     "output_type": "execute_result"
    }
   ],
   "source": [
    "model_0.score(val_sentences,val_labels_encoded)"
   ]
  },
  {
   "cell_type": "code",
   "execution_count": 29,
   "id": "fa68e267",
   "metadata": {},
   "outputs": [
    {
     "data": {
      "text/plain": [
       "array([2, 2, 2, ..., 4, 4, 4])"
      ]
     },
     "execution_count": 29,
     "metadata": {},
     "output_type": "execute_result"
    }
   ],
   "source": [
    "# Make predictions using our baseline model\n",
    "baseline_preds = model_0.predict(test_sentences)\n",
    "baseline_preds"
   ]
  },
  {
   "cell_type": "code",
   "execution_count": 30,
   "id": "d82b85fc",
   "metadata": {},
   "outputs": [],
   "source": [
    "import wget"
   ]
  },
  {
   "cell_type": "code",
   "execution_count": 31,
   "id": "0b0468f3",
   "metadata": {},
   "outputs": [],
   "source": [
    "#wget.download(r\"https://raw.githubusercontent.com/mrdbourke/tensorflow-deep-learning/main/extras/helper_functions.py\")"
   ]
  },
  {
   "cell_type": "code",
   "execution_count": 32,
   "id": "e5e27186",
   "metadata": {},
   "outputs": [],
   "source": [
    "from helper_functions import calculate_results"
   ]
  },
  {
   "cell_type": "code",
   "execution_count": 33,
   "id": "b14275c7",
   "metadata": {},
   "outputs": [
    {
     "data": {
      "text/plain": [
       "{'accuracy': 71.6674962667994,\n",
       " 'precision': 0.7124322482375202,\n",
       " 'recall': 0.716674962667994,\n",
       " 'f1': 0.6925101703856846}"
      ]
     },
     "execution_count": 33,
     "metadata": {},
     "output_type": "execute_result"
    }
   ],
   "source": [
    "baseline_results = calculate_results(test_labels_encoded,baseline_preds)\n",
    "baseline_results"
   ]
  },
  {
   "cell_type": "markdown",
   "id": "d57458fc",
   "metadata": {},
   "source": [
    "### Preparing data text to deep sequence models"
   ]
  },
  {
   "cell_type": "code",
   "execution_count": 34,
   "id": "40644249",
   "metadata": {},
   "outputs": [],
   "source": [
    "import numpy as np\n",
    "import tensorflow as tf\n",
    "from tensorflow.keras import layers"
   ]
  },
  {
   "cell_type": "code",
   "execution_count": 35,
   "id": "fabd4f4f",
   "metadata": {},
   "outputs": [],
   "source": [
    "from tensorflow.keras.preprocessing.text import Tokenizer"
   ]
  },
  {
   "cell_type": "code",
   "execution_count": 36,
   "id": "26c33677",
   "metadata": {},
   "outputs": [],
   "source": [
    "from tensorflow.keras import layers"
   ]
  },
  {
   "cell_type": "code",
   "execution_count": 37,
   "id": "5165d5c4",
   "metadata": {},
   "outputs": [],
   "source": [
    "sent_lens = [len(sentence.split()) for sentence in train_sentences ] \n",
    "avg_sent_len = np.mean(sent_lens)"
   ]
  },
  {
   "cell_type": "code",
   "execution_count": 38,
   "id": "ae146aa9",
   "metadata": {},
   "outputs": [
    {
     "data": {
      "text/plain": [
       "26.338269273494777"
      ]
     },
     "execution_count": 38,
     "metadata": {},
     "output_type": "execute_result"
    }
   ],
   "source": [
    "np.mean(sent_lens)"
   ]
  },
  {
   "cell_type": "code",
   "execution_count": 39,
   "id": "0a0b534b",
   "metadata": {},
   "outputs": [
    {
     "data": {
      "image/png": "[encoded data removed]",
      "text/plain": [
       "<Figure size 432x288 with 1 Axes>"
      ]
     },
     "metadata": {
      "needs_background": "light"
     },
     "output_type": "display_data"
    }
   ],
   "source": [
    "import matplotlib.pyplot as plt\n",
    "plt.hist(sent_lens,bins=20);"
   ]
  },
  {
   "cell_type": "code",
   "execution_count": 40,
   "id": "20a093d1",
   "metadata": {},
   "outputs": [
    {
     "data": {
      "text/plain": [
       "55"
      ]
     },
     "execution_count": 40,
     "metadata": {},
     "output_type": "execute_result"
    }
   ],
   "source": [
    "# long of sentence length covers 95% of examples\n",
    "output_seq_len = int(np.percentile(sent_lens,95))\n",
    "output_seq_len"
   ]
  },
  {
   "cell_type": "code",
   "execution_count": 41,
   "id": "64bf8299",
   "metadata": {},
   "outputs": [
    {
     "data": {
      "text/plain": [
       "296"
      ]
     },
     "execution_count": 41,
     "metadata": {},
     "output_type": "execute_result"
    }
   ],
   "source": [
    "np.max(sent_lens)"
   ]
  },
  {
   "cell_type": "markdown",
   "id": "8240dee7",
   "metadata": {},
   "source": [
    "### Convert words to number"
   ]
  },
  {
   "cell_type": "code",
   "execution_count": 42,
   "id": "3400809f",
   "metadata": {},
   "outputs": [],
   "source": [
    "max_tokens = 68000"
   ]
  },
  {
   "cell_type": "code",
   "execution_count": 43,
   "id": "5c4f4e76",
   "metadata": {},
   "outputs": [],
   "source": [
    "from tensorflow.keras.layers.experimental.preprocessing import TextVectorization"
   ]
  },
  {
   "cell_type": "code",
   "execution_count": 44,
   "id": "e6a4f590",
   "metadata": {},
   "outputs": [],
   "source": [
    "text_vectorizer = TextVectorization(max_tokens=max_tokens,\n",
    "                                   output_sequence_length=output_seq_len)"
   ]
  },
  {
   "cell_type": "code",
   "execution_count": 45,
   "id": "9db1ba77",
   "metadata": {},
   "outputs": [],
   "source": [
    "#Adapt text vectorizer to training sentences\n",
    "\n",
    "text_vectorizer.adapt(train_sentences)"
   ]
  },
  {
   "cell_type": "code",
   "execution_count": 46,
   "id": "42f1bfd9",
   "metadata": {},
   "outputs": [
    {
     "name": "stdout",
     "output_type": "stream",
     "text": [
      "Text:\n",
      "blood potassium concentrations were assessed at baseline ( before study drug administration ) and at intervals up to @min after rocuronium , sugammadex , and succinylcholine .\n",
      "Vectorized text:[[  107  2158   341     9   113    15    49   129    17   300   288     3\n",
      "     15   890   303     6   242    21  4568  3866     3 16488     0     0\n",
      "      0     0     0     0     0     0     0     0     0     0     0     0\n",
      "      0     0     0     0     0     0     0     0     0     0     0     0\n",
      "      0     0     0     0     0     0     0]]\n"
     ]
    }
   ],
   "source": [
    "import random\n",
    "target_sentenece = random.choice(train_sentences)\n",
    "print(f\"Text:\\n{target_sentenece}\")\n",
    "print(f\"Vectorized text:{text_vectorizer([target_sentenece])}\")"
   ]
  },
  {
   "cell_type": "code",
   "execution_count": 47,
   "id": "87a4cb87",
   "metadata": {},
   "outputs": [
    {
     "name": "stdout",
     "output_type": "stream",
     "text": [
      "Number of words in vocab:64841\n",
      "most common words in the vocab:['', '[UNK]', 'the', 'and', 'of']\n"
     ]
    }
   ],
   "source": [
    "rct_20k_text_vocab = text_vectorizer.get_vocabulary()\n",
    "print(f\"Number of words in vocab:{len(rct_20k_text_vocab)}\")\n",
    "print(f\"most common words in the vocab:{rct_20k_text_vocab[:5]}\")"
   ]
  },
  {
   "cell_type": "code",
   "execution_count": 48,
   "id": "e1bfbb9e",
   "metadata": {},
   "outputs": [
    {
     "data": {
      "text/plain": [
       "{'name': 'text_vectorization',\n",
       " 'trainable': True,\n",
       " 'batch_input_shape': (None,),\n",
       " 'dtype': 'string',\n",
       " 'max_tokens': 68000,\n",
       " 'standardize': 'lower_and_strip_punctuation',\n",
       " 'split': 'whitespace',\n",
       " 'ngrams': None,\n",
       " 'output_mode': 'int',\n",
       " 'output_sequence_length': 55,\n",
       " 'pad_to_max_tokens': False,\n",
       " 'sparse': False,\n",
       " 'ragged': False,\n",
       " 'vocabulary': None,\n",
       " 'idf_weights': None}"
      ]
     },
     "execution_count": 48,
     "metadata": {},
     "output_type": "execute_result"
    }
   ],
   "source": [
    "text_vectorizer.get_config()"
   ]
  },
  {
   "cell_type": "markdown",
   "id": "7d16786a",
   "metadata": {},
   "source": [
    "Create custom text embedding"
   ]
  },
  {
   "cell_type": "code",
   "execution_count": 49,
   "id": "723d1a66",
   "metadata": {},
   "outputs": [],
   "source": [
    "token_embed = layers.Embedding(input_dim=len(rct_20k_text_vocab),\n",
    "                              output_dim=128,\n",
    "                              mask_zero=True,\n",
    "                              name='token_embbeding')\n"
   ]
  },
  {
   "cell_type": "code",
   "execution_count": 50,
   "id": "afc8a7a1",
   "metadata": {},
   "outputs": [
    {
     "data": {
      "text/plain": [
       "['blood potassium concentrations were assessed at baseline ( before study drug administration ) and at intervals up to @min after rocuronium , sugammadex , and succinylcholine .']"
      ]
     },
     "execution_count": 50,
     "metadata": {},
     "output_type": "execute_result"
    }
   ],
   "source": [
    "[target_sentenece]"
   ]
  },
  {
   "cell_type": "code",
   "execution_count": 51,
   "id": "7a6d47c5",
   "metadata": {},
   "outputs": [
    {
     "name": "stdout",
     "output_type": "stream",
     "text": [
      "Text:\n",
      "clinicaltrials.gov , no .\n",
      "Vectorized text:[[275  33   0   0   0   0   0   0   0   0   0   0   0   0   0   0   0   0\n",
      "    0   0   0   0   0   0   0   0   0   0   0   0   0   0   0   0   0   0\n",
      "    0   0   0   0   0   0   0   0   0   0   0   0   0   0   0   0   0   0\n",
      "    0]]\n",
      "Embbed text:[[[-0.00785754 -0.02469641  0.02963987 ... -0.03096171 -0.00606657\n",
      "    0.01517267]\n",
      "  [-0.00097514  0.01702498 -0.00556169 ... -0.0397262   0.02930761\n",
      "    0.03943678]\n",
      "  [ 0.00111127 -0.00745739  0.02927789 ...  0.04357909 -0.01121835\n",
      "   -0.00161965]\n",
      "  ...\n",
      "  [ 0.00111127 -0.00745739  0.02927789 ...  0.04357909 -0.01121835\n",
      "   -0.00161965]\n",
      "  [ 0.00111127 -0.00745739  0.02927789 ...  0.04357909 -0.01121835\n",
      "   -0.00161965]\n",
      "  [ 0.00111127 -0.00745739  0.02927789 ...  0.04357909 -0.01121835\n",
      "   -0.00161965]]]\n",
      "Embbed text shape:(1, 55, 128)\n"
     ]
    }
   ],
   "source": [
    "import random\n",
    "target_sentenece = random.choice(train_sentences)\n",
    "print(f\"Text:\\n{target_sentenece}\")\n",
    "vectorized_sentence = text_vectorizer([target_sentenece])\n",
    "print(f\"Vectorized text:{vectorized_sentence}\")\n",
    "embedded_sentence = token_embed(vectorized_sentence)\n",
    "print(f\"Embbed text:{embedded_sentence}\")\n",
    "print(f\"Embbed text shape:{embedded_sentence.shape}\")"
   ]
  },
  {
   "cell_type": "markdown",
   "id": "1ae8ee34",
   "metadata": {},
   "source": [
    "### Creating dataset with tf.data.API"
   ]
  },
  {
   "cell_type": "code",
   "execution_count": 52,
   "id": "323fe19f",
   "metadata": {},
   "outputs": [
    {
     "data": {
      "text/plain": [
       "<TensorSliceDataset element_spec=(TensorSpec(shape=(), dtype=tf.string, name=None), TensorSpec(shape=(5,), dtype=tf.float64, name=None))>"
      ]
     },
     "execution_count": 52,
     "metadata": {},
     "output_type": "execute_result"
    }
   ],
   "source": [
    "train_dataset = tf.data.Dataset.from_tensor_slices((train_sentences,train_labels_one_hot))\n",
    "valid_dataset = tf.data.Dataset.from_tensor_slices((val_sentences,val_labels_one_hot))\n",
    "test_dataset = tf.data.Dataset.from_tensor_slices((test_sentences,test_labels_one_hot))\n",
    "\n",
    "train_dataset"
   ]
  },
  {
   "cell_type": "code",
   "execution_count": 53,
   "id": "e28b450a",
   "metadata": {},
   "outputs": [
    {
     "data": {
      "text/plain": [
       "<PrefetchDataset element_spec=(TensorSpec(shape=(None,), dtype=tf.string, name=None), TensorSpec(shape=(None, 5), dtype=tf.float64, name=None))>"
      ]
     },
     "execution_count": 53,
     "metadata": {},
     "output_type": "execute_result"
    }
   ],
   "source": [
    "train_dataset= train_dataset.batch(32).prefetch(tf.data.AUTOTUNE)\n",
    "valid_dataset= valid_dataset.batch(32).prefetch(tf.data.AUTOTUNE)\n",
    "test_dataset= test_dataset.batch(32).prefetch(tf.data.AUTOTUNE)\n",
    "\n",
    "train_dataset"
   ]
  },
  {
   "cell_type": "code",
   "execution_count": 54,
   "id": "39b55a2a",
   "metadata": {},
   "outputs": [
    {
     "data": {
      "text/plain": [
       "945"
      ]
     },
     "execution_count": 54,
     "metadata": {},
     "output_type": "execute_result"
    }
   ],
   "source": [
    "len(valid_dataset)"
   ]
  },
  {
   "cell_type": "code",
   "execution_count": 55,
   "id": "848965bf",
   "metadata": {},
   "outputs": [
    {
     "data": {
      "text/plain": [
       "68000"
      ]
     },
     "execution_count": 55,
     "metadata": {},
     "output_type": "execute_result"
    }
   ],
   "source": [
    "max_tokens"
   ]
  },
  {
   "cell_type": "code",
   "execution_count": 56,
   "id": "bc1d7db3",
   "metadata": {},
   "outputs": [
    {
     "data": {
      "text/plain": [
       "5"
      ]
     },
     "execution_count": 56,
     "metadata": {},
     "output_type": "execute_result"
    }
   ],
   "source": [
    "num_classes"
   ]
  },
  {
   "cell_type": "code",
   "execution_count": 57,
   "id": "edc9d65b",
   "metadata": {},
   "outputs": [],
   "source": [
    "\n",
    "# Create 1D convolutional model to process sequences\n",
    "inputs = layers.Input(shape=(1,), dtype=tf.string)\n",
    "text_vectors = text_vectorizer(inputs) # vectorize text inputs\n",
    "token_embeddings = token_embed(text_vectors) # create embedding\n",
    "x = layers.Conv1D(64, kernel_size=5, padding=\"same\", activation=\"relu\")(token_embeddings)\n",
    "x = layers.GlobalAveragePooling1D()(x) # condense the output of our feature vector\n",
    "outputs = layers.Dense(num_classes, activation=\"softmax\")(x)\n",
    "model_1 = tf.keras.Model(inputs, outputs)\n",
    "\n",
    "# Compile\n",
    "model_1.compile(loss=\"categorical_crossentropy\", # if your labels are integer form (not one hot) use sparse_categorical_crossentropy\n",
    "                optimizer=tf.keras.optimizers.Adam(),\n",
    "                metrics=[\"accuracy\"])"
   ]
  },
  {
   "cell_type": "code",
   "execution_count": 58,
   "id": "70c72012",
   "metadata": {},
   "outputs": [
    {
     "name": "stdout",
     "output_type": "stream",
     "text": [
      "Model: \"model\"\n",
      "_________________________________________________________________\n",
      " Layer (type)                Output Shape              Param #   \n",
      "=================================================================\n",
      " input_1 (InputLayer)        [(None, 1)]               0         \n",
      "                                                                 \n",
      " text_vectorization (TextVec  (None, 55)               0         \n",
      " torization)                                                     \n",
      "                                                                 \n",
      " token_embbeding (Embedding)  (None, 55, 128)          8299648   \n",
      "                                                                 \n",
      " conv1d (Conv1D)             (None, 55, 64)            41024     \n",
      "                                                                 \n",
      " global_average_pooling1d (G  (None, 64)               0         \n",
      " lobalAveragePooling1D)                                          \n",
      "                                                                 \n",
      " dense (Dense)               (None, 5)                 325       \n",
      "                                                                 \n",
      "=================================================================\n",
      "Total params: 8,340,997\n",
      "Trainable params: 8,340,997\n",
      "Non-trainable params: 0\n",
      "_________________________________________________________________\n"
     ]
    }
   ],
   "source": [
    "model_1.summary()"
   ]
  },
  {
   "cell_type": "code",
   "execution_count": 59,
   "id": "406456fd",
   "metadata": {},
   "outputs": [
    {
     "name": "stdout",
     "output_type": "stream",
     "text": [
      "Epoch 1/5\n",
      "5627/5627 [==============================] - 51s 7ms/step - loss: 0.6119 - accuracy: 0.7776 - val_loss: 0.5432 - val_accuracy: 0.8012\n",
      "Epoch 2/5\n",
      "5627/5627 [==============================] - 42s 8ms/step - loss: 0.4498 - accuracy: 0.8424 - val_loss: 0.5388 - val_accuracy: 0.8062\n",
      "Epoch 3/5\n",
      "5627/5627 [==============================] - 42s 7ms/step - loss: 0.3691 - accuracy: 0.8743 - val_loss: 0.5725 - val_accuracy: 0.8005\n",
      "Epoch 4/5\n",
      "5627/5627 [==============================] - 43s 8ms/step - loss: 0.3045 - accuracy: 0.8990 - val_loss: 0.6349 - val_accuracy: 0.7899\n",
      "Epoch 5/5\n",
      "5627/5627 [==============================] - 43s 8ms/step - loss: 0.2503 - accuracy: 0.9190 - val_loss: 0.7142 - val_accuracy: 0.7862\n"
     ]
    }
   ],
   "source": [
    "history_model_1 = model_1.fit(train_dataset,\n",
    "                             validation_data=valid_dataset,\n",
    "                             epochs=5,\n",
    "                              steps_per_epoch=int(1*len(train_dataset)),\n",
    "                              validation_steps=int(0.1* len(valid_dataset))\n",
    "                             )"
   ]
  },
  {
   "cell_type": "code",
   "execution_count": 60,
   "id": "ac22a57f",
   "metadata": {},
   "outputs": [
    {
     "name": "stdout",
     "output_type": "stream",
     "text": [
      "945/945 [==============================] - 3s 3ms/step - loss: 0.7061 - accuracy: 0.7939\n"
     ]
    },
    {
     "data": {
      "text/plain": [
       "[0.7060862183570862, 0.7939229607582092]"
      ]
     },
     "execution_count": 60,
     "metadata": {},
     "output_type": "execute_result"
    }
   ],
   "source": [
    "model_1.evaluate(valid_dataset)"
   ]
  },
  {
   "cell_type": "code",
   "execution_count": 61,
   "id": "483b8cd0",
   "metadata": {},
   "outputs": [],
   "source": [
    "model_1_pred_probs = model_1.predict(valid_dataset)\n"
   ]
  },
  {
   "cell_type": "code",
   "execution_count": 62,
   "id": "b39f257f",
   "metadata": {},
   "outputs": [],
   "source": [
    "model_1_preds = model_1_pred_probs.argmax(axis=1)"
   ]
  },
  {
   "cell_type": "code",
   "execution_count": 63,
   "id": "c2200c86",
   "metadata": {},
   "outputs": [
    {
     "data": {
      "text/plain": [
       "array([0, 3, 3, 2, 2, 2, 4, 4, 4, 1, 1, 4, 1, 3, 2, 2, 4, 1, 1, 4, 0, 1,\n",
       "       0, 1, 3, 0, 2, 2, 4, 2, 4, 3, 0, 1, 0, 2, 2, 2, 4, 4, 1, 1, 0, 1,\n",
       "       3, 2, 2, 2, 4, 2, 2, 4, 4, 4, 4, 1, 4, 1, 0, 0, 0, 2, 2, 2, 2, 4,\n",
       "       4, 3, 2, 2, 2, 4, 4, 4, 2, 4, 4, 4, 0, 3, 2, 2, 2, 2, 4, 4, 4, 4,\n",
       "       1, 4, 1, 1, 3, 2, 2, 2, 2, 1, 2, 4], dtype=int64)"
      ]
     },
     "execution_count": 63,
     "metadata": {},
     "output_type": "execute_result"
    }
   ],
   "source": [
    "model_1_preds[:100]"
   ]
  },
  {
   "cell_type": "code",
   "execution_count": 64,
   "id": "ee5d8480",
   "metadata": {},
   "outputs": [],
   "source": [
    "model_1_results = calculate_results(val_labels_encoded,model_1_preds)"
   ]
  },
  {
   "cell_type": "code",
   "execution_count": 65,
   "id": "d7ef0bf1",
   "metadata": {},
   "outputs": [
    {
     "data": {
      "text/plain": [
       "{'accuracy': 79.39229445253542,\n",
       " 'precision': 0.7913128217961111,\n",
       " 'recall': 0.7939229445253542,\n",
       " 'f1': 0.7914068217941956}"
      ]
     },
     "execution_count": 65,
     "metadata": {},
     "output_type": "execute_result"
    }
   ],
   "source": [
    "model_1_results"
   ]
  },
  {
   "cell_type": "markdown",
   "id": "f67b904d",
   "metadata": {},
   "source": [
    "### Model 2: Feature extraction with pretrained token embeddings"
   ]
  },
  {
   "cell_type": "code",
   "execution_count": 66,
   "id": "4267e671",
   "metadata": {},
   "outputs": [],
   "source": [
    "# Download pretrained Tensorflow HUB USE\n",
    "\n",
    "import tensorflow_hub as hub\n",
    "\n"
   ]
  },
  {
   "cell_type": "code",
   "execution_count": 67,
   "id": "31042e1a",
   "metadata": {},
   "outputs": [],
   "source": [
    "# Download pretrained TensorFlow Hub USE\n",
    "import tensorflow_hub as hub\n",
    "tf_hub_embedding_layer = hub.KerasLayer(\"https://tfhub.dev/google/universal-sentence-encoder/4\",\n",
    "                                        trainable=False,\n",
    "                                        name=\"universal_sentence_encoder\")"
   ]
  },
  {
   "cell_type": "code",
   "execution_count": 68,
   "id": "c8bcb84b",
   "metadata": {},
   "outputs": [
    {
     "name": "stdout",
     "output_type": "stream",
     "text": [
      "Text:\n",
      "the control group were significantly less likely to quit smoking ( or = @ ; @ % ci = @-@ @ , p < @ ) .\n",
      "Vectorized text:(1, 512)\n"
     ]
    }
   ],
   "source": [
    "target_sentenece = random.choice(train_sentences)\n",
    "print(f\"Text:\\n{target_sentenece}\")\n",
    "vectorized_sentence = tf_hub_embedding_layer([target_sentenece])\n",
    "print(f\"Vectorized text:{vectorized_sentence.shape}\")\n",
    "# embedded_sentence = token_embed(vectorized_sentence)\n",
    "# print(f\"Embbed text:{embedded_sentence}\")\n",
    "# print(f\"Embbed text shape:{embedded_sentence.shape}\")"
   ]
  },
  {
   "cell_type": "code",
   "execution_count": 69,
   "id": "8da15be0",
   "metadata": {},
   "outputs": [],
   "source": [
    "inputs = layers.Input(shape=[],dtype=tf.string)\n",
    "x = tf_hub_embedding_layer(inputs)\n",
    "x = layers.Dense(128,activation='relu')(x)\n",
    "x = layers.Dense(64,activation='relu')(x)\n",
    "#x = layers.GlobalAveragePooling1D()(x)\n",
    "outputs = layers.Dense(num_classes,activation='softmax')(x)\n",
    "\n",
    "model_2 =tf.keras.Model(inputs,outputs,name='model_2')\n",
    "\n",
    "# Compile\n",
    "model_2.compile(loss=\"categorical_crossentropy\", # if your labels are integer form (not one hot) use sparse_categorical_crossentropy\n",
    "                optimizer=tf.keras.optimizers.Adam(),\n",
    "                metrics=[\"accuracy\"])"
   ]
  },
  {
   "cell_type": "code",
   "execution_count": 70,
   "id": "1ab69538",
   "metadata": {},
   "outputs": [
    {
     "name": "stdout",
     "output_type": "stream",
     "text": [
      "Model: \"model_2\"\n",
      "_________________________________________________________________\n",
      " Layer (type)                Output Shape              Param #   \n",
      "=================================================================\n",
      " input_2 (InputLayer)        [(None,)]                 0         \n",
      "                                                                 \n",
      " universal_sentence_encoder   (None, 512)              256797824 \n",
      " (KerasLayer)                                                    \n",
      "                                                                 \n",
      " dense_1 (Dense)             (None, 128)               65664     \n",
      "                                                                 \n",
      " dense_2 (Dense)             (None, 64)                8256      \n",
      "                                                                 \n",
      " dense_3 (Dense)             (None, 5)                 325       \n",
      "                                                                 \n",
      "=================================================================\n",
      "Total params: 256,872,069\n",
      "Trainable params: 74,245\n",
      "Non-trainable params: 256,797,824\n",
      "_________________________________________________________________\n"
     ]
    }
   ],
   "source": [
    "model_2.summary()"
   ]
  },
  {
   "cell_type": "code",
   "execution_count": 71,
   "id": "9441fa27",
   "metadata": {},
   "outputs": [
    {
     "name": "stdout",
     "output_type": "stream",
     "text": [
      "Epoch 1/5\n",
      "562/562 [==============================] - 12s 18ms/step - loss: 0.8927 - accuracy: 0.6503 - val_loss: 0.7880 - val_accuracy: 0.6945\n",
      "Epoch 2/5\n",
      "562/562 [==============================] - 9s 16ms/step - loss: 0.7480 - accuracy: 0.7085 - val_loss: 0.7251 - val_accuracy: 0.7131\n",
      "Epoch 3/5\n",
      "562/562 [==============================] - 9s 16ms/step - loss: 0.7183 - accuracy: 0.7235 - val_loss: 0.6899 - val_accuracy: 0.7334\n",
      "Epoch 4/5\n",
      "562/562 [==============================] - 9s 16ms/step - loss: 0.6840 - accuracy: 0.7395 - val_loss: 0.6668 - val_accuracy: 0.7460\n",
      "Epoch 5/5\n",
      "562/562 [==============================] - 9s 16ms/step - loss: 0.6884 - accuracy: 0.7353 - val_loss: 0.6519 - val_accuracy: 0.7473\n"
     ]
    }
   ],
   "source": [
    "history_model_2=model_2.fit(train_dataset,\n",
    "           validation_data=valid_dataset,\n",
    "            steps_per_epoch=int(0.1*(len(train_dataset))),\n",
    "           validation_steps=int(0.1*(len(valid_dataset))),\n",
    "           epochs=5)"
   ]
  },
  {
   "cell_type": "code",
   "execution_count": 72,
   "id": "8706523b",
   "metadata": {},
   "outputs": [
    {
     "name": "stdout",
     "output_type": "stream",
     "text": [
      "945/945 [==============================] - 13s 14ms/step - loss: 0.6611 - accuracy: 0.7473\n"
     ]
    },
    {
     "data": {
      "text/plain": [
       "[0.6610937118530273, 0.7472527623176575]"
      ]
     },
     "execution_count": 72,
     "metadata": {},
     "output_type": "execute_result"
    }
   ],
   "source": [
    "model_2.evaluate(valid_dataset)"
   ]
  },
  {
   "cell_type": "code",
   "execution_count": 73,
   "id": "c0b472d7",
   "metadata": {},
   "outputs": [],
   "source": [
    "model_2_pred_prob  = model_2.predict(valid_dataset)"
   ]
  },
  {
   "cell_type": "code",
   "execution_count": 74,
   "id": "ced24c6f",
   "metadata": {},
   "outputs": [],
   "source": [
    "model_2_preds = model_2_pred_prob.argmax(axis=1)"
   ]
  },
  {
   "cell_type": "code",
   "execution_count": 75,
   "id": "a5d131be",
   "metadata": {},
   "outputs": [
    {
     "data": {
      "text/plain": [
       "{'accuracy': 74.72527472527473,\n",
       " 'precision': 0.7433157105868108,\n",
       " 'recall': 0.7472527472527473,\n",
       " 'f1': 0.7416002430826598}"
      ]
     },
     "execution_count": 75,
     "metadata": {},
     "output_type": "execute_result"
    }
   ],
   "source": [
    "model_2_results = calculate_results(val_labels_encoded,model_2_preds)\n",
    "model_2_results"
   ]
  },
  {
   "cell_type": "markdown",
   "id": "98e67492",
   "metadata": {},
   "source": [
    "## Model 3: Conv1D with character embeddings"
   ]
  },
  {
   "cell_type": "markdown",
   "id": "90aa63ee",
   "metadata": {},
   "source": [
    "### Creating a character level tokenizer"
   ]
  },
  {
   "cell_type": "code",
   "execution_count": 76,
   "id": "7432c261",
   "metadata": {},
   "outputs": [],
   "source": [
    "def split_chars(text):\n",
    "    return \" \".join(list(text))\n",
    "\n"
   ]
  },
  {
   "cell_type": "code",
   "execution_count": 77,
   "id": "e9ad6726",
   "metadata": {
    "scrolled": true
   },
   "outputs": [
    {
     "data": {
      "text/plain": [
       "['t o   i n v e s t i g a t e   t h e   e f f i c a c y   o f   @   w e e k s   o f   d a i l y   l o w - d o s e   o r a l   p r e d n i s o l o n e   i n   i m p r o v i n g   p a i n   ,   m o b i l i t y   ,   a n d   s y s t e m i c   l o w - g r a d e   i n f l a m m a t i o n   i n   t h e   s h o r t   t e r m   a n d   w h e t h e r   t h e   e f f e c t   w o u l d   b e   s u s t a i n e d   a t   @   w e e k s   i n   o l d e r   a d u l t s   w i t h   m o d e r a t e   t o   s e v e r e   k n e e   o s t e o a r t h r i t i s   (   o a   )   .',\n",
       " 'a   t o t a l   o f   @   p a t i e n t s   w i t h   p r i m a r y   k n e e   o a   w e r e   r a n d o m i z e d   @ : @   ;   @   r e c e i v e d   @   m g / d a y   o f   p r e d n i s o l o n e   a n d   @   r e c e i v e d   p l a c e b o   f o r   @   w e e k s   .',\n",
       " 'o u t c o m e   m e a s u r e s   i n c l u d e d   p a i n   r e d u c t i o n   a n d   i m p r o v e m e n t   i n   f u n c t i o n   s c o r e s   a n d   s y s t e m i c   i n f l a m m a t i o n   m a r k e r s   .',\n",
       " 'p a i n   w a s   a s s e s s e d   u s i n g   t h e   v i s u a l   a n a l o g   p a i n   s c a l e   (   @ - @   m m   )   .',\n",
       " 's e c o n d a r y   o u t c o m e   m e a s u r e s   i n c l u d e d   t h e   w e s t e r n   o n t a r i o   a n d   m c m a s t e r   u n i v e r s i t i e s   o s t e o a r t h r i t i s   i n d e x   s c o r e s   ,   p a t i e n t   g l o b a l   a s s e s s m e n t   (   p g a   )   o f   t h e   s e v e r i t y   o f   k n e e   o a   ,   a n d   @ - m i n   w a l k   d i s t a n c e   (   @ m w d   )   .',\n",
       " 's e r u m   l e v e l s   o f   i n t e r l e u k i n   @   (   i l - @   )   ,   i l - @   ,   t u m o r   n e c r o s i s   f a c t o r   (   t n f   )   -   ,   a n d   h i g h - s e n s i t i v i t y   c - r e a c t i v e   p r o t e i n   (   h s c r p   )   w e r e   m e a s u r e d   .',\n",
       " 't h e r e   w a s   a   c l i n i c a l l y   r e l e v a n t   r e d u c t i o n   i n   t h e   i n t e r v e n t i o n   g r o u p   c o m p a r e d   t o   t h e   p l a c e b o   g r o u p   f o r   k n e e   p a i n   ,   p h y s i c a l   f u n c t i o n   ,   p g a   ,   a n d   @ m w d   a t   @   w e e k s   .',\n",
       " 't h e   m e a n   d i f f e r e n c e   b e t w e e n   t r e a t m e n t   a r m s   (   @   %   c i   )   w a s   @   (   @ - @   @   )   ,   p   <   @   ;   @   (   @ - @   @   )   ,   p   <   @   ;   @   (   @ - @   @   )   ,   p   <   @   ;   a n d   @   (   @ - @   @   )   ,   p   <   @   ,   r e s p e c t i v e l y   .',\n",
       " 'f u r t h e r   ,   t h e r e   w a s   a   c l i n i c a l l y   r e l e v a n t   r e d u c t i o n   i n   t h e   s e r u m   l e v e l s   o f   i l - @   ,   i l - @   ,   t n f   -   ,   a n d   h s c r p   a t   @   w e e k s   i n   t h e   i n t e r v e n t i o n   g r o u p   w h e n   c o m p a r e d   t o   t h e   p l a c e b o   g r o u p   .',\n",
       " 't h e s e   d i f f e r e n c e s   r e m a i n e d   s i g n i f i c a n t   a t   @   w e e k s   .']"
      ]
     },
     "execution_count": 77,
     "metadata": {},
     "output_type": "execute_result"
    }
   ],
   "source": [
    "train_chars = [split_chars(sentence) for sentence in train_sentences]\n",
    "val_chars = [split_chars(sentence) for sentence in val_sentences]\n",
    "test_chars = [split_chars(sentence) for sentence in test_sentences]\n",
    "train_chars[:10]"
   ]
  },
  {
   "cell_type": "code",
   "execution_count": 78,
   "id": "1d98c75a",
   "metadata": {},
   "outputs": [
    {
     "data": {
      "text/plain": [
       "['t',\n",
       " 'o',\n",
       " 'i',\n",
       " 'n',\n",
       " 'v',\n",
       " 'e',\n",
       " 's',\n",
       " 't',\n",
       " 'i',\n",
       " 'g',\n",
       " 'a',\n",
       " 't',\n",
       " 'e',\n",
       " 't',\n",
       " 'h',\n",
       " 'e',\n",
       " 'e',\n",
       " 'f',\n",
       " 'f',\n",
       " 'i',\n",
       " 'c',\n",
       " 'a',\n",
       " 'c',\n",
       " 'y',\n",
       " 'o',\n",
       " 'f',\n",
       " '@',\n",
       " 'w',\n",
       " 'e',\n",
       " 'e',\n",
       " 'k',\n",
       " 's',\n",
       " 'o',\n",
       " 'f',\n",
       " 'd',\n",
       " 'a',\n",
       " 'i',\n",
       " 'l',\n",
       " 'y',\n",
       " 'l',\n",
       " 'o',\n",
       " 'w',\n",
       " '-',\n",
       " 'd',\n",
       " 'o',\n",
       " 's',\n",
       " 'e',\n",
       " 'o',\n",
       " 'r',\n",
       " 'a',\n",
       " 'l',\n",
       " 'p',\n",
       " 'r',\n",
       " 'e',\n",
       " 'd',\n",
       " 'n',\n",
       " 'i',\n",
       " 's',\n",
       " 'o',\n",
       " 'l',\n",
       " 'o',\n",
       " 'n',\n",
       " 'e',\n",
       " 'i',\n",
       " 'n',\n",
       " 'i',\n",
       " 'm',\n",
       " 'p',\n",
       " 'r',\n",
       " 'o',\n",
       " 'v',\n",
       " 'i',\n",
       " 'n',\n",
       " 'g',\n",
       " 'p',\n",
       " 'a',\n",
       " 'i',\n",
       " 'n',\n",
       " ',',\n",
       " 'm',\n",
       " 'o',\n",
       " 'b',\n",
       " 'i',\n",
       " 'l',\n",
       " 'i',\n",
       " 't',\n",
       " 'y',\n",
       " ',',\n",
       " 'a',\n",
       " 'n',\n",
       " 'd',\n",
       " 's',\n",
       " 'y',\n",
       " 's',\n",
       " 't',\n",
       " 'e',\n",
       " 'm',\n",
       " 'i',\n",
       " 'c',\n",
       " 'l',\n",
       " 'o',\n",
       " 'w',\n",
       " '-',\n",
       " 'g',\n",
       " 'r',\n",
       " 'a',\n",
       " 'd',\n",
       " 'e',\n",
       " 'i',\n",
       " 'n',\n",
       " 'f',\n",
       " 'l',\n",
       " 'a',\n",
       " 'm',\n",
       " 'm',\n",
       " 'a',\n",
       " 't',\n",
       " 'i',\n",
       " 'o',\n",
       " 'n',\n",
       " 'i',\n",
       " 'n',\n",
       " 't',\n",
       " 'h',\n",
       " 'e',\n",
       " 's',\n",
       " 'h',\n",
       " 'o',\n",
       " 'r',\n",
       " 't',\n",
       " 't',\n",
       " 'e',\n",
       " 'r',\n",
       " 'm',\n",
       " 'a',\n",
       " 'n',\n",
       " 'd',\n",
       " 'w',\n",
       " 'h',\n",
       " 'e',\n",
       " 't',\n",
       " 'h',\n",
       " 'e',\n",
       " 'r',\n",
       " 't',\n",
       " 'h',\n",
       " 'e',\n",
       " 'e',\n",
       " 'f',\n",
       " 'f',\n",
       " 'e',\n",
       " 'c',\n",
       " 't',\n",
       " 'w',\n",
       " 'o',\n",
       " 'u',\n",
       " 'l',\n",
       " 'd',\n",
       " 'b',\n",
       " 'e',\n",
       " 's',\n",
       " 'u',\n",
       " 's',\n",
       " 't',\n",
       " 'a',\n",
       " 'i',\n",
       " 'n',\n",
       " 'e',\n",
       " 'd',\n",
       " 'a',\n",
       " 't',\n",
       " '@',\n",
       " 'w',\n",
       " 'e',\n",
       " 'e',\n",
       " 'k',\n",
       " 's',\n",
       " 'i',\n",
       " 'n',\n",
       " 'o',\n",
       " 'l',\n",
       " 'd',\n",
       " 'e',\n",
       " 'r',\n",
       " 'a',\n",
       " 'd',\n",
       " 'u',\n",
       " 'l',\n",
       " 't',\n",
       " 's',\n",
       " 'w',\n",
       " 'i',\n",
       " 't',\n",
       " 'h',\n",
       " 'm',\n",
       " 'o',\n",
       " 'd',\n",
       " 'e',\n",
       " 'r',\n",
       " 'a',\n",
       " 't',\n",
       " 'e',\n",
       " 't',\n",
       " 'o',\n",
       " 's',\n",
       " 'e',\n",
       " 'v',\n",
       " 'e',\n",
       " 'r',\n",
       " 'e',\n",
       " 'k',\n",
       " 'n',\n",
       " 'e',\n",
       " 'e',\n",
       " 'o',\n",
       " 's',\n",
       " 't',\n",
       " 'e',\n",
       " 'o',\n",
       " 'a',\n",
       " 'r',\n",
       " 't',\n",
       " 'h',\n",
       " 'r',\n",
       " 'i',\n",
       " 't',\n",
       " 'i',\n",
       " 's',\n",
       " '(',\n",
       " 'o',\n",
       " 'a',\n",
       " ')',\n",
       " '.']"
      ]
     },
     "execution_count": 78,
     "metadata": {},
     "output_type": "execute_result"
    }
   ],
   "source": [
    "train_chars[0].split()"
   ]
  },
  {
   "cell_type": "code",
   "execution_count": 79,
   "id": "521ba148",
   "metadata": {},
   "outputs": [
    {
     "data": {
      "text/plain": [
       "233"
      ]
     },
     "execution_count": 79,
     "metadata": {},
     "output_type": "execute_result"
    }
   ],
   "source": [
    "len(train_chars[0].split())"
   ]
  },
  {
   "cell_type": "code",
   "execution_count": 80,
   "id": "9a9c7c72",
   "metadata": {},
   "outputs": [
    {
     "data": {
      "text/plain": [
       "149.3662574983337"
      ]
     },
     "execution_count": 80,
     "metadata": {},
     "output_type": "execute_result"
    }
   ],
   "source": [
    "char_lens = [len(sentence) for sentence in train_sentences]\n",
    "mean_char_len = np.mean(char_lens)\n",
    "mean_char_len"
   ]
  },
  {
   "cell_type": "code",
   "execution_count": 81,
   "id": "94069a7d",
   "metadata": {},
   "outputs": [
    {
     "data": {
      "image/png": "[encoded data removed]",
      "text/plain": [
       "<Figure size 432x288 with 1 Axes>"
      ]
     },
     "metadata": {
      "needs_background": "light"
     },
     "output_type": "display_data"
    }
   ],
   "source": [
    "import matplotlib.pyplot as plt\n",
    "plt.hist(char_lens,bins=7);"
   ]
  },
  {
   "cell_type": "code",
   "execution_count": 82,
   "id": "b864e548",
   "metadata": {},
   "outputs": [
    {
     "data": {
      "text/plain": [
       "290"
      ]
     },
     "execution_count": 82,
     "metadata": {},
     "output_type": "execute_result"
    }
   ],
   "source": [
    "output_seq_char_len = int(np.percentile(char_lens,95))\n",
    "output_seq_char_len"
   ]
  },
  {
   "cell_type": "code",
   "execution_count": 83,
   "id": "765e3e0a",
   "metadata": {},
   "outputs": [
    {
     "data": {
      "text/plain": [
       "'abcdefghijklmnopqrstuvwxyz0123456789!\"#$%&\\'()*+,-./:;<=>?@[\\\\]^_`{|}~'"
      ]
     },
     "execution_count": 83,
     "metadata": {},
     "output_type": "execute_result"
    }
   ],
   "source": [
    "# get all keyboard characters\n",
    "import string\n",
    "alphabet = string.ascii_lowercase + string.digits +string.punctuation\n",
    "alphabet"
   ]
  },
  {
   "cell_type": "code",
   "execution_count": 84,
   "id": "54bf66d9",
   "metadata": {},
   "outputs": [],
   "source": [
    "NUM_CHAR_TOKENS = len(alphabet) + 2 # add space and OOV token\n",
    "char_vectorizer = TextVectorization(max_tokens=NUM_CHAR_TOKENS,\n",
    "                                   output_sequence_length=output_seq_char_len,\n",
    "                                   name='char_vectorizer')"
   ]
  },
  {
   "cell_type": "code",
   "execution_count": 85,
   "id": "38730b6a",
   "metadata": {},
   "outputs": [],
   "source": [
    "# Create char-level token vectorizer instance\n",
    "NUM_CHAR_TOKENS = len(alphabet) + 2 # num characters in alphabet + space + OOV token\n",
    "char_vectorizer = TextVectorization(max_tokens=NUM_CHAR_TOKENS,  \n",
    "                                    output_sequence_length=output_seq_char_len,\n",
    "                                    standardize=\"lower_and_strip_punctuation\",\n",
    "                                    name=\"char_vectorizer\")\n",
    "\n",
    "# Adapt character vectorizer to training characters\n",
    "char_vectorizer.adapt(train_chars)"
   ]
  },
  {
   "cell_type": "code",
   "execution_count": 86,
   "id": "9510d205",
   "metadata": {},
   "outputs": [
    {
     "data": {
      "text/plain": [
       "'t o   i n v e s t i g a t e   t h e   e f f i c a c y   o f   @   w e e k s   o f   d a i l y   l o w - d o s e   o r a l   p r e d n i s o l o n e   i n   i m p r o v i n g   p a i n   ,   m o b i l i t y   ,   a n d   s y s t e m i c   l o w - g r a d e   i n f l a m m a t i o n   i n   t h e   s h o r t   t e r m   a n d   w h e t h e r   t h e   e f f e c t   w o u l d   b e   s u s t a i n e d   a t   @   w e e k s   i n   o l d e r   a d u l t s   w i t h   m o d e r a t e   t o   s e v e r e   k n e e   o s t e o a r t h r i t i s   (   o a   )   .'"
      ]
     },
     "execution_count": 86,
     "metadata": {},
     "output_type": "execute_result"
    }
   ],
   "source": [
    "train_chars[0]"
   ]
  },
  {
   "cell_type": "code",
   "execution_count": 87,
   "id": "dab6b6a6",
   "metadata": {},
   "outputs": [
    {
     "name": "stdout",
     "output_type": "stream",
     "text": [
      "Charified text:\n",
      "t h e   d e v e l o p m e n t   r a t e s   o f   t o t a l   f l u i d   c o l l e c t i o n   ,   w o u n d   i n f e c t i o n   ,   f l a p   e d e m a   ,   h e m a t o m a   ,   a n d   p a r t i a l   w o u n d   s e p a r a t i o n   w e r e   @   %   ,   @   %   ,   @   %   ,   @   %   a n d   @   %   ,   r e s p e c t i v e l y   ;   t o t a l   f l a p   n e c r o s i s   w a s   n o t   o b s e r v e d   i n   a n y   p a t i e n t   (   p   <   @   )   .\n",
      "\n",
      "Length of chars: 184\n",
      "\n",
      "Vectorized chars:\n",
      "[[ 3 13  2 10  2 21  2 12  7 14 15  2  6  3  8  5  3  2  9  7 17  3  7  3\n",
      "   5 12 17 12 16  4 10 11  7 12 12  2 11  3  4  7  6 20  7 16  6 10  4  6\n",
      "  17  2 11  3  4  7  6 17 12  5 14  2 10  2 15  5 13  2 15  5  3  7 15  5\n",
      "   5  6 10 14  5  8  3  4  5 12 20  7 16  6 10  9  2 14  5  8  5  3  4  7\n",
      "   6 20  2  8  2  5  6 10  8  2  9 14  2 11  3  4 21  2 12 19  3  7  3  5\n",
      "  12 17 12  5 14  6  2 11  8  7  9  4  9 20  5  9  6  7  3  7 22  9  2  8\n",
      "  21  2 10  4  6  5  6 19 14  5  3  4  2  6  3 14  0  0  0  0  0  0  0  0\n",
      "   0  0  0  0  0  0  0  0  0  0  0  0  0  0  0  0  0  0  0  0  0  0  0  0\n",
      "   0  0  0  0  0  0  0  0  0  0  0  0  0  0  0  0  0  0  0  0  0  0  0  0\n",
      "   0  0  0  0  0  0  0  0  0  0  0  0  0  0  0  0  0  0  0  0  0  0  0  0\n",
      "   0  0  0  0  0  0  0  0  0  0  0  0  0  0  0  0  0  0  0  0  0  0  0  0\n",
      "   0  0  0  0  0  0  0  0  0  0  0  0  0  0  0  0  0  0  0  0  0  0  0  0\n",
      "   0  0]]\n",
      "\n",
      "Length of vectorized chars: 290\n"
     ]
    }
   ],
   "source": [
    "# Test out character vectorizer\n",
    "random_train_chars = random.choice(train_chars)\n",
    "print(f\"Charified text:\\n{random_train_chars}\")\n",
    "print(f\"\\nLength of chars: {len(random_train_chars.split())}\")\n",
    "vectorized_chars = char_vectorizer([random_train_chars])\n",
    "print(f\"\\nVectorized chars:\\n{vectorized_chars}\")\n",
    "print(f\"\\nLength of vectorized chars: {len(vectorized_chars[0])}\")"
   ]
  },
  {
   "cell_type": "markdown",
   "id": "ba61a383",
   "metadata": {},
   "source": [
    "### creating a character-level embedding"
   ]
  },
  {
   "cell_type": "code",
   "execution_count": 88,
   "id": "1d5765b3",
   "metadata": {},
   "outputs": [
    {
     "data": {
      "text/plain": [
       "70"
      ]
     },
     "execution_count": 88,
     "metadata": {},
     "output_type": "execute_result"
    }
   ],
   "source": [
    "NUM_CHAR_TOKENS"
   ]
  },
  {
   "cell_type": "code",
   "execution_count": 92,
   "id": "6c2c26d1",
   "metadata": {},
   "outputs": [
    {
     "name": "stdout",
     "output_type": "stream",
     "text": [
      "Number of different characters in character vocab: 28\n",
      "5 most common characters: ['', '[UNK]', 'e', 't', 'i']\n",
      "5 least common characters: ['k', 'x', 'z', 'q', 'j']\n"
     ]
    }
   ],
   "source": [
    "# Check character vocabulary characteristics\n",
    "char_vocab = char_vectorizer.get_vocabulary()\n",
    "print(f\"Number of different characters in character vocab: {len(char_vocab)}\")\n",
    "print(f\"5 most common characters: {char_vocab[:5]}\")\n",
    "print(f\"5 least common characters: {char_vocab[-5:]}\")"
   ]
  },
  {
   "cell_type": "code",
   "execution_count": 93,
   "id": "7558f4fe",
   "metadata": {},
   "outputs": [],
   "source": [
    "Embedding_char = layers.Embedding(input_dim=len(char_vocab),\n",
    "                                  output_dim=25,\n",
    "                                  mask_zero=True,\n",
    "                                  name='char_embed'\n",
    "                                 )"
   ]
  },
  {
   "cell_type": "code",
   "execution_count": 94,
   "id": "b4e313cc",
   "metadata": {},
   "outputs": [
    {
     "name": "stdout",
     "output_type": "stream",
     "text": [
      "Charified text:\n",
      "a t e n o l o l   a p p e a r s   t o   b e   a s   e f f e c t i v e   a s   p r o p r a n o l o l   .\n",
      "\n",
      "Length of chars: 44\n",
      "\n",
      "Vectorized chars:\n",
      "[[ 5  3  2  6  7 12  7 12  5 14 14  2  5  8  9  3  7 22  2  5  9  2 17 17\n",
      "   2 11  3  4 21  2  5  9 14  8  7 14  8  5  6  7 12  7 12  0  0  0  0  0\n",
      "   0  0  0  0  0  0  0  0  0  0  0  0  0  0  0  0  0  0  0  0  0  0  0  0\n",
      "   0  0  0  0  0  0  0  0  0  0  0  0  0  0  0  0  0  0  0  0  0  0  0  0\n",
      "   0  0  0  0  0  0  0  0  0  0  0  0  0  0  0  0  0  0  0  0  0  0  0  0\n",
      "   0  0  0  0  0  0  0  0  0  0  0  0  0  0  0  0  0  0  0  0  0  0  0  0\n",
      "   0  0  0  0  0  0  0  0  0  0  0  0  0  0  0  0  0  0  0  0  0  0  0  0\n",
      "   0  0  0  0  0  0  0  0  0  0  0  0  0  0  0  0  0  0  0  0  0  0  0  0\n",
      "   0  0  0  0  0  0  0  0  0  0  0  0  0  0  0  0  0  0  0  0  0  0  0  0\n",
      "   0  0  0  0  0  0  0  0  0  0  0  0  0  0  0  0  0  0  0  0  0  0  0  0\n",
      "   0  0  0  0  0  0  0  0  0  0  0  0  0  0  0  0  0  0  0  0  0  0  0  0\n",
      "   0  0  0  0  0  0  0  0  0  0  0  0  0  0  0  0  0  0  0  0  0  0  0  0\n",
      "   0  0]]\n",
      "\n",
      "Length of vectorized chars: 290\n",
      "embed:(1, 290, 25)\n"
     ]
    }
   ],
   "source": [
    "# Test out character vectorizer\n",
    "random_train_chars = random.choice(train_chars)\n",
    "print(f\"Charified text:\\n{random_train_chars}\")\n",
    "print(f\"\\nLength of chars: {len(random_train_chars.split())}\")\n",
    "vectorized_chars = char_vectorizer([random_train_chars])\n",
    "print(f\"\\nVectorized chars:\\n{vectorized_chars}\")\n",
    "print(f\"\\nLength of vectorized chars: {len(vectorized_chars[0])}\")\n",
    "print(f\"embed:{Embedding_char(vectorized_chars).shape}\")"
   ]
  },
  {
   "cell_type": "markdown",
   "id": "0f02c258",
   "metadata": {},
   "source": [
    "### building Conv1D model to fit on char embeddings"
   ]
  },
  {
   "cell_type": "code",
   "execution_count": 95,
   "id": "faa0bcf8",
   "metadata": {},
   "outputs": [],
   "source": [
    "inputs = layers.Input(shape=(1,),dtype=tf.string)\n",
    "x = char_vectorizer(inputs)\n",
    "x = Embedding_char(x)\n",
    "x = layers.Conv1D(64,activation='relu',padding='same',kernel_size=5)(x)\n",
    "x = layers.GlobalMaxPool1D()(x)\n",
    "outputs = layers.Dense(num_classes,activation='softmax')(x)\n",
    "model_3 = tf.keras.Model(inputs,outputs,name='model_3_conv1D_char_embedding')"
   ]
  },
  {
   "cell_type": "code",
   "execution_count": 96,
   "id": "dc17ca10",
   "metadata": {},
   "outputs": [],
   "source": [
    "model_3.compile(loss='categorical_crossentropy',metrics=['accuracy'],optimizer='adam')"
   ]
  },
  {
   "cell_type": "code",
   "execution_count": 97,
   "id": "8c868cac",
   "metadata": {},
   "outputs": [
    {
     "name": "stdout",
     "output_type": "stream",
     "text": [
      "Model: \"model_3_conv1D_char_embedding\"\n",
      "_________________________________________________________________\n",
      " Layer (type)                Output Shape              Param #   \n",
      "=================================================================\n",
      " input_3 (InputLayer)        [(None, 1)]               0         \n",
      "                                                                 \n",
      " char_vectorizer (TextVector  (None, 290)              0         \n",
      " ization)                                                        \n",
      "                                                                 \n",
      " char_embed (Embedding)      (None, 290, 25)           700       \n",
      "                                                                 \n",
      " conv1d_1 (Conv1D)           (None, 290, 64)           8064      \n",
      "                                                                 \n",
      " global_max_pooling1d (Globa  (None, 64)               0         \n",
      " lMaxPooling1D)                                                  \n",
      "                                                                 \n",
      " dense_4 (Dense)             (None, 5)                 325       \n",
      "                                                                 \n",
      "=================================================================\n",
      "Total params: 9,089\n",
      "Trainable params: 9,089\n",
      "Non-trainable params: 0\n",
      "_________________________________________________________________\n"
     ]
    }
   ],
   "source": [
    "model_3.summary()"
   ]
  },
  {
   "cell_type": "code",
   "execution_count": 98,
   "id": "d6f79bda",
   "metadata": {},
   "outputs": [
    {
     "data": {
      "text/plain": [
       "array([3, 2, 2, ..., 4, 1, 1])"
      ]
     },
     "execution_count": 98,
     "metadata": {},
     "output_type": "execute_result"
    }
   ],
   "source": [
    "train_labels_encoded"
   ]
  },
  {
   "cell_type": "code",
   "execution_count": 99,
   "id": "232f3f15",
   "metadata": {},
   "outputs": [],
   "source": [
    "# create char level datasets\n",
    "train_char_dataset = tf.data.Dataset.from_tensor_slices((train_chars,train_labels_one_hot)).batch(32).prefetch(tf.data.AUTOTUNE)\n",
    "val_char_dataset = tf.data.Dataset.from_tensor_slices((val_chars,val_labels_one_hot)).batch(32).prefetch(tf.data.AUTOTUNE)\n",
    "test_char_dataset = tf.data.Dataset.from_tensor_slices((test_chars,test_labels_one_hot)).batch(32).prefetch(tf.data.AUTOTUNE)"
   ]
  },
  {
   "cell_type": "code",
   "execution_count": 101,
   "id": "33588ed7",
   "metadata": {},
   "outputs": [
    {
     "data": {
      "text/plain": [
       "<PrefetchDataset element_spec=(TensorSpec(shape=(None,), dtype=tf.string, name=None), TensorSpec(shape=(None, 5), dtype=tf.float64, name=None))>"
      ]
     },
     "execution_count": 101,
     "metadata": {},
     "output_type": "execute_result"
    }
   ],
   "source": [
    "train_char_dataset"
   ]
  },
  {
   "cell_type": "code",
   "execution_count": 102,
   "id": "5a388535",
   "metadata": {},
   "outputs": [
    {
     "name": "stdout",
     "output_type": "stream",
     "text": [
      "Epoch 1/5\n",
      "562/562 [==============================] - 4s 7ms/step - loss: 1.2641 - accuracy: 0.4966 - val_loss: 1.0520 - val_accuracy: 0.5898\n",
      "Epoch 2/5\n",
      "562/562 [==============================] - 4s 7ms/step - loss: 1.0158 - accuracy: 0.5958 - val_loss: 0.9649 - val_accuracy: 0.6170\n",
      "Epoch 3/5\n",
      "562/562 [==============================] - 5s 9ms/step - loss: 0.9383 - accuracy: 0.6333 - val_loss: 0.8927 - val_accuracy: 0.6443\n",
      "Epoch 4/5\n",
      "562/562 [==============================] - 8s 15ms/step - loss: 0.8858 - accuracy: 0.6585 - val_loss: 0.8583 - val_accuracy: 0.6686\n",
      "Epoch 5/5\n",
      "562/562 [==============================] - 9s 15ms/step - loss: 0.8712 - accuracy: 0.6628 - val_loss: 0.8369 - val_accuracy: 0.6679\n"
     ]
    }
   ],
   "source": [
    "\n",
    "# Fit the model on chars only\n",
    "model_3_history = model_3.fit(train_char_dataset,\n",
    "                              steps_per_epoch=int(0.1 * len(train_char_dataset)),\n",
    "                              epochs=5,\n",
    "                              validation_data=val_char_dataset,\n",
    "                              validation_steps=int(0.1 * len(val_char_dataset)))"
   ]
  },
  {
   "cell_type": "code",
   "execution_count": 103,
   "id": "fdf7a7d1",
   "metadata": {
    "scrolled": true
   },
   "outputs": [
    {
     "data": {
      "text/plain": [
       "array([[0.29434314, 0.30529192, 0.07319368, 0.3022063 , 0.02496494],\n",
       "       [0.11723755, 0.6786062 , 0.01962652, 0.13160263, 0.05292705],\n",
       "       [0.13562231, 0.2872997 , 0.21631922, 0.29234278, 0.06841598],\n",
       "       ...,\n",
       "       [0.02190248, 0.01955258, 0.12472519, 0.01921063, 0.81460905],\n",
       "       [0.045737  , 0.09267555, 0.7205558 , 0.02680953, 0.1142221 ],\n",
       "       [0.39181787, 0.50258523, 0.06606326, 0.03396078, 0.00557284]],\n",
       "      dtype=float32)"
      ]
     },
     "execution_count": 103,
     "metadata": {},
     "output_type": "execute_result"
    }
   ],
   "source": [
    "model_3_pred_prob = model_3.predict(val_char_dataset)\n",
    "model_3_pred_prob"
   ]
  },
  {
   "cell_type": "code",
   "execution_count": 104,
   "id": "26dddf13",
   "metadata": {},
   "outputs": [
    {
     "data": {
      "text/plain": [
       "<tf.Tensor: shape=(30212,), dtype=int64, numpy=array([1, 1, 3, ..., 4, 2, 1], dtype=int64)>"
      ]
     },
     "execution_count": 104,
     "metadata": {},
     "output_type": "execute_result"
    }
   ],
   "source": [
    "model_3_preds = tf.argmax(model_3_pred_prob,axis=1)\n",
    "model_3_preds"
   ]
  },
  {
   "cell_type": "code",
   "execution_count": 105,
   "id": "08c5616b",
   "metadata": {},
   "outputs": [
    {
     "data": {
      "text/plain": [
       "{'accuracy': 67.7247451343837,\n",
       " 'precision': 0.680375004581816,\n",
       " 'recall': 0.6772474513438369,\n",
       " 'f1': 0.6719337333537361}"
      ]
     },
     "execution_count": 105,
     "metadata": {},
     "output_type": "execute_result"
    }
   ],
   "source": [
    "model_3_results=calculate_results(val_labels_encoded,model_3_preds)\n",
    "model_3_results"
   ]
  },
  {
   "cell_type": "markdown",
   "id": "ea8ad69a",
   "metadata": {},
   "source": [
    "## Model 4: combining model 2 and model 3"
   ]
  },
  {
   "cell_type": "code",
   "execution_count": 107,
   "id": "ed799057",
   "metadata": {},
   "outputs": [],
   "source": [
    "token_inputs = layers.Input(shape=([]),dtype=tf.string,name='token_inputs')\n",
    "token_embeddings = tf_hub_embedding_layer(token_inputs)\n",
    "token_output = layers.Dense(128,activation='relu')(token_embeddings)\n",
    "token_model = tf.keras.Model(token_inputs,token_output)\n",
    "\n",
    "char_inputs = layers.Input(shape=(1,),dtype=tf.string,name='char_input')\n",
    "char_vectors = char_vectorizer(char_inputs)\n",
    "char_embeddings = Embedding_char(char_vectors)\n",
    "char_bi_lstm = layers.Bidirectional(layers.LSTM(24))(char_embeddings)\n",
    "char_model=tf.keras.Model(char_inputs,char_bi_lstm)\n",
    "\n",
    "token_char_concat = layers.Concatenate(name='token_char_hybrid')([token_model.output,\n",
    "                                                                  char_model.output])\n",
    "\n",
    "\n",
    "# create output layer\n",
    "\n",
    "combined_dropout = layers.Dropout(0.5)(token_char_concat)\n",
    "combined_dense = layers.Dense(128,activation='relu')(combined_dropout)\n",
    "final_dropout = layers.Dropout(0.5)(combined_dense)\n",
    "output_layer = layers.Dense(num_classes,activation='softmax')(final_dropout)\n",
    "\n",
    "model_4 = tf.keras.Model([token_model.input,char_model.input],output_layer,\n",
    "                        name=\"model_4_token_and_char_embeddings\")"
   ]
  },
  {
   "cell_type": "code",
   "execution_count": 135,
   "id": "2ce1c004",
   "metadata": {},
   "outputs": [],
   "source": [
    "\n",
    "# 1. Setup token inputs/model\n",
    "token_inputs = layers.Input(shape=[], dtype=tf.string, name=\"token_input\")\n",
    "token_embeddings = tf_hub_embedding_layer(token_inputs)\n",
    "token_output = layers.Dense(128, activation=\"relu\")(token_embeddings)\n",
    "token_model = tf.keras.Model(inputs=token_inputs,\n",
    "                             outputs=token_output)\n",
    "\n",
    "# 2. Setup char inputs/model\n",
    "char_inputs = layers.Input(shape=(1,), dtype=tf.string, name=\"char_input\")\n",
    "char_vectors = char_vectorizer(char_inputs)\n",
    "char_embeddings = Embedding_char(char_vectors)\n",
    "char_bi_lstm = layers.Bidirectional(layers.LSTM(25))(char_embeddings) # bi-LSTM shown in Figure 1 of https://arxiv.org/pdf/1612.05251.pdf\n",
    "char_model = tf.keras.Model(inputs=char_inputs,\n",
    "                            outputs=char_bi_lstm)\n",
    "\n",
    "# 3. Concatenate token and char inputs (create hybrid token embedding)\n",
    "token_char_concat = layers.Concatenate(name=\"token_char_hybrid\")([token_model.output, \n",
    "                                                                  char_model.output])\n",
    "\n",
    "# 4. Create output layers - addition of dropout discussed in 4.2 of https://arxiv.org/pdf/1612.05251.pdf\n",
    "combined_dropout = layers.Dropout(0.5)(token_char_concat)\n",
    "combined_dense = layers.Dense(200, activation=\"relu\")(combined_dropout) # slightly different to Figure 1 due to different shapes of token/char embedding layers\n",
    "final_dropout = layers.Dropout(0.5)(combined_dense)\n",
    "output_layer = layers.Dense(num_classes, activation=\"softmax\")(final_dropout)\n",
    "\n",
    "# 5. Construct model with char and token inputs\n",
    "model_4 = tf.keras.Model(inputs=[token_model.input, char_model.input],\n",
    "                         outputs=output_layer,\n",
    "                         name=\"model_4_token_and_char_embeddings\")"
   ]
  },
  {
   "cell_type": "code",
   "execution_count": 136,
   "id": "d8e99ffb",
   "metadata": {},
   "outputs": [
    {
     "name": "stdout",
     "output_type": "stream",
     "text": [
      "Model: \"model_4_token_and_char_embeddings\"\n",
      "__________________________________________________________________________________________________\n",
      " Layer (type)                   Output Shape         Param #     Connected to                     \n",
      "==================================================================================================\n",
      " char_input (InputLayer)        [(None, 1)]          0           []                               \n",
      "                                                                                                  \n",
      " token_input (InputLayer)       [(None,)]            0           []                               \n",
      "                                                                                                  \n",
      " char_vectorizer (TextVectoriza  (None, 290)         0           ['char_input[0][0]']             \n",
      " tion)                                                                                            \n",
      "                                                                                                  \n",
      " universal_sentence_encoder (Ke  (None, 512)         256797824   ['token_input[0][0]']            \n",
      " rasLayer)                                                                                        \n",
      "                                                                                                  \n",
      " char_embed (Embedding)         (None, 290, 25)      700         ['char_vectorizer[5][0]']        \n",
      "                                                                                                  \n",
      " dense_15 (Dense)               (None, 128)          65664       ['universal_sentence_encoder[5][0\n",
      "                                                                 ]']                              \n",
      "                                                                                                  \n",
      " bidirectional_3 (Bidirectional  (None, 50)          10200       ['char_embed[4][0]']             \n",
      " )                                                                                                \n",
      "                                                                                                  \n",
      " token_char_hybrid (Concatenate  (None, 178)         0           ['dense_15[0][0]',               \n",
      " )                                                                'bidirectional_3[0][0]']        \n",
      "                                                                                                  \n",
      " dropout_6 (Dropout)            (None, 178)          0           ['token_char_hybrid[0][0]']      \n",
      "                                                                                                  \n",
      " dense_16 (Dense)               (None, 200)          35800       ['dropout_6[0][0]']              \n",
      "                                                                                                  \n",
      " dropout_7 (Dropout)            (None, 200)          0           ['dense_16[0][0]']               \n",
      "                                                                                                  \n",
      " dense_17 (Dense)               (None, 5)            1005        ['dropout_7[0][0]']              \n",
      "                                                                                                  \n",
      "==================================================================================================\n",
      "Total params: 256,911,193\n",
      "Trainable params: 113,369\n",
      "Non-trainable params: 256,797,824\n",
      "__________________________________________________________________________________________________\n"
     ]
    }
   ],
   "source": [
    "model_4.summary()"
   ]
  },
  {
   "cell_type": "code",
   "execution_count": 124,
   "id": "7794568e",
   "metadata": {},
   "outputs": [],
   "source": [
    "from tensorflow.keras.utils import plot_model"
   ]
  },
  {
   "cell_type": "code",
   "execution_count": 125,
   "id": "778ecee8",
   "metadata": {},
   "outputs": [
    {
     "data": {
      "image/png": "[encoded data removed]",
      "text/plain": [
       "<IPython.core.display.Image object>"
      ]
     },
     "execution_count": 125,
     "metadata": {},
     "output_type": "execute_result"
    }
   ],
   "source": [
    "plot_model(model_4,show_shapes=True)"
   ]
  },
  {
   "cell_type": "code",
   "execution_count": 137,
   "id": "a48f5157",
   "metadata": {},
   "outputs": [],
   "source": [
    "model_4.compile(loss='categorical_crossentropy',optimizer='adam',\n",
    "               metrics=['accuracy'])"
   ]
  },
  {
   "cell_type": "markdown",
   "id": "09e98150",
   "metadata": {},
   "source": [
    "### Combining token and character data"
   ]
  },
  {
   "cell_type": "code",
   "execution_count": 117,
   "id": "5eb8e48e",
   "metadata": {},
   "outputs": [],
   "source": [
    "train_char_token_data = tf.data.Dataset.from_tensor_slices((train_sentences,train_chars))\n",
    "train_char_token_lables = tf.data.Dataset.from_tensor_slices((train_labels_one_hot))\n",
    "train_char_token_dataset = tf.data.Dataset.zip((train_char_token_data,train_char_token_lables))\n",
    "\n",
    "train_char_token_dataset=train_char_token_dataset.batch(32).prefetch(tf.data.AUTOTUNE)\n",
    "\n"
   ]
  },
  {
   "cell_type": "code",
   "execution_count": 118,
   "id": "8030e8ab",
   "metadata": {},
   "outputs": [],
   "source": [
    "val_char_token_data = tf.data.Dataset.from_tensor_slices((val_sentences,val_chars))\n",
    "val_token_labels = tf.data.Dataset.from_tensor_slices((val_labels_one_hot))\n",
    "val_char_token_dataset = tf.data.Dataset.zip((val_char_token_data,val_token_labels))\n",
    "\n",
    "val_char_token_dataset = val_char_token_dataset.batch(32).prefetch(tf.data.AUTOTUNE)"
   ]
  },
  {
   "cell_type": "code",
   "execution_count": 119,
   "id": "2b428444",
   "metadata": {},
   "outputs": [
    {
     "data": {
      "text/plain": [
       "<PrefetchDataset element_spec=((TensorSpec(shape=(None,), dtype=tf.string, name=None), TensorSpec(shape=(None,), dtype=tf.string, name=None)), TensorSpec(shape=(None, 5), dtype=tf.float64, name=None))>"
      ]
     },
     "execution_count": 119,
     "metadata": {},
     "output_type": "execute_result"
    }
   ],
   "source": [
    "train_char_token_dataset"
   ]
  },
  {
   "cell_type": "code",
   "execution_count": 128,
   "id": "3903cf9c",
   "metadata": {},
   "outputs": [],
   "source": [
    "\n",
    "# Combine chars and tokens into a dataset\n",
    "train_char_token_data = tf.data.Dataset.from_tensor_slices((train_sentences, train_chars)) # make data\n",
    "train_char_token_labels = tf.data.Dataset.from_tensor_slices(train_labels_one_hot) # make labels\n",
    "train_char_token_dataset = tf.data.Dataset.zip((train_char_token_data, train_char_token_labels)) # combine data and labels\n",
    "\n",
    "# Prefetch and batch train data\n",
    "train_char_token_dataset = train_char_token_dataset.batch(32).prefetch(tf.data.AUTOTUNE) \n",
    "\n",
    "# Repeat same steps validation data\n",
    "val_char_token_data = tf.data.Dataset.from_tensor_slices((val_sentences, val_chars))\n",
    "val_char_token_labels = tf.data.Dataset.from_tensor_slices(val_labels_one_hot)\n",
    "val_char_token_dataset = tf.data.Dataset.zip((val_char_token_data, val_char_token_labels))\n",
    "val_char_token_dataset = val_char_token_dataset.batch(32).prefetch(tf.data.AUTOTUNE)"
   ]
  },
  {
   "cell_type": "code",
   "execution_count": 202,
   "id": "4b3c210d",
   "metadata": {},
   "outputs": [
    {
     "data": {
      "text/plain": [
       "54.6875"
      ]
     },
     "execution_count": 202,
     "metadata": {},
     "output_type": "execute_result"
    }
   ],
   "source": [
    "7000/128"
   ]
  },
  {
   "cell_type": "code",
   "execution_count": 204,
   "id": "8719e057",
   "metadata": {},
   "outputs": [
    {
     "data": {
      "text/plain": [
       "5627"
      ]
     },
     "execution_count": 204,
     "metadata": {},
     "output_type": "execute_result"
    }
   ],
   "source": [
    "len(train_char_token_dataset)"
   ]
  },
  {
   "cell_type": "code",
   "execution_count": 203,
   "id": "02878b8e",
   "metadata": {},
   "outputs": [
    {
     "data": {
      "text/plain": [
       "562"
      ]
     },
     "execution_count": 203,
     "metadata": {},
     "output_type": "execute_result"
    }
   ],
   "source": [
    "int(0.1 * len(train_char_token_dataset))"
   ]
  },
  {
   "cell_type": "code",
   "execution_count": 205,
   "id": "6ff8a465",
   "metadata": {},
   "outputs": [
    {
     "data": {
      "text/plain": [
       "178"
      ]
     },
     "execution_count": 205,
     "metadata": {},
     "output_type": "execute_result"
    }
   ],
   "source": [
    "5710//32"
   ]
  },
  {
   "cell_type": "code",
   "execution_count": 138,
   "id": "1d987b79",
   "metadata": {},
   "outputs": [
    {
     "name": "stdout",
     "output_type": "stream",
     "text": [
      "Epoch 1/5\n",
      "562/562 [==============================] - 46s 72ms/step - loss: 0.9511 - accuracy: 0.6192 - val_loss: 0.7642 - val_accuracy: 0.7081\n",
      "Epoch 2/5\n",
      "562/562 [==============================] - 38s 67ms/step - loss: 0.7829 - accuracy: 0.6959 - val_loss: 0.7000 - val_accuracy: 0.7344\n",
      "Epoch 3/5\n",
      "562/562 [==============================] - 36s 63ms/step - loss: 0.7620 - accuracy: 0.7065 - val_loss: 0.6802 - val_accuracy: 0.7414\n",
      "Epoch 4/5\n",
      "562/562 [==============================] - 40s 71ms/step - loss: 0.7288 - accuracy: 0.7241 - val_loss: 0.6596 - val_accuracy: 0.7503\n",
      "Epoch 5/5\n",
      "562/562 [==============================] - 37s 66ms/step - loss: 0.7313 - accuracy: 0.7206 - val_loss: 0.6488 - val_accuracy: 0.7507\n"
     ]
    }
   ],
   "source": [
    "\n",
    "# Fit the model on tokens and chars\n",
    "model_4_history = model_4.fit(train_char_token_dataset, # train on dataset of token and characters\n",
    "                              steps_per_epoch=int(0.1 * len(train_char_token_dataset)),\n",
    "                              epochs=5,\n",
    "                              validation_data=val_char_token_dataset,\n",
    "                              validation_steps=int(0.1 * len(val_char_token_dataset)))"
   ]
  },
  {
   "cell_type": "code",
   "execution_count": 139,
   "id": "8a9375db",
   "metadata": {},
   "outputs": [
    {
     "name": "stdout",
     "output_type": "stream",
     "text": [
      "945/945 [==============================] - 29s 30ms/step - loss: 0.6551 - accuracy: 0.7486\n"
     ]
    },
    {
     "data": {
      "text/plain": [
       "[0.6551218032836914, 0.7485767006874084]"
      ]
     },
     "execution_count": 139,
     "metadata": {},
     "output_type": "execute_result"
    }
   ],
   "source": [
    "model_4.evaluate(val_char_token_dataset)"
   ]
  },
  {
   "cell_type": "code",
   "execution_count": 140,
   "id": "27b7479f",
   "metadata": {},
   "outputs": [],
   "source": [
    "model_4_pred_probs = model_4.predict(val_char_token_dataset)"
   ]
  },
  {
   "cell_type": "code",
   "execution_count": 141,
   "id": "3df42bb2",
   "metadata": {},
   "outputs": [],
   "source": [
    "model_4_preds = tf.argmax(model_4_pred_probs,axis=1)"
   ]
  },
  {
   "cell_type": "code",
   "execution_count": 142,
   "id": "ae7d98b2",
   "metadata": {},
   "outputs": [
    {
     "data": {
      "text/plain": [
       "{'accuracy': 74.8576724480339,\n",
       " 'precision': 0.743984314598593,\n",
       " 'recall': 0.748576724480339,\n",
       " 'f1': 0.7430911549217798}"
      ]
     },
     "execution_count": 142,
     "metadata": {},
     "output_type": "execute_result"
    }
   ],
   "source": [
    "model_4_results = calculate_results(val_labels_encoded,model_4_preds)\n",
    "model_4_results"
   ]
  },
  {
   "cell_type": "markdown",
   "id": "6d532232",
   "metadata": {},
   "source": [
    "## Model 5: Transfer learing token embed +char embed + pos embed"
   ]
  },
  {
   "cell_type": "code",
   "execution_count": 144,
   "id": "d95c015d",
   "metadata": {},
   "outputs": [
    {
     "data": {
      "text/html": [
       "<div>\n",
       "<style scoped>\n",
       "    .dataframe tbody tr th:only-of-type {\n",
       "        vertical-align: middle;\n",
       "    }\n",
       "\n",
       "    .dataframe tbody tr th {\n",
       "        vertical-align: top;\n",
       "    }\n",
       "\n",
       "    .dataframe thead th {\n",
       "        text-align: right;\n",
       "    }\n",
       "</style>\n",
       "<table border=\"1\" class=\"dataframe\">\n",
       "  <thead>\n",
       "    <tr style=\"text-align: right;\">\n",
       "      <th></th>\n",
       "      <th>target</th>\n",
       "      <th>text</th>\n",
       "      <th>line_number</th>\n",
       "      <th>total_lines</th>\n",
       "    </tr>\n",
       "  </thead>\n",
       "  <tbody>\n",
       "    <tr>\n",
       "      <th>0</th>\n",
       "      <td>OBJECTIVE</td>\n",
       "      <td>to investigate the efficacy of @ weeks of dail...</td>\n",
       "      <td>0</td>\n",
       "      <td>11</td>\n",
       "    </tr>\n",
       "    <tr>\n",
       "      <th>1</th>\n",
       "      <td>METHODS</td>\n",
       "      <td>a total of @ patients with primary knee oa wer...</td>\n",
       "      <td>1</td>\n",
       "      <td>11</td>\n",
       "    </tr>\n",
       "    <tr>\n",
       "      <th>2</th>\n",
       "      <td>METHODS</td>\n",
       "      <td>outcome measures included pain reduction and i...</td>\n",
       "      <td>2</td>\n",
       "      <td>11</td>\n",
       "    </tr>\n",
       "    <tr>\n",
       "      <th>3</th>\n",
       "      <td>METHODS</td>\n",
       "      <td>pain was assessed using the visual analog pain...</td>\n",
       "      <td>3</td>\n",
       "      <td>11</td>\n",
       "    </tr>\n",
       "    <tr>\n",
       "      <th>4</th>\n",
       "      <td>METHODS</td>\n",
       "      <td>secondary outcome measures included the wester...</td>\n",
       "      <td>4</td>\n",
       "      <td>11</td>\n",
       "    </tr>\n",
       "    <tr>\n",
       "      <th>5</th>\n",
       "      <td>METHODS</td>\n",
       "      <td>serum levels of interleukin @ ( il-@ ) , il-@ ...</td>\n",
       "      <td>5</td>\n",
       "      <td>11</td>\n",
       "    </tr>\n",
       "    <tr>\n",
       "      <th>6</th>\n",
       "      <td>RESULTS</td>\n",
       "      <td>there was a clinically relevant reduction in t...</td>\n",
       "      <td>6</td>\n",
       "      <td>11</td>\n",
       "    </tr>\n",
       "    <tr>\n",
       "      <th>7</th>\n",
       "      <td>RESULTS</td>\n",
       "      <td>the mean difference between treatment arms ( @...</td>\n",
       "      <td>7</td>\n",
       "      <td>11</td>\n",
       "    </tr>\n",
       "    <tr>\n",
       "      <th>8</th>\n",
       "      <td>RESULTS</td>\n",
       "      <td>further , there was a clinically relevant redu...</td>\n",
       "      <td>8</td>\n",
       "      <td>11</td>\n",
       "    </tr>\n",
       "    <tr>\n",
       "      <th>9</th>\n",
       "      <td>RESULTS</td>\n",
       "      <td>these differences remained significant at @ we...</td>\n",
       "      <td>9</td>\n",
       "      <td>11</td>\n",
       "    </tr>\n",
       "    <tr>\n",
       "      <th>10</th>\n",
       "      <td>RESULTS</td>\n",
       "      <td>the outcome measures in rheumatology clinical ...</td>\n",
       "      <td>10</td>\n",
       "      <td>11</td>\n",
       "    </tr>\n",
       "    <tr>\n",
       "      <th>11</th>\n",
       "      <td>CONCLUSIONS</td>\n",
       "      <td>low-dose oral prednisolone had both a short-te...</td>\n",
       "      <td>11</td>\n",
       "      <td>11</td>\n",
       "    </tr>\n",
       "    <tr>\n",
       "      <th>12</th>\n",
       "      <td>BACKGROUND</td>\n",
       "      <td>emotional eating is associated with overeating...</td>\n",
       "      <td>0</td>\n",
       "      <td>10</td>\n",
       "    </tr>\n",
       "    <tr>\n",
       "      <th>13</th>\n",
       "      <td>BACKGROUND</td>\n",
       "      <td>yet , empirical evidence for individual ( trai...</td>\n",
       "      <td>1</td>\n",
       "      <td>10</td>\n",
       "    </tr>\n",
       "    <tr>\n",
       "      <th>14</th>\n",
       "      <td>OBJECTIVE</td>\n",
       "      <td>the aim of this study was to test if attention...</td>\n",
       "      <td>2</td>\n",
       "      <td>10</td>\n",
       "    </tr>\n",
       "    <tr>\n",
       "      <th>15</th>\n",
       "      <td>OBJECTIVE</td>\n",
       "      <td>it was expected that emotional eating is predi...</td>\n",
       "      <td>3</td>\n",
       "      <td>10</td>\n",
       "    </tr>\n",
       "    <tr>\n",
       "      <th>16</th>\n",
       "      <td>METHODS</td>\n",
       "      <td>participants ( n = @ ) were randomly assigned ...</td>\n",
       "      <td>4</td>\n",
       "      <td>10</td>\n",
       "    </tr>\n",
       "    <tr>\n",
       "      <th>17</th>\n",
       "      <td>METHODS</td>\n",
       "      <td>attentional biases for high caloric foods were...</td>\n",
       "      <td>5</td>\n",
       "      <td>10</td>\n",
       "    </tr>\n",
       "    <tr>\n",
       "      <th>18</th>\n",
       "      <td>METHODS</td>\n",
       "      <td>self-reported emotional eating was assessed wi...</td>\n",
       "      <td>6</td>\n",
       "      <td>10</td>\n",
       "    </tr>\n",
       "    <tr>\n",
       "      <th>19</th>\n",
       "      <td>RESULTS</td>\n",
       "      <td>hierarchical multivariate regression modeling ...</td>\n",
       "      <td>7</td>\n",
       "      <td>10</td>\n",
       "    </tr>\n",
       "  </tbody>\n",
       "</table>\n",
       "</div>"
      ],
      "text/plain": [
       "         target                                               text  \\\n",
       "0     OBJECTIVE  to investigate the efficacy of @ weeks of dail...   \n",
       "1       METHODS  a total of @ patients with primary knee oa wer...   \n",
       "2       METHODS  outcome measures included pain reduction and i...   \n",
       "3       METHODS  pain was assessed using the visual analog pain...   \n",
       "4       METHODS  secondary outcome measures included the wester...   \n",
       "5       METHODS  serum levels of interleukin @ ( il-@ ) , il-@ ...   \n",
       "6       RESULTS  there was a clinically relevant reduction in t...   \n",
       "7       RESULTS  the mean difference between treatment arms ( @...   \n",
       "8       RESULTS  further , there was a clinically relevant redu...   \n",
       "9       RESULTS  these differences remained significant at @ we...   \n",
       "10      RESULTS  the outcome measures in rheumatology clinical ...   \n",
       "11  CONCLUSIONS  low-dose oral prednisolone had both a short-te...   \n",
       "12   BACKGROUND  emotional eating is associated with overeating...   \n",
       "13   BACKGROUND  yet , empirical evidence for individual ( trai...   \n",
       "14    OBJECTIVE  the aim of this study was to test if attention...   \n",
       "15    OBJECTIVE  it was expected that emotional eating is predi...   \n",
       "16      METHODS  participants ( n = @ ) were randomly assigned ...   \n",
       "17      METHODS  attentional biases for high caloric foods were...   \n",
       "18      METHODS  self-reported emotional eating was assessed wi...   \n",
       "19      RESULTS  hierarchical multivariate regression modeling ...   \n",
       "\n",
       "    line_number  total_lines  \n",
       "0             0           11  \n",
       "1             1           11  \n",
       "2             2           11  \n",
       "3             3           11  \n",
       "4             4           11  \n",
       "5             5           11  \n",
       "6             6           11  \n",
       "7             7           11  \n",
       "8             8           11  \n",
       "9             9           11  \n",
       "10           10           11  \n",
       "11           11           11  \n",
       "12            0           10  \n",
       "13            1           10  \n",
       "14            2           10  \n",
       "15            3           10  \n",
       "16            4           10  \n",
       "17            5           10  \n",
       "18            6           10  \n",
       "19            7           10  "
      ]
     },
     "execution_count": 144,
     "metadata": {},
     "output_type": "execute_result"
    }
   ],
   "source": [
    "train_df.head(20)"
   ]
  },
  {
   "cell_type": "markdown",
   "id": "42462751",
   "metadata": {},
   "source": [
    "### Create positional embeddings"
   ]
  },
  {
   "cell_type": "code",
   "execution_count": 149,
   "id": "529d157d",
   "metadata": {},
   "outputs": [
    {
     "data": {
      "text/plain": [
       "0     15000\n",
       "1     15000\n",
       "2     15000\n",
       "3     15000\n",
       "4     14992\n",
       "5     14949\n",
       "6     14758\n",
       "7     14279\n",
       "8     13346\n",
       "9     11981\n",
       "10    10041\n",
       "11     7892\n",
       "12     5853\n",
       "13     4152\n",
       "14     2835\n",
       "15     1861\n",
       "16     1188\n",
       "17      751\n",
       "18      462\n",
       "19      286\n",
       "20      162\n",
       "21      101\n",
       "22       66\n",
       "23       33\n",
       "24       22\n",
       "25       14\n",
       "26        7\n",
       "27        4\n",
       "28        3\n",
       "29        1\n",
       "30        1\n",
       "Name: line_number, dtype: int64"
      ]
     },
     "execution_count": 149,
     "metadata": {},
     "output_type": "execute_result"
    }
   ],
   "source": [
    "train_df[\"line_number\"].value_counts()"
   ]
  },
  {
   "cell_type": "code",
   "execution_count": 150,
   "id": "8a7d2b3d",
   "metadata": {},
   "outputs": [
    {
     "data": {
      "text/plain": [
       "<AxesSubplot:ylabel='Frequency'>"
      ]
     },
     "execution_count": 150,
     "metadata": {},
     "output_type": "execute_result"
    },
    {
     "data": {
      "image/png": "[encoded data removed]",
      "text/plain": [
       "<Figure size 432x288 with 1 Axes>"
      ]
     },
     "metadata": {
      "needs_background": "light"
     },
     "output_type": "display_data"
    }
   ],
   "source": [
    "train_df[\"line_number\"].plot(kind='hist')"
   ]
  },
  {
   "cell_type": "code",
   "execution_count": 147,
   "id": "bd3e10e1",
   "metadata": {},
   "outputs": [
    {
     "data": {
      "text/plain": [
       "15.0"
      ]
     },
     "execution_count": 147,
     "metadata": {},
     "output_type": "execute_result"
    }
   ],
   "source": [
    "np.percentile(train_df[\"line_number\"].values,98)"
   ]
  },
  {
   "cell_type": "code",
   "execution_count": 152,
   "id": "71e1cca6",
   "metadata": {},
   "outputs": [
    {
     "data": {
      "text/plain": [
       "<tf.Tensor: shape=(180040, 15), dtype=float32, numpy=\n",
       "array([[1., 0., 0., ..., 0., 0., 0.],\n",
       "       [0., 1., 0., ..., 0., 0., 0.],\n",
       "       [0., 0., 1., ..., 0., 0., 0.],\n",
       "       ...,\n",
       "       [0., 0., 0., ..., 0., 0., 0.],\n",
       "       [0., 0., 0., ..., 0., 0., 0.],\n",
       "       [0., 0., 0., ..., 0., 0., 0.]], dtype=float32)>"
      ]
     },
     "execution_count": 152,
     "metadata": {},
     "output_type": "execute_result"
    }
   ],
   "source": [
    "tf.one_hot(train_df[\"line_number\"].to_numpy(),depth=15)"
   ]
  },
  {
   "cell_type": "code",
   "execution_count": 155,
   "id": "a158629b",
   "metadata": {},
   "outputs": [
    {
     "data": {
      "text/plain": [
       "(<tf.Tensor: shape=(10, 15), dtype=float32, numpy=\n",
       " array([[1., 0., 0., 0., 0., 0., 0., 0., 0., 0., 0., 0., 0., 0., 0.],\n",
       "        [0., 1., 0., 0., 0., 0., 0., 0., 0., 0., 0., 0., 0., 0., 0.],\n",
       "        [0., 0., 1., 0., 0., 0., 0., 0., 0., 0., 0., 0., 0., 0., 0.],\n",
       "        [0., 0., 0., 1., 0., 0., 0., 0., 0., 0., 0., 0., 0., 0., 0.],\n",
       "        [0., 0., 0., 0., 1., 0., 0., 0., 0., 0., 0., 0., 0., 0., 0.],\n",
       "        [0., 0., 0., 0., 0., 1., 0., 0., 0., 0., 0., 0., 0., 0., 0.],\n",
       "        [0., 0., 0., 0., 0., 0., 1., 0., 0., 0., 0., 0., 0., 0., 0.],\n",
       "        [0., 0., 0., 0., 0., 0., 0., 1., 0., 0., 0., 0., 0., 0., 0.],\n",
       "        [0., 0., 0., 0., 0., 0., 0., 0., 1., 0., 0., 0., 0., 0., 0.],\n",
       "        [0., 0., 0., 0., 0., 0., 0., 0., 0., 1., 0., 0., 0., 0., 0.]],\n",
       "       dtype=float32)>,\n",
       " TensorShape([180040, 15]))"
      ]
     },
     "execution_count": 155,
     "metadata": {},
     "output_type": "execute_result"
    }
   ],
   "source": [
    "# use tensorflow to create one-hot-encoded tensors\n",
    "train_line_numbers_one_hot = tf.one_hot(train_df[\"line_number\"].to_numpy(),depth=15)\n",
    "val_line_numbers_one_hot = tf.one_hot(val_df[\"line_number\"].to_numpy(),depth=15)\n",
    "test_line_numbers_one_hot = tf.one_hot(test_df[\"line_number\"].to_numpy(),depth=15)\n",
    "train_line_numbers_one_hot[:10],train_line_numbers_one_hot.shape"
   ]
  },
  {
   "cell_type": "markdown",
   "id": "ef377131",
   "metadata": {},
   "source": [
    "### do the same to total_lines"
   ]
  },
  {
   "cell_type": "code",
   "execution_count": 156,
   "id": "940c986c",
   "metadata": {},
   "outputs": [
    {
     "data": {
      "text/plain": [
       "11    24468\n",
       "10    23639\n",
       "12    22113\n",
       "9     19400\n",
       "13    18438\n",
       "14    14610\n",
       "8     12285\n",
       "15    10768\n",
       "7      7464\n",
       "16     7429\n",
       "17     5202\n",
       "6      3353\n",
       "18     3344\n",
       "19     2480\n",
       "20     1281\n",
       "5      1146\n",
       "21      770\n",
       "22      759\n",
       "23      264\n",
       "4       215\n",
       "24      200\n",
       "25      182\n",
       "26       81\n",
       "28       58\n",
       "3        32\n",
       "30       31\n",
       "27       28\n",
       "Name: total_lines, dtype: int64"
      ]
     },
     "execution_count": 156,
     "metadata": {},
     "output_type": "execute_result"
    }
   ],
   "source": [
    "train_df.total_lines.value_counts()"
   ]
  },
  {
   "cell_type": "code",
   "execution_count": 164,
   "id": "27a83da4",
   "metadata": {},
   "outputs": [
    {
     "data": {
      "text/plain": [
       "20.0"
      ]
     },
     "execution_count": 164,
     "metadata": {},
     "output_type": "execute_result"
    }
   ],
   "source": [
    "np.percentile(train_df.total_lines.values,98)"
   ]
  },
  {
   "cell_type": "code",
   "execution_count": 160,
   "id": "eebf3ae7",
   "metadata": {},
   "outputs": [
    {
     "data": {
      "text/plain": [
       "<AxesSubplot:ylabel='Frequency'>"
      ]
     },
     "execution_count": 160,
     "metadata": {},
     "output_type": "execute_result"
    },
    {
     "data": {
      "image/png": "[encoded data removed]",
      "text/plain": [
       "<Figure size 432x288 with 1 Axes>"
      ]
     },
     "metadata": {
      "needs_background": "light"
     },
     "output_type": "display_data"
    }
   ],
   "source": [
    "train_df.total_lines.plot.hist()"
   ]
  },
  {
   "cell_type": "code",
   "execution_count": 173,
   "id": "569f57f3",
   "metadata": {
    "scrolled": true
   },
   "outputs": [
    {
     "data": {
      "text/html": [
       "<div>\n",
       "<style scoped>\n",
       "    .dataframe tbody tr th:only-of-type {\n",
       "        vertical-align: middle;\n",
       "    }\n",
       "\n",
       "    .dataframe tbody tr th {\n",
       "        vertical-align: top;\n",
       "    }\n",
       "\n",
       "    .dataframe thead th {\n",
       "        text-align: right;\n",
       "    }\n",
       "</style>\n",
       "<table border=\"1\" class=\"dataframe\">\n",
       "  <thead>\n",
       "    <tr style=\"text-align: right;\">\n",
       "      <th></th>\n",
       "      <th>target</th>\n",
       "      <th>text</th>\n",
       "      <th>line_number</th>\n",
       "      <th>total_lines</th>\n",
       "    </tr>\n",
       "  </thead>\n",
       "  <tbody>\n",
       "    <tr>\n",
       "      <th>10464</th>\n",
       "      <td>OBJECTIVE</td>\n",
       "      <td>applied kinesiology ( ak ) is a diagnostic tec...</td>\n",
       "      <td>0</td>\n",
       "      <td>28</td>\n",
       "    </tr>\n",
       "    <tr>\n",
       "      <th>10465</th>\n",
       "      <td>OBJECTIVE</td>\n",
       "      <td>in essence , it posits that a question can be ...</td>\n",
       "      <td>1</td>\n",
       "      <td>28</td>\n",
       "    </tr>\n",
       "    <tr>\n",
       "      <th>10466</th>\n",
       "      <td>OBJECTIVE</td>\n",
       "      <td>this ak is presumed to have a diagnostic capab...</td>\n",
       "      <td>2</td>\n",
       "      <td>28</td>\n",
       "    </tr>\n",
       "    <tr>\n",
       "      <th>10467</th>\n",
       "      <td>OBJECTIVE</td>\n",
       "      <td>that being presumed , this study asks the foll...</td>\n",
       "      <td>3</td>\n",
       "      <td>28</td>\n",
       "    </tr>\n",
       "    <tr>\n",
       "      <th>10468</th>\n",
       "      <td>OBJECTIVE</td>\n",
       "      <td>( @ ) is this effect a transaction involving i...</td>\n",
       "      <td>4</td>\n",
       "      <td>28</td>\n",
       "    </tr>\n",
       "    <tr>\n",
       "      <th>10469</th>\n",
       "      <td>OBJECTIVE</td>\n",
       "      <td>( @ ) as an extension of question @ , is the r...</td>\n",
       "      <td>5</td>\n",
       "      <td>28</td>\n",
       "    </tr>\n",
       "    <tr>\n",
       "      <th>10470</th>\n",
       "      <td>OBJECTIVE</td>\n",
       "      <td>( @ ) does belief , expectation , gender , or ...</td>\n",
       "      <td>6</td>\n",
       "      <td>28</td>\n",
       "    </tr>\n",
       "    <tr>\n",
       "      <th>10471</th>\n",
       "      <td>METHODS</td>\n",
       "      <td>to answer these questions , which would help t...</td>\n",
       "      <td>7</td>\n",
       "      <td>28</td>\n",
       "    </tr>\n",
       "    <tr>\n",
       "      <th>10472</th>\n",
       "      <td>METHODS</td>\n",
       "      <td>grip strength being a self-administered ak tes...</td>\n",
       "      <td>8</td>\n",
       "      <td>28</td>\n",
       "    </tr>\n",
       "    <tr>\n",
       "      <th>10473</th>\n",
       "      <td>METHODS</td>\n",
       "      <td>for each trial , a pair of randomly numbered s...</td>\n",
       "      <td>9</td>\n",
       "      <td>28</td>\n",
       "    </tr>\n",
       "    <tr>\n",
       "      <th>10474</th>\n",
       "      <td>METHODS</td>\n",
       "      <td>in each bag , one vial contained saline soluti...</td>\n",
       "      <td>10</td>\n",
       "      <td>28</td>\n",
       "    </tr>\n",
       "    <tr>\n",
       "      <th>10475</th>\n",
       "      <td>METHODS</td>\n",
       "      <td>each trial consisted of a separate muscle test...</td>\n",
       "      <td>11</td>\n",
       "      <td>28</td>\n",
       "    </tr>\n",
       "    <tr>\n",
       "      <th>10476</th>\n",
       "      <td>METHODS</td>\n",
       "      <td>all present at the trials were blind as to whi...</td>\n",
       "      <td>12</td>\n",
       "      <td>28</td>\n",
       "    </tr>\n",
       "    <tr>\n",
       "      <th>10477</th>\n",
       "      <td>METHODS</td>\n",
       "      <td>and all who prepared the vials were blind to t...</td>\n",
       "      <td>13</td>\n",
       "      <td>28</td>\n",
       "    </tr>\n",
       "    <tr>\n",
       "      <th>10478</th>\n",
       "      <td>METHODS</td>\n",
       "      <td>the force used by the kinesiologists in each o...</td>\n",
       "      <td>14</td>\n",
       "      <td>28</td>\n",
       "    </tr>\n",
       "    <tr>\n",
       "      <th>10479</th>\n",
       "      <td>METHODS</td>\n",
       "      <td>the hand dynamometer trials were conducted wit...</td>\n",
       "      <td>15</td>\n",
       "      <td>28</td>\n",
       "    </tr>\n",
       "    <tr>\n",
       "      <th>10480</th>\n",
       "      <td>RESULTS</td>\n",
       "      <td>of the @ sets of trials , the toxic vial was i...</td>\n",
       "      <td>16</td>\n",
       "      <td>28</td>\n",
       "    </tr>\n",
       "    <tr>\n",
       "      <th>10481</th>\n",
       "      <td>RESULTS</td>\n",
       "      <td>results for two of the kinesiologists were alm...</td>\n",
       "      <td>17</td>\n",
       "      <td>28</td>\n",
       "    </tr>\n",
       "    <tr>\n",
       "      <th>10482</th>\n",
       "      <td>RESULTS</td>\n",
       "      <td>for the third kinesiologist , there was a one-...</td>\n",
       "      <td>18</td>\n",
       "      <td>28</td>\n",
       "    </tr>\n",
       "    <tr>\n",
       "      <th>10483</th>\n",
       "      <td>RESULTS</td>\n",
       "      <td>results for the dynamometer were also almost e...</td>\n",
       "      <td>19</td>\n",
       "      <td>28</td>\n",
       "    </tr>\n",
       "    <tr>\n",
       "      <th>10484</th>\n",
       "      <td>RESULTS</td>\n",
       "      <td>testing whether there was a significant differ...</td>\n",
       "      <td>20</td>\n",
       "      <td>28</td>\n",
       "    </tr>\n",
       "    <tr>\n",
       "      <th>10485</th>\n",
       "      <td>RESULTS</td>\n",
       "      <td>the final variable examined was gender .</td>\n",
       "      <td>21</td>\n",
       "      <td>28</td>\n",
       "    </tr>\n",
       "    <tr>\n",
       "      <th>10486</th>\n",
       "      <td>RESULTS</td>\n",
       "      <td>while there was no significant difference in p...</td>\n",
       "      <td>22</td>\n",
       "      <td>28</td>\n",
       "    </tr>\n",
       "    <tr>\n",
       "      <th>10487</th>\n",
       "      <td>RESULTS</td>\n",
       "      <td>of the @ sessions with females , only @ were s...</td>\n",
       "      <td>23</td>\n",
       "      <td>28</td>\n",
       "    </tr>\n",
       "    <tr>\n",
       "      <th>10488</th>\n",
       "      <td>RESULTS</td>\n",
       "      <td>however , given all of the ( @ ) tests perform...</td>\n",
       "      <td>24</td>\n",
       "      <td>28</td>\n",
       "    </tr>\n",
       "    <tr>\n",
       "      <th>10489</th>\n",
       "      <td>RESULTS</td>\n",
       "      <td>results indicate belief in whether the ak test...</td>\n",
       "      <td>25</td>\n",
       "      <td>28</td>\n",
       "    </tr>\n",
       "    <tr>\n",
       "      <th>10490</th>\n",
       "      <td>RESULTS</td>\n",
       "      <td>a ( @ ) test of the relationship between time ...</td>\n",
       "      <td>26</td>\n",
       "      <td>28</td>\n",
       "    </tr>\n",
       "    <tr>\n",
       "      <th>10491</th>\n",
       "      <td>RESULTS</td>\n",
       "      <td>the ( @ ) statistic for the relationship using...</td>\n",
       "      <td>27</td>\n",
       "      <td>28</td>\n",
       "    </tr>\n",
       "    <tr>\n",
       "      <th>10492</th>\n",
       "      <td>CONCLUSIONS</td>\n",
       "      <td>the data in this study , particularly when see...</td>\n",
       "      <td>28</td>\n",
       "      <td>28</td>\n",
       "    </tr>\n",
       "    <tr>\n",
       "      <th>178183</th>\n",
       "      <td>BACKGROUND</td>\n",
       "      <td>we investigated whether @ months of androgen s...</td>\n",
       "      <td>0</td>\n",
       "      <td>28</td>\n",
       "    </tr>\n",
       "    <tr>\n",
       "      <th>178184</th>\n",
       "      <td>METHODS</td>\n",
       "      <td>we did an open-label , randomised , @ factoria...</td>\n",
       "      <td>1</td>\n",
       "      <td>28</td>\n",
       "    </tr>\n",
       "    <tr>\n",
       "      <th>178185</th>\n",
       "      <td>METHODS</td>\n",
       "      <td>we randomly allocated patients by computer-gen...</td>\n",
       "      <td>2</td>\n",
       "      <td>28</td>\n",
       "    </tr>\n",
       "    <tr>\n",
       "      <th>178186</th>\n",
       "      <td>METHODS</td>\n",
       "      <td>patients in the control group were treated wit...</td>\n",
       "      <td>3</td>\n",
       "      <td>28</td>\n",
       "    </tr>\n",
       "    <tr>\n",
       "      <th>178187</th>\n",
       "      <td>METHODS</td>\n",
       "      <td>the primary endpoint was prostate cancer-speci...</td>\n",
       "      <td>4</td>\n",
       "      <td>28</td>\n",
       "    </tr>\n",
       "    <tr>\n",
       "      <th>178188</th>\n",
       "      <td>METHODS</td>\n",
       "      <td>this analysis represents the first , preplanne...</td>\n",
       "      <td>5</td>\n",
       "      <td>28</td>\n",
       "    </tr>\n",
       "    <tr>\n",
       "      <th>178189</th>\n",
       "      <td>METHODS</td>\n",
       "      <td>analysis was by intention-to-treat .</td>\n",
       "      <td>6</td>\n",
       "      <td>28</td>\n",
       "    </tr>\n",
       "    <tr>\n",
       "      <th>178190</th>\n",
       "      <td>METHODS</td>\n",
       "      <td>this trial is registered with clinicaltrials.g...</td>\n",
       "      <td>7</td>\n",
       "      <td>28</td>\n",
       "    </tr>\n",
       "    <tr>\n",
       "      <th>178191</th>\n",
       "      <td>RESULTS</td>\n",
       "      <td>between oct @ , @ , and aug @ , @ , @ men were...</td>\n",
       "      <td>8</td>\n",
       "      <td>28</td>\n",
       "    </tr>\n",
       "    <tr>\n",
       "      <th>178192</th>\n",
       "      <td>RESULTS</td>\n",
       "      <td>median follow-up was @ years ( iqr @-@ ) .</td>\n",
       "      <td>9</td>\n",
       "      <td>28</td>\n",
       "    </tr>\n",
       "    <tr>\n",
       "      <th>178193</th>\n",
       "      <td>RESULTS</td>\n",
       "      <td>cumulative incidences of prostate cancer-speci...</td>\n",
       "      <td>10</td>\n",
       "      <td>28</td>\n",
       "    </tr>\n",
       "    <tr>\n",
       "      <th>178194</th>\n",
       "      <td>RESULTS</td>\n",
       "      <td>cumulative incidence of all-cause mortality wa...</td>\n",
       "      <td>11</td>\n",
       "      <td>28</td>\n",
       "    </tr>\n",
       "    <tr>\n",
       "      <th>178195</th>\n",
       "      <td>RESULTS</td>\n",
       "      <td>neither prostate cancer-specific mortality nor...</td>\n",
       "      <td>12</td>\n",
       "      <td>28</td>\n",
       "    </tr>\n",
       "    <tr>\n",
       "      <th>178196</th>\n",
       "      <td>RESULTS</td>\n",
       "      <td>cumulative incidence of psa progression was @ ...</td>\n",
       "      <td>13</td>\n",
       "      <td>28</td>\n",
       "    </tr>\n",
       "    <tr>\n",
       "      <th>178197</th>\n",
       "      <td>RESULTS</td>\n",
       "      <td>compared with stas , no difference was noted i...</td>\n",
       "      <td>14</td>\n",
       "      <td>28</td>\n",
       "    </tr>\n",
       "    <tr>\n",
       "      <th>178198</th>\n",
       "      <td>RESULTS</td>\n",
       "      <td>cumulative incidence of local progression was ...</td>\n",
       "      <td>15</td>\n",
       "      <td>28</td>\n",
       "    </tr>\n",
       "    <tr>\n",
       "      <th>178199</th>\n",
       "      <td>RESULTS</td>\n",
       "      <td>cumulative incidences of bone progression were...</td>\n",
       "      <td>16</td>\n",
       "      <td>28</td>\n",
       "    </tr>\n",
       "    <tr>\n",
       "      <th>178200</th>\n",
       "      <td>RESULTS</td>\n",
       "      <td>compared with stas , stas plus zoledronic acid...</td>\n",
       "      <td>17</td>\n",
       "      <td>28</td>\n",
       "    </tr>\n",
       "    <tr>\n",
       "      <th>178201</th>\n",
       "      <td>RESULTS</td>\n",
       "      <td>cumulative incidence of distant progression wa...</td>\n",
       "      <td>18</td>\n",
       "      <td>28</td>\n",
       "    </tr>\n",
       "    <tr>\n",
       "      <th>178202</th>\n",
       "      <td>RESULTS</td>\n",
       "      <td>cumulative incidence of secondary therapeutic ...</td>\n",
       "      <td>19</td>\n",
       "      <td>28</td>\n",
       "    </tr>\n",
       "    <tr>\n",
       "      <th>178203</th>\n",
       "      <td>RESULTS</td>\n",
       "      <td>compared with stas , itas plus zoledronic acid...</td>\n",
       "      <td>20</td>\n",
       "      <td>28</td>\n",
       "    </tr>\n",
       "    <tr>\n",
       "      <th>178204</th>\n",
       "      <td>RESULTS</td>\n",
       "      <td>an interaction between trial factors was recor...</td>\n",
       "      <td>21</td>\n",
       "      <td>28</td>\n",
       "    </tr>\n",
       "    <tr>\n",
       "      <th>178205</th>\n",
       "      <td>RESULTS</td>\n",
       "      <td>post-hoc analyses suggested that the reduction...</td>\n",
       "      <td>22</td>\n",
       "      <td>28</td>\n",
       "    </tr>\n",
       "    <tr>\n",
       "      <th>178206</th>\n",
       "      <td>RESULTS</td>\n",
       "      <td>long-term morbidity and quality-of-life scores...</td>\n",
       "      <td>23</td>\n",
       "      <td>28</td>\n",
       "    </tr>\n",
       "    <tr>\n",
       "      <th>178207</th>\n",
       "      <td>CONCLUSIONS</td>\n",
       "      <td>compared with stas , itas plus zoledronic acid...</td>\n",
       "      <td>24</td>\n",
       "      <td>28</td>\n",
       "    </tr>\n",
       "    <tr>\n",
       "      <th>178208</th>\n",
       "      <td>CONCLUSIONS</td>\n",
       "      <td>nevertheless , these findings are based on sec...</td>\n",
       "      <td>25</td>\n",
       "      <td>28</td>\n",
       "    </tr>\n",
       "    <tr>\n",
       "      <th>178209</th>\n",
       "      <td>CONCLUSIONS</td>\n",
       "      <td>long - term follow-up is necessary , as is ext...</td>\n",
       "      <td>26</td>\n",
       "      <td>28</td>\n",
       "    </tr>\n",
       "    <tr>\n",
       "      <th>178210</th>\n",
       "      <td>CONCLUSIONS</td>\n",
       "      <td>stas plus zoledronic acid can be ruled out as ...</td>\n",
       "      <td>27</td>\n",
       "      <td>28</td>\n",
       "    </tr>\n",
       "    <tr>\n",
       "      <th>178211</th>\n",
       "      <td>BACKGROUND</td>\n",
       "      <td>national health and medical research council o...</td>\n",
       "      <td>28</td>\n",
       "      <td>28</td>\n",
       "    </tr>\n",
       "  </tbody>\n",
       "</table>\n",
       "</div>"
      ],
      "text/plain": [
       "             target                                               text  \\\n",
       "10464     OBJECTIVE  applied kinesiology ( ak ) is a diagnostic tec...   \n",
       "10465     OBJECTIVE  in essence , it posits that a question can be ...   \n",
       "10466     OBJECTIVE  this ak is presumed to have a diagnostic capab...   \n",
       "10467     OBJECTIVE  that being presumed , this study asks the foll...   \n",
       "10468     OBJECTIVE  ( @ ) is this effect a transaction involving i...   \n",
       "10469     OBJECTIVE  ( @ ) as an extension of question @ , is the r...   \n",
       "10470     OBJECTIVE  ( @ ) does belief , expectation , gender , or ...   \n",
       "10471       METHODS  to answer these questions , which would help t...   \n",
       "10472       METHODS  grip strength being a self-administered ak tes...   \n",
       "10473       METHODS  for each trial , a pair of randomly numbered s...   \n",
       "10474       METHODS  in each bag , one vial contained saline soluti...   \n",
       "10475       METHODS  each trial consisted of a separate muscle test...   \n",
       "10476       METHODS  all present at the trials were blind as to whi...   \n",
       "10477       METHODS  and all who prepared the vials were blind to t...   \n",
       "10478       METHODS  the force used by the kinesiologists in each o...   \n",
       "10479       METHODS  the hand dynamometer trials were conducted wit...   \n",
       "10480       RESULTS  of the @ sets of trials , the toxic vial was i...   \n",
       "10481       RESULTS  results for two of the kinesiologists were alm...   \n",
       "10482       RESULTS  for the third kinesiologist , there was a one-...   \n",
       "10483       RESULTS  results for the dynamometer were also almost e...   \n",
       "10484       RESULTS  testing whether there was a significant differ...   \n",
       "10485       RESULTS           the final variable examined was gender .   \n",
       "10486       RESULTS  while there was no significant difference in p...   \n",
       "10487       RESULTS  of the @ sessions with females , only @ were s...   \n",
       "10488       RESULTS  however , given all of the ( @ ) tests perform...   \n",
       "10489       RESULTS  results indicate belief in whether the ak test...   \n",
       "10490       RESULTS  a ( @ ) test of the relationship between time ...   \n",
       "10491       RESULTS  the ( @ ) statistic for the relationship using...   \n",
       "10492   CONCLUSIONS  the data in this study , particularly when see...   \n",
       "178183   BACKGROUND  we investigated whether @ months of androgen s...   \n",
       "178184      METHODS  we did an open-label , randomised , @ factoria...   \n",
       "178185      METHODS  we randomly allocated patients by computer-gen...   \n",
       "178186      METHODS  patients in the control group were treated wit...   \n",
       "178187      METHODS  the primary endpoint was prostate cancer-speci...   \n",
       "178188      METHODS  this analysis represents the first , preplanne...   \n",
       "178189      METHODS               analysis was by intention-to-treat .   \n",
       "178190      METHODS  this trial is registered with clinicaltrials.g...   \n",
       "178191      RESULTS  between oct @ , @ , and aug @ , @ , @ men were...   \n",
       "178192      RESULTS         median follow-up was @ years ( iqr @-@ ) .   \n",
       "178193      RESULTS  cumulative incidences of prostate cancer-speci...   \n",
       "178194      RESULTS  cumulative incidence of all-cause mortality wa...   \n",
       "178195      RESULTS  neither prostate cancer-specific mortality nor...   \n",
       "178196      RESULTS  cumulative incidence of psa progression was @ ...   \n",
       "178197      RESULTS  compared with stas , no difference was noted i...   \n",
       "178198      RESULTS  cumulative incidence of local progression was ...   \n",
       "178199      RESULTS  cumulative incidences of bone progression were...   \n",
       "178200      RESULTS  compared with stas , stas plus zoledronic acid...   \n",
       "178201      RESULTS  cumulative incidence of distant progression wa...   \n",
       "178202      RESULTS  cumulative incidence of secondary therapeutic ...   \n",
       "178203      RESULTS  compared with stas , itas plus zoledronic acid...   \n",
       "178204      RESULTS  an interaction between trial factors was recor...   \n",
       "178205      RESULTS  post-hoc analyses suggested that the reduction...   \n",
       "178206      RESULTS  long-term morbidity and quality-of-life scores...   \n",
       "178207  CONCLUSIONS  compared with stas , itas plus zoledronic acid...   \n",
       "178208  CONCLUSIONS  nevertheless , these findings are based on sec...   \n",
       "178209  CONCLUSIONS  long - term follow-up is necessary , as is ext...   \n",
       "178210  CONCLUSIONS  stas plus zoledronic acid can be ruled out as ...   \n",
       "178211   BACKGROUND  national health and medical research council o...   \n",
       "\n",
       "        line_number  total_lines  \n",
       "10464             0           28  \n",
       "10465             1           28  \n",
       "10466             2           28  \n",
       "10467             3           28  \n",
       "10468             4           28  \n",
       "10469             5           28  \n",
       "10470             6           28  \n",
       "10471             7           28  \n",
       "10472             8           28  \n",
       "10473             9           28  \n",
       "10474            10           28  \n",
       "10475            11           28  \n",
       "10476            12           28  \n",
       "10477            13           28  \n",
       "10478            14           28  \n",
       "10479            15           28  \n",
       "10480            16           28  \n",
       "10481            17           28  \n",
       "10482            18           28  \n",
       "10483            19           28  \n",
       "10484            20           28  \n",
       "10485            21           28  \n",
       "10486            22           28  \n",
       "10487            23           28  \n",
       "10488            24           28  \n",
       "10489            25           28  \n",
       "10490            26           28  \n",
       "10491            27           28  \n",
       "10492            28           28  \n",
       "178183            0           28  \n",
       "178184            1           28  \n",
       "178185            2           28  \n",
       "178186            3           28  \n",
       "178187            4           28  \n",
       "178188            5           28  \n",
       "178189            6           28  \n",
       "178190            7           28  \n",
       "178191            8           28  \n",
       "178192            9           28  \n",
       "178193           10           28  \n",
       "178194           11           28  \n",
       "178195           12           28  \n",
       "178196           13           28  \n",
       "178197           14           28  \n",
       "178198           15           28  \n",
       "178199           16           28  \n",
       "178200           17           28  \n",
       "178201           18           28  \n",
       "178202           19           28  \n",
       "178203           20           28  \n",
       "178204           21           28  \n",
       "178205           22           28  \n",
       "178206           23           28  \n",
       "178207           24           28  \n",
       "178208           25           28  \n",
       "178209           26           28  \n",
       "178210           27           28  \n",
       "178211           28           28  "
      ]
     },
     "execution_count": 173,
     "metadata": {},
     "output_type": "execute_result"
    }
   ],
   "source": [
    "train_df[train_df.total_lines==28]"
   ]
  },
  {
   "cell_type": "code",
   "execution_count": 169,
   "id": "31eb4972",
   "metadata": {},
   "outputs": [
    {
     "data": {
      "text/plain": [
       "target                                               CONCLUSIONS\n",
       "text           no such correlation between the fracture type ...\n",
       "line_number                                                   30\n",
       "total_lines                                                   30\n",
       "Name: 135320, dtype: object"
      ]
     },
     "execution_count": 169,
     "metadata": {},
     "output_type": "execute_result"
    }
   ],
   "source": [
    "train_df.iloc[135320]"
   ]
  },
  {
   "cell_type": "code",
   "execution_count": 174,
   "id": "19757d62",
   "metadata": {},
   "outputs": [
    {
     "data": {
      "text/plain": [
       "<tf.Tensor: shape=(20,), dtype=float32, numpy=\n",
       "array([0., 0., 0., 0., 0., 0., 0., 0., 0., 0., 0., 0., 0., 0., 0., 0., 0.,\n",
       "       0., 0., 0.], dtype=float32)>"
      ]
     },
     "execution_count": 174,
     "metadata": {},
     "output_type": "execute_result"
    }
   ],
   "source": [
    "train_total_lines_one_hot[10492\t]"
   ]
  },
  {
   "cell_type": "code",
   "execution_count": 171,
   "id": "8d48b902",
   "metadata": {},
   "outputs": [],
   "source": [
    "train_total_lines_one_hot = tf.one_hot(train_df.total_lines.to_numpy(),depth=20)\n",
    "val_total_lines_one_hot = tf.one_hot(val_df.total_lines.to_numpy(),depth=20)\n",
    "test_total_lines_one_hot = tf.one_hot(test_df.total_lines.to_numpy(),depth=20)"
   ]
  },
  {
   "cell_type": "code",
   "execution_count": 186,
   "id": "7f4d70f1",
   "metadata": {},
   "outputs": [],
   "source": [
    "\n",
    "# 1. Setup token inputs/model\n",
    "token_inputs = layers.Input(shape=[], dtype=tf.string, name=\"token_input\")\n",
    "token_embeddings = tf_hub_embedding_layer(token_inputs)\n",
    "token_output = layers.Dense(128, activation=\"relu\")(token_embeddings)\n",
    "token_model = tf.keras.Model(inputs=token_inputs,\n",
    "                             outputs=token_output)\n",
    "\n",
    "# 2. Setup char inputs/model\n",
    "char_inputs = layers.Input(shape=(1,), dtype=tf.string, name=\"char_input\")\n",
    "char_vectors = char_vectorizer(char_inputs)\n",
    "char_embeddings = Embedding_char(char_vectors)\n",
    "char_bi_lstm = layers.Bidirectional(layers.LSTM(24))(char_embeddings) # bi-LSTM shown in Figure 1 of https://arxiv.org/pdf/1612.05251.pdf\n",
    "char_model = tf.keras.Model(inputs=char_inputs,\n",
    "                            outputs=char_bi_lstm)\n",
    "\n",
    "line_number_inputs = layers.Input(shape=(15,),dtype=tf.float32, name=\"line_number_input\")\n",
    "outputs = layers.Dense(32,activation='relu')(line_number_inputs )\n",
    "line_model = tf.keras.Model(inputs=line_number_inputs,\n",
    "                            outputs=outputs)\n",
    "\n",
    "total_line_inputs = layers.Input(shape=(20,),dtype=tf.float32, name=\"total_line_input\")\n",
    "outputs = layers.Dense(32,activation='relu')(total_line_inputs)\n",
    "total_line_model = tf.keras.Model(inputs=total_line_inputs,\n",
    "                            outputs=outputs)\n",
    "\n",
    "# 3. Concatenate token and char inputs (create hybrid token embedding)\n",
    "token_char_concat = layers.Concatenate(name=\"token_char_hybrid\")([token_model.output, \n",
    "                                                                  char_model.output,\n",
    "                                                                 line_model.output,\n",
    "                                                                 total_line_model.output])\n",
    "\n",
    "# 4. Create output layers - addition of dropout discussed in 4.2 of https://arxiv.org/pdf/1612.05251.pdf\n",
    "combined_dropout = layers.Dropout(0.5)(token_char_concat)\n",
    "combined_dense = layers.Dense(200, activation=\"relu\")(combined_dropout) # slightly different to Figure 1 due to different shapes of token/char embedding layers\n",
    "final_dropout = layers.Dropout(0.5)(combined_dense)\n",
    "output_layer = layers.Dense(num_classes, activation=\"softmax\")(final_dropout)\n",
    "\n",
    "# 5. Construct model with char and token inputs\n",
    "model_5 = tf.keras.Model(inputs=[token_model.input, char_model.input,\n",
    "                             line_model.input,\n",
    "                             total_line_model.input],\n",
    "                         outputs=output_layer,\n",
    "                         name=\"model_5_token_and_char_embeddings_pos_embeddings\")"
   ]
  },
  {
   "cell_type": "code",
   "execution_count": 222,
   "id": "7910a557",
   "metadata": {},
   "outputs": [],
   "source": [
    "# 1. Setup token inputs/model\n",
    "token_inputs = layers.Input(shape=[], dtype=tf.string, name=\"token_input\")\n",
    "token_embeddings = tf_hub_embedding_layer(token_inputs)\n",
    "token_output = layers.Dense(128, activation=\"relu\")(token_embeddings)\n",
    "token_model = tf.keras.Model(inputs=token_inputs,\n",
    "                             outputs=token_output)\n",
    "\n",
    "# 2. Setup char inputs/model\n",
    "char_inputs = layers.Input(shape=(1,), dtype=tf.string, name=\"char_input\")\n",
    "char_vectors = char_vectorizer(char_inputs)\n",
    "char_embeddings = Embedding_char(char_vectors)\n",
    "char_bi_lstm = layers.Bidirectional(layers.LSTM(24))(char_embeddings) # bi-LSTM shown in Figure 1 of https://arxiv.org/pdf/1612.05251.pdf\n",
    "char_model = tf.keras.Model(inputs=char_inputs,\n",
    "                            outputs=char_bi_lstm)\n",
    "\n",
    "line_number_inputs = layers.Input(shape=(15,),dtype=tf.float32, name=\"line_number_input\")\n",
    "outputs = layers.Dense(32,activation='relu')(line_number_inputs )\n",
    "line_model = tf.keras.Model(inputs=line_number_inputs,\n",
    "                            outputs=outputs)\n",
    "\n",
    "total_line_inputs = layers.Input(shape=(20,),dtype=tf.float32, name=\"total_line_input\")\n",
    "outputs = layers.Dense(32,activation='relu')(total_line_inputs)\n",
    "total_line_model = tf.keras.Model(inputs=total_line_inputs,\n",
    "                            outputs=outputs)\n",
    "\n",
    "\n",
    "\n",
    "combined_embeddings= layers.Concatenate(name=\"token_char_hybrid\")([token_model.output, \n",
    "                                                                  char_model.output,])\n",
    "\n",
    "z = layers.Dense(256,activation='relu')(combined_embeddings)\n",
    "z = layers.Dropout(0.5)(z)\n",
    "\n",
    "tribid_embeddings = layers.Concatenate(name=\"pos_token_char_hybrid\")([line_model.output, \n",
    "                                                                  total_line_model.output,\n",
    "                                                                 z])\n",
    "\n",
    "output_layer = layers.Dense(num_classes, activation=\"softmax\")(tribid_embeddings)\n",
    "\n",
    "model_5 = tf.keras.Model(inputs=[line_model.input,\n",
    "                                total_line_model.input,\n",
    "                                token_model.input,\n",
    "                                char_model.input],\n",
    "                        outputs=output_layer,\n",
    "                        name=\"tribrid_embedding_model\")"
   ]
  },
  {
   "cell_type": "code",
   "execution_count": 223,
   "id": "9ab76c9f",
   "metadata": {
    "scrolled": false
   },
   "outputs": [
    {
     "data": {
      "image/png": "[encoded data removed]",
      "text/plain": [
       "<IPython.core.display.Image object>"
      ]
     },
     "execution_count": 223,
     "metadata": {},
     "output_type": "execute_result"
    }
   ],
   "source": [
    "plot_model(model_5,show_shapes=True)"
   ]
  },
  {
   "cell_type": "code",
   "execution_count": 224,
   "id": "535ddb6a",
   "metadata": {},
   "outputs": [],
   "source": [
    "model_5.compile(loss=tf.keras.losses.CategoricalCrossentropy(label_smoothing=0.2),optimizer='adam',\n",
    "               metrics=['accuracy'])"
   ]
  },
  {
   "cell_type": "code",
   "execution_count": 225,
   "id": "eda33a7a",
   "metadata": {},
   "outputs": [],
   "source": [
    "train_char_token_pos_data = tf.data.Dataset.from_tensor_slices((train_line_numbers_one_hot,train_total_lines_one_hot,train_sentences,train_chars))\n",
    "train_char_token_pos_labels = tf.data.Dataset.from_tensor_slices(train_labels_one_hot) # make labels\n",
    "train_char_token_pos_dataset = tf.data.Dataset.zip((train_char_token_pos_data,train_char_token_pos_labels))\n",
    "\n",
    "train_char_token_pos_dataset = train_char_token_pos_dataset.batch(32).prefetch(tf.data.AUTOTUNE)                                                   \n",
    "\n",
    "val_char_token_pos_data = tf.data.Dataset.from_tensor_slices((val_line_numbers_one_hot,val_total_lines_one_hot,val_sentences,val_chars))\n",
    "val_char_token_pos_labels = tf.data.Dataset.from_tensor_slices(val_labels_one_hot) # make labels\n",
    "\n",
    "val_char_token_pos_dataset = tf.data.Dataset.zip((val_char_token_pos_data,val_char_token_pos_labels))\n",
    "                                                   \n",
    "val_char_token_pos_dataset = val_char_token_pos_dataset.batch(32).prefetch(tf.data.AUTOTUNE)  "
   ]
  },
  {
   "cell_type": "code",
   "execution_count": 226,
   "id": "7af05add",
   "metadata": {},
   "outputs": [
    {
     "data": {
      "text/plain": [
       "(<PrefetchDataset element_spec=((TensorSpec(shape=(None, 15), dtype=tf.float32, name=None), TensorSpec(shape=(None, 20), dtype=tf.float32, name=None), TensorSpec(shape=(None,), dtype=tf.string, name=None), TensorSpec(shape=(None,), dtype=tf.string, name=None)), TensorSpec(shape=(None, 5), dtype=tf.float64, name=None))>,\n",
       " <PrefetchDataset element_spec=((TensorSpec(shape=(None, 15), dtype=tf.float32, name=None), TensorSpec(shape=(None, 20), dtype=tf.float32, name=None), TensorSpec(shape=(None,), dtype=tf.string, name=None), TensorSpec(shape=(None,), dtype=tf.string, name=None)), TensorSpec(shape=(None, 5), dtype=tf.float64, name=None))>)"
      ]
     },
     "execution_count": 226,
     "metadata": {},
     "output_type": "execute_result"
    }
   ],
   "source": [
    "train_char_token_pos_dataset,val_char_token_pos_dataset"
   ]
  },
  {
   "cell_type": "code",
   "execution_count": 227,
   "id": "080e7613",
   "metadata": {},
   "outputs": [
    {
     "name": "stdout",
     "output_type": "stream",
     "text": [
      "Epoch 1/5\n",
      "562/562 [==============================] - 58s 86ms/step - loss: 1.0976 - accuracy: 0.7190 - val_loss: 0.9845 - val_accuracy: 0.8009\n",
      "Epoch 2/5\n",
      "562/562 [==============================] - 37s 67ms/step - loss: 0.9676 - accuracy: 0.8144 - val_loss: 0.9505 - val_accuracy: 0.8231\n",
      "Epoch 3/5\n",
      "562/562 [==============================] - 33s 59ms/step - loss: 0.9500 - accuracy: 0.8226 - val_loss: 0.9398 - val_accuracy: 0.8344\n",
      "Epoch 4/5\n",
      "562/562 [==============================] - 38s 68ms/step - loss: 0.9389 - accuracy: 0.8372 - val_loss: 0.9299 - val_accuracy: 0.8368\n",
      "Epoch 5/5\n",
      "562/562 [==============================] - 35s 62ms/step - loss: 0.9362 - accuracy: 0.8366 - val_loss: 0.9244 - val_accuracy: 0.8421\n"
     ]
    }
   ],
   "source": [
    "# Fit the model on tokens and chars\n",
    "model_5_history = model_5.fit(train_char_token_pos_dataset, # train on dataset of token and characters\n",
    "                              steps_per_epoch=int(0.1 * len(train_char_token_pos_dataset)),\n",
    "                              epochs=5,\n",
    "                              validation_data=val_char_token_pos_dataset,\n",
    "                              validation_steps=int(0.1 * len(val_char_token_pos_dataset)))"
   ]
  },
  {
   "cell_type": "code",
   "execution_count": 232,
   "id": "8a9094fb",
   "metadata": {},
   "outputs": [],
   "source": [
    "model_5_pred_probs = model_5.predict(val_char_token_pos_dataset)"
   ]
  },
  {
   "cell_type": "code",
   "execution_count": 234,
   "id": "aaa2cd64",
   "metadata": {},
   "outputs": [
    {
     "data": {
      "text/plain": [
       "<tf.Tensor: shape=(30212,), dtype=int64, numpy=array([0, 0, 0, ..., 4, 4, 1], dtype=int64)>"
      ]
     },
     "execution_count": 234,
     "metadata": {},
     "output_type": "execute_result"
    }
   ],
   "source": [
    "model_5_preds = tf.argmax(model_5_pred_probs,axis=1)\n",
    "model_5_preds"
   ]
  },
  {
   "cell_type": "code",
   "execution_count": 237,
   "id": "647808c6",
   "metadata": {},
   "outputs": [
    {
     "data": {
      "text/plain": [
       "{'accuracy': 84.27115053621078,\n",
       " 'precision': 0.8451501555224132,\n",
       " 'recall': 0.8427115053621078,\n",
       " 'f1': 0.8390221963838699}"
      ]
     },
     "execution_count": 237,
     "metadata": {},
     "output_type": "execute_result"
    }
   ],
   "source": [
    "model_5_results = calculate_results(val_labels_encoded,model_5_preds)\n",
    "model_5_results"
   ]
  },
  {
   "cell_type": "code",
   "execution_count": 238,
   "id": "df6ca9cf",
   "metadata": {},
   "outputs": [
    {
     "data": {
      "text/plain": [
       "{'accuracy': 74.8576724480339,\n",
       " 'precision': 0.743984314598593,\n",
       " 'recall': 0.748576724480339,\n",
       " 'f1': 0.7430911549217798}"
      ]
     },
     "execution_count": 238,
     "metadata": {},
     "output_type": "execute_result"
    }
   ],
   "source": [
    "model_4_results"
   ]
  },
  {
   "cell_type": "markdown",
   "id": "c7da166e",
   "metadata": {},
   "source": [
    "## Compare all model results"
   ]
  },
  {
   "cell_type": "code",
   "execution_count": 252,
   "id": "0e164b29",
   "metadata": {},
   "outputs": [
    {
     "data": {
      "text/html": [
       "<div>\n",
       "<style scoped>\n",
       "    .dataframe tbody tr th:only-of-type {\n",
       "        vertical-align: middle;\n",
       "    }\n",
       "\n",
       "    .dataframe tbody tr th {\n",
       "        vertical-align: top;\n",
       "    }\n",
       "\n",
       "    .dataframe thead th {\n",
       "        text-align: right;\n",
       "    }\n",
       "</style>\n",
       "<table border=\"1\" class=\"dataframe\">\n",
       "  <thead>\n",
       "    <tr style=\"text-align: right;\">\n",
       "      <th></th>\n",
       "      <th>accuracy</th>\n",
       "      <th>precision</th>\n",
       "      <th>recall</th>\n",
       "      <th>f1</th>\n",
       "    </tr>\n",
       "  </thead>\n",
       "  <tbody>\n",
       "    <tr>\n",
       "      <th>baseline</th>\n",
       "      <td>71.667496</td>\n",
       "      <td>0.712432</td>\n",
       "      <td>0.716675</td>\n",
       "      <td>0.692510</td>\n",
       "    </tr>\n",
       "    <tr>\n",
       "      <th>custom_token_embed_conv1d</th>\n",
       "      <td>79.392294</td>\n",
       "      <td>0.791313</td>\n",
       "      <td>0.793923</td>\n",
       "      <td>0.791407</td>\n",
       "    </tr>\n",
       "    <tr>\n",
       "      <th>pretrained_token_embed</th>\n",
       "      <td>74.725275</td>\n",
       "      <td>0.743316</td>\n",
       "      <td>0.747253</td>\n",
       "      <td>0.741600</td>\n",
       "    </tr>\n",
       "    <tr>\n",
       "      <th>custom_char_embed_conv1d</th>\n",
       "      <td>67.724745</td>\n",
       "      <td>0.680375</td>\n",
       "      <td>0.677247</td>\n",
       "      <td>0.671934</td>\n",
       "    </tr>\n",
       "    <tr>\n",
       "      <th>hybrid_char_token_embed</th>\n",
       "      <td>74.857672</td>\n",
       "      <td>0.743984</td>\n",
       "      <td>0.748577</td>\n",
       "      <td>0.743091</td>\n",
       "    </tr>\n",
       "    <tr>\n",
       "      <th>tribrid_pos_char_token_embed</th>\n",
       "      <td>84.271151</td>\n",
       "      <td>0.845150</td>\n",
       "      <td>0.842712</td>\n",
       "      <td>0.839022</td>\n",
       "    </tr>\n",
       "  </tbody>\n",
       "</table>\n",
       "</div>"
      ],
      "text/plain": [
       "                               accuracy  precision    recall        f1\n",
       "baseline                      71.667496   0.712432  0.716675  0.692510\n",
       "custom_token_embed_conv1d     79.392294   0.791313  0.793923  0.791407\n",
       "pretrained_token_embed        74.725275   0.743316  0.747253  0.741600\n",
       "custom_char_embed_conv1d      67.724745   0.680375  0.677247  0.671934\n",
       "hybrid_char_token_embed       74.857672   0.743984  0.748577  0.743091\n",
       "tribrid_pos_char_token_embed  84.271151   0.845150  0.842712  0.839022"
      ]
     },
     "execution_count": 252,
     "metadata": {},
     "output_type": "execute_result"
    }
   ],
   "source": [
    "# Combine model results into a DataFrame\n",
    "all_model_results = pd.DataFrame({\"baseline\": baseline_results,\n",
    "                                  \"custom_token_embed_conv1d\": model_1_results,\n",
    "                                  \"pretrained_token_embed\": model_2_results,\n",
    "                                  \"custom_char_embed_conv1d\": model_3_results,\n",
    "                                  \"hybrid_char_token_embed\": model_4_results,\n",
    "                                  \"tribrid_pos_char_token_embed\": model_5_results})\n",
    "all_model_results = all_model_results.transpose()\n",
    "all_model_results"
   ]
  },
  {
   "cell_type": "code",
   "execution_count": 255,
   "id": "66bd7bb5",
   "metadata": {},
   "outputs": [],
   "source": [
    "all_model_results[\"accuracy\"] = all_model_results[\"accuracy\"]/100"
   ]
  },
  {
   "cell_type": "code",
   "execution_count": 259,
   "id": "03b0a6e9",
   "metadata": {},
   "outputs": [
    {
     "data": {
      "image/png": "[encoded data removed]",
      "text/plain": [
       "<Figure size 864x576 with 1 Axes>"
      ]
     },
     "metadata": {
      "needs_background": "light"
     },
     "output_type": "display_data"
    }
   ],
   "source": [
    "all_model_results.plot(figsize=(12,8),kind='bar').legend(bbox_to_anchor=(1.0,1.0));"
   ]
  },
  {
   "cell_type": "code",
   "execution_count": 262,
   "id": "053868b9",
   "metadata": {},
   "outputs": [
    {
     "data": {
      "text/plain": [
       "<AxesSubplot:>"
      ]
     },
     "execution_count": 262,
     "metadata": {},
     "output_type": "execute_result"
    },
    {
     "data": {
      "image/png": "[encoded data removed]",
      "text/plain": [
       "<Figure size 432x288 with 1 Axes>"
      ]
     },
     "metadata": {
      "needs_background": "light"
     },
     "output_type": "display_data"
    }
   ],
   "source": [
    "all_model_results.sort_values(\"f1\")[\"f1\"].plot(kind='bar')"
   ]
  },
  {
   "cell_type": "code",
   "execution_count": 263,
   "id": "ede67abf",
   "metadata": {},
   "outputs": [
    {
     "name": "stderr",
     "output_type": "stream",
     "text": [
      "WARNING:absl:Found untraced functions such as lstm_cell_40_layer_call_fn, lstm_cell_40_layer_call_and_return_conditional_losses, lstm_cell_41_layer_call_fn, lstm_cell_41_layer_call_and_return_conditional_losses while saving (showing 4 of 4). These functions will not be directly callable after loading.\n"
     ]
    },
    {
     "name": "stdout",
     "output_type": "stream",
     "text": [
      "INFO:tensorflow:Assets written to: skimlit_tribrid_model\\assets\n"
     ]
    },
    {
     "name": "stderr",
     "output_type": "stream",
     "text": [
      "INFO:tensorflow:Assets written to: skimlit_tribrid_model\\assets\n",
      "WARNING:absl:<keras.layers.recurrent.LSTMCell object at 0x000001941B413490> has the same name 'LSTMCell' as a built-in Keras object. Consider renaming <class 'keras.layers.recurrent.LSTMCell'> to avoid naming conflicts when loading with `tf.keras.models.load_model`. If renaming is not possible, pass the object in the `custom_objects` parameter of the load function.\n",
      "WARNING:absl:<keras.layers.recurrent.LSTMCell object at 0x000001941B3E68B0> has the same name 'LSTMCell' as a built-in Keras object. Consider renaming <class 'keras.layers.recurrent.LSTMCell'> to avoid naming conflicts when loading with `tf.keras.models.load_model`. If renaming is not possible, pass the object in the `custom_objects` parameter of the load function.\n"
     ]
    }
   ],
   "source": [
    "model_5.save(\"skimlit_tribrid_model\")"
   ]
  },
  {
   "cell_type": "code",
   "execution_count": 264,
   "id": "a0483591",
   "metadata": {},
   "outputs": [],
   "source": [
    "loaded_model = tf.keras.models.load_model(\"skimlit_tribrid_model/\")"
   ]
  },
  {
   "cell_type": "code",
   "execution_count": 265,
   "id": "eb02ee6e",
   "metadata": {},
   "outputs": [
    {
     "data": {
      "text/plain": [
       "<tf.Tensor: shape=(10,), dtype=int64, numpy=array([0, 0, 0, 2, 2, 4, 4, 4, 4, 1], dtype=int64)>"
      ]
     },
     "execution_count": 265,
     "metadata": {},
     "output_type": "execute_result"
    }
   ],
   "source": [
    "loaded_pred_probs = loaded_model.predict(val_char_token_pos_dataset)\n",
    "loaded_preds = tf.argmax(loaded_pred_probs,axis=1)\n",
    "loaded_preds[:10]"
   ]
  },
  {
   "cell_type": "code",
   "execution_count": 266,
   "id": "46ab3f8e",
   "metadata": {},
   "outputs": [],
   "source": [
    "loaded_model_results = calculate_results(val_labels_encoded,loaded_preds)"
   ]
  },
  {
   "cell_type": "code",
   "execution_count": 268,
   "id": "8beb7bf4",
   "metadata": {},
   "outputs": [
    {
     "data": {
      "text/plain": [
       "{'accuracy': 84.27115053621078,\n",
       " 'precision': 0.8451501555224132,\n",
       " 'recall': 0.8427115053621078,\n",
       " 'f1': 0.8390221963838699}"
      ]
     },
     "execution_count": 268,
     "metadata": {},
     "output_type": "execute_result"
    }
   ],
   "source": [
    "loaded_model_results"
   ]
  },
  {
   "cell_type": "code",
   "execution_count": 267,
   "id": "1037c501",
   "metadata": {},
   "outputs": [
    {
     "data": {
      "text/plain": [
       "{'accuracy': 84.27115053621078,\n",
       " 'precision': 0.8451501555224132,\n",
       " 'recall': 0.8427115053621078,\n",
       " 'f1': 0.8390221963838699}"
      ]
     },
     "execution_count": 267,
     "metadata": {},
     "output_type": "execute_result"
    }
   ],
   "source": [
    "model_5_results"
   ]
  },
  {
   "cell_type": "code",
   "execution_count": 269,
   "id": "cf6b18c8",
   "metadata": {},
   "outputs": [
    {
     "name": "stdout",
     "output_type": "stream",
     "text": [
      "Model: \"tribrid_embedding_model\"\n",
      "__________________________________________________________________________________________________\n",
      " Layer (type)                   Output Shape         Param #     Connected to                     \n",
      "==================================================================================================\n",
      " char_input (InputLayer)        [(None, 1)]          0           []                               \n",
      "                                                                                                  \n",
      " token_input (InputLayer)       [(None,)]            0           []                               \n",
      "                                                                                                  \n",
      " char_vectorizer (TextVectoriza  (None, 290)         0           ['char_input[0][0]']             \n",
      " tion)                                                                                            \n",
      "                                                                                                  \n",
      " universal_sentence_encoder (Ke  (None, 512)         256797824   ['token_input[0][0]']            \n",
      " rasLayer)                                                                                        \n",
      "                                                                                                  \n",
      " char_embed (Embedding)         (None, 290, 25)      700         ['char_vectorizer[0][0]']        \n",
      "                                                                                                  \n",
      " dense_58 (Dense)               (None, 128)          65664       ['universal_sentence_encoder[0][0\n",
      "                                                                 ]']                              \n",
      "                                                                                                  \n",
      " bidirectional_13 (Bidirectiona  (None, 48)          9600        ['char_embed[0][0]']             \n",
      " l)                                                                                               \n",
      "                                                                                                  \n",
      " token_char_hybrid (Concatenate  (None, 176)         0           ['dense_58[0][0]',               \n",
      " )                                                                'bidirectional_13[0][0]']       \n",
      "                                                                                                  \n",
      " line_number_input (InputLayer)  [(None, 15)]        0           []                               \n",
      "                                                                                                  \n",
      " total_line_input (InputLayer)  [(None, 20)]         0           []                               \n",
      "                                                                                                  \n",
      " dense_61 (Dense)               (None, 256)          45312       ['token_char_hybrid[0][0]']      \n",
      "                                                                                                  \n",
      " dense_59 (Dense)               (None, 32)           512         ['line_number_input[0][0]']      \n",
      "                                                                                                  \n",
      " dense_60 (Dense)               (None, 32)           672         ['total_line_input[0][0]']       \n",
      "                                                                                                  \n",
      " dropout_20 (Dropout)           (None, 256)          0           ['dense_61[0][0]']               \n",
      "                                                                                                  \n",
      " pos_token_char_hybrid (Concate  (None, 320)         0           ['dense_59[0][0]',               \n",
      " nate)                                                            'dense_60[0][0]',               \n",
      "                                                                  'dropout_20[0][0]']             \n",
      "                                                                                                  \n",
      " dense_62 (Dense)               (None, 5)            1605        ['pos_token_char_hybrid[0][0]']  \n",
      "                                                                                                  \n",
      "==================================================================================================\n",
      "Total params: 256,921,889\n",
      "Trainable params: 124,065\n",
      "Non-trainable params: 256,797,824\n",
      "__________________________________________________________________________________________________\n"
     ]
    }
   ],
   "source": [
    "loaded_model.summary()"
   ]
  },
  {
   "cell_type": "code",
   "execution_count": 271,
   "id": "ac718942",
   "metadata": {},
   "outputs": [
    {
     "data": {
      "image/png": "[encoded data removed]",
      "text/plain": [
       "<IPython.core.display.Image object>"
      ]
     },
     "execution_count": 271,
     "metadata": {},
     "output_type": "execute_result"
    }
   ],
   "source": [
    "plot_model(loaded_model,show_shapes=True)"
   ]
  },
  {
   "cell_type": "code",
   "execution_count": 230,
   "id": "0c5ece71",
   "metadata": {
    "scrolled": false
   },
   "outputs": [
    {
     "data": {
      "text/plain": [
       "5626"
      ]
     },
     "execution_count": 230,
     "metadata": {},
     "output_type": "execute_result"
    }
   ],
   "source": [
    "len(train_sentences)//32"
   ]
  },
  {
   "cell_type": "code",
   "execution_count": 231,
   "id": "28f46c39",
   "metadata": {},
   "outputs": [
    {
     "data": {
      "text/plain": [
       "562.7"
      ]
     },
     "execution_count": 231,
     "metadata": {},
     "output_type": "execute_result"
    }
   ],
   "source": [
    "len(train_char_dataset)*0.1"
   ]
  },
  {
   "cell_type": "code",
   "execution_count": null,
   "id": "d7a8b431",
   "metadata": {},
   "outputs": [],
   "source": [
    "train_labels_one_hot"
   ]
  },
  {
   "cell_type": "code",
   "execution_count": null,
   "id": "3963c372",
   "metadata": {},
   "outputs": [],
   "source": [
    "train"
   ]
  },
  {
   "cell_type": "code",
   "execution_count": null,
   "id": "e0d842e2",
   "metadata": {},
   "outputs": [],
   "source": []
  },
  {
   "cell_type": "code",
   "execution_count": null,
   "id": "408ae9dc",
   "metadata": {},
   "outputs": [],
   "source": [
    "## Adapt character vectorizer to training character\n",
    "\n",
    "char_vectorizer.adapt(train_chars)\n",
    "\n"
   ]
  },
  {
   "cell_type": "code",
   "execution_count": null,
   "id": "f451187e",
   "metadata": {},
   "outputs": [],
   "source": [
    "char_vocab = char_vectorizer.get_vocabulary()\n",
    "len(char_vocab)"
   ]
  },
  {
   "cell_type": "code",
   "execution_count": null,
   "id": "ff08ac67",
   "metadata": {},
   "outputs": [],
   "source": [
    "char_vocab[:5]"
   ]
  },
  {
   "cell_type": "code",
   "execution_count": null,
   "id": "5751b116",
   "metadata": {},
   "outputs": [],
   "source": [
    "target_sentenece = random.choice(train_chars)\n",
    "print(f\"Text:\\n{target_sentenece}\")\n",
    "vectorized_sentence = char_vectorizer([target_sentenece])\n",
    "print(f\"Vectorized text:{vectorized_sentence}\")\n",
    "# embedded_sentence = token_embed(vectorized_sentence)\n",
    "# print(f\"Embbed text:{embedded_sentence}\")\n",
    "# print(f\"Embbed text shape:{embedded_sentence.shape}\")"
   ]
  },
  {
   "cell_type": "code",
   "execution_count": null,
   "id": "35d3f984",
   "metadata": {},
   "outputs": [],
   "source": []
  },
  {
   "cell_type": "code",
   "execution_count": null,
   "id": "eae345c4",
   "metadata": {},
   "outputs": [],
   "source": []
  },
  {
   "cell_type": "code",
   "execution_count": null,
   "id": "c00d821c",
   "metadata": {},
   "outputs": [],
   "source": [
    "train_sentences[:5]"
   ]
  },
  {
   "cell_type": "code",
   "execution_count": null,
   "id": "81a44ec6",
   "metadata": {},
   "outputs": [],
   "source": [
    "\" \".join(list(train_sentences[0]))[:10]"
   ]
  },
  {
   "cell_type": "code",
   "execution_count": null,
   "id": "73228efb",
   "metadata": {},
   "outputs": [],
   "source": [
    "[train_se]"
   ]
  },
  {
   "cell_type": "code",
   "execution_count": null,
   "id": "adf5de28",
   "metadata": {},
   "outputs": [],
   "source": [
    "token"
   ]
  },
  {
   "cell_type": "code",
   "execution_count": null,
   "id": "f54f9245",
   "metadata": {},
   "outputs": [],
   "source": []
  },
  {
   "cell_type": "code",
   "execution_count": null,
   "id": "c4c971d2",
   "metadata": {},
   "outputs": [],
   "source": []
  },
  {
   "cell_type": "code",
   "execution_count": null,
   "id": "d505006e",
   "metadata": {},
   "outputs": [],
   "source": [
    "import regex as re"
   ]
  },
  {
   "cell_type": "code",
   "execution_count": null,
   "id": "9c7bdcee",
   "metadata": {},
   "outputs": [],
   "source": [
    " obj=[]\n",
    "    methods=[]\n",
    "    background=[]\n",
    "    conc=[]\n",
    "    results=[]"
   ]
  },
  {
   "cell_type": "code",
   "execution_count": null,
   "id": "88808b3a",
   "metadata": {},
   "outputs": [],
   "source": [
    "\n",
    "def prep(filename):\n",
    "    prep_dict = {}\n",
    "    \n",
    "   # texts = get_lines(filename)\n",
    "    for text in filename:\n",
    "        regex_search=re.search(\"([A-Z]*)\\t(.*)\",text)\n",
    "        if regex_search is None:\n",
    "            continue\n",
    "        elif type(regex_search)!= None and regex_search.group(1) not in prep_dict.keys():\n",
    "            prep_dict[regex_search.group(1)] = []\n",
    "            prep_dict[regex_search.group(1)].append(regex_search.group(2))\n",
    "        else:\n",
    "            prep_dict[regex_search.group(1)].append(regex_search.group(2))\n",
    "    return prep_dict\n",
    "            "
   ]
  },
  {
   "cell_type": "code",
   "execution_count": null,
   "id": "3e804388",
   "metadata": {},
   "outputs": [],
   "source": [
    "filenames[0]"
   ]
  },
  {
   "cell_type": "code",
   "execution_count": null,
   "id": "02c9c16c",
   "metadata": {},
   "outputs": [],
   "source": [
    "p=prep(train_lines)"
   ]
  },
  {
   "cell_type": "code",
   "execution_count": null,
   "id": "4e3e1da0",
   "metadata": {},
   "outputs": [],
   "source": [
    "len(p[\"OBJECTIVE\"])"
   ]
  },
  {
   "cell_type": "code",
   "execution_count": null,
   "id": "c3901c30",
   "metadata": {},
   "outputs": [],
   "source": [
    "test=re.search(\"([A-Z]*)\\t(.*)\",train_lines[0])"
   ]
  },
  {
   "cell_type": "code",
   "execution_count": null,
   "id": "871e0cf7",
   "metadata": {},
   "outputs": [],
   "source": [
    "len(test)"
   ]
  },
  {
   "cell_type": "code",
   "execution_count": null,
   "id": "9925162a",
   "metadata": {},
   "outputs": [],
   "source": [
    "with open(filenames[0],'r') as f:\n",
    "    print(f.readlines())"
   ]
  },
  {
   "cell_type": "code",
   "execution_count": null,
   "id": "f38b567a",
   "metadata": {},
   "outputs": [],
   "source": [
    "os.listdir(r\"E:\\jupyter\\udemy\\ztm_Tensor\\Skimlit\\pubmed-rct-master\\PubMed_20k_RCT_numbers_replaced_with_at_sign\")"
   ]
  }
 ],
 "metadata": {
  "kernelspec": {
   "display_name": "Python 3 (ipykernel)",
   "language": "python",
   "name": "python3"
  },
  "language_info": {
   "codemirror_mode": {
    "name": "ipython",
    "version": 3
   },
   "file_extension": ".py",
   "mimetype": "text/x-python",
   "name": "python",
   "nbconvert_exporter": "python",
   "pygments_lexer": "ipython3",
   "version": "3.9.7"
  }
 },
 "nbformat": 4,
 "nbformat_minor": 5
}
